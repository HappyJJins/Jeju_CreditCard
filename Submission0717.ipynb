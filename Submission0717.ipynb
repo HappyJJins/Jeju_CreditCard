{
  "nbformat": 4,
  "nbformat_minor": 0,
  "metadata": {
    "colab": {
      "name": "Submission0717.ipynb",
      "provenance": [],
      "collapsed_sections": [],
      "machine_shape": "hm",
      "authorship_tag": "ABX9TyOvd4X0jNvABaXqAA4WSbj4",
      "include_colab_link": true
    },
    "kernelspec": {
      "name": "python3",
      "display_name": "Python 3"
    }
  },
  "cells": [
    {
      "cell_type": "markdown",
      "metadata": {
        "id": "view-in-github",
        "colab_type": "text"
      },
      "source": [
        "<a href=\"https://colab.research.google.com/github/HappyJJins/Jeju_CreditCard/blob/master/Submission0717.ipynb\" target=\"_parent\"><img src=\"https://colab.research.google.com/assets/colab-badge.svg\" alt=\"Open In Colab\"/></a>"
      ]
    },
    {
      "cell_type": "code",
      "metadata": {
        "id": "6qtOvlsUO9kM",
        "colab_type": "code",
        "colab": {
          "base_uri": "https://localhost:8080/",
          "height": 127
        },
        "outputId": "3e6c1dce-7f70-43e1-ee33-78b54c43d88b"
      },
      "source": [
        "import os, sys\n",
        "from google.colab import drive\n",
        "\n",
        "ROOT = '/content/drive'\n",
        "drive.mount(ROOT)\n",
        "\n",
        "my_path = '/content/notebooks'\n",
        "# Colab Notebooks 안에 my_env 폴더에 패키지 저장\n",
        "os.symlink('/content/drive/My Drive/Colab Notebooks/my_env', my_path)\n",
        "sys.path.insert(0, my_path)"
      ],
      "execution_count": 1,
      "outputs": [
        {
          "output_type": "stream",
          "text": [
            "Go to this URL in a browser: https://accounts.google.com/o/oauth2/auth?client_id=947318989803-6bn6qk8qdgf4n4g3pfee6491hc0brc4i.apps.googleusercontent.com&redirect_uri=urn%3aietf%3awg%3aoauth%3a2.0%3aoob&response_type=code&scope=email%20https%3a%2f%2fwww.googleapis.com%2fauth%2fdocs.test%20https%3a%2f%2fwww.googleapis.com%2fauth%2fdrive%20https%3a%2f%2fwww.googleapis.com%2fauth%2fdrive.photos.readonly%20https%3a%2f%2fwww.googleapis.com%2fauth%2fpeopleapi.readonly\n",
            "\n",
            "Enter your authorization code:\n",
            "··········\n",
            "Mounted at /content/drive\n"
          ],
          "name": "stdout"
        }
      ]
    },
    {
      "cell_type": "code",
      "metadata": {
        "id": "ppoE9p_hPJiX",
        "colab_type": "code",
        "colab": {}
      },
      "source": [
        "from os.path import join\n",
        "\n",
        "MY_GOOGLE_DRIVE_PATH = '/content/drive/My Drive/Colab Notebooks/Jeju'\n",
        "PROJECT_PATH = join(ROOT, MY_GOOGLE_DRIVE_PATH)"
      ],
      "execution_count": 2,
      "outputs": []
    },
    {
      "cell_type": "code",
      "metadata": {
        "id": "twgqdI4GPY44",
        "colab_type": "code",
        "colab": {}
      },
      "source": [
        "from google.colab import auth\n",
        "auth.authenticate_user()"
      ],
      "execution_count": 3,
      "outputs": []
    },
    {
      "cell_type": "code",
      "metadata": {
        "id": "5iBKK16vPgMG",
        "colab_type": "code",
        "colab": {
          "base_uri": "https://localhost:8080/",
          "height": 73
        },
        "outputId": "8792581d-1b73-416f-f1af-a4e3d2728c5c"
      },
      "source": [
        "from google.cloud import bigquery\n",
        "\n",
        "import pandas as pd\n",
        "import numpy as np\n",
        "import sklearn\n",
        "from sklearn.ensemble import GradientBoostingRegressor\n",
        "from sklearn.preprocessing import LabelEncoder\n",
        "\n",
        "# 평가 메트릭\n",
        "from sklearn.metrics import mean_squared_error, mean_absolute_error\n",
        "\n",
        "# 시각화\n",
        "import seaborn as sns\n",
        "color = sns.color_palette()\n",
        "sns.set_style('darkgrid')\n",
        "%matplotlib inline\n",
        "import matplotlib\n",
        "import matplotlib.pyplot as plt  # Matlab-style plotting\n",
        "\n",
        "# 통계\n",
        "from scipy import stats\n",
        "from scipy.stats import norm, skew #for some statistics\n",
        "\n",
        "from sklearn.base import BaseEstimator, TransformerMixin, RegressorMixin, clone\n",
        "from sklearn.model_selection import KFold, cross_val_score, train_test_split, GridSearchCV\n",
        "from sklearn.metrics import mean_squared_error"
      ],
      "execution_count": 4,
      "outputs": [
        {
          "output_type": "stream",
          "text": [
            "/usr/local/lib/python3.6/dist-packages/statsmodels/tools/_testing.py:19: FutureWarning: pandas.util.testing is deprecated. Use the functions in the public API at pandas.testing instead.\n",
            "  import pandas.util.testing as tm\n"
          ],
          "name": "stderr"
        }
      ]
    },
    {
      "cell_type": "code",
      "metadata": {
        "id": "_SkTxR6eq5DQ",
        "colab_type": "code",
        "colab": {}
      },
      "source": [
        "from xgboost import XGBRegressor\n",
        "from lightgbm import LGBMRegressor\n",
        "from sklearn.ensemble import GradientBoostingRegressor\n",
        "from sklearn.linear_model import LinearRegression\n",
        "from itertools import product"
      ],
      "execution_count": 20,
      "outputs": []
    },
    {
      "cell_type": "code",
      "metadata": {
        "id": "q0O3qVk4QGcG",
        "colab_type": "code",
        "colab": {}
      },
      "source": [
        "class Model:\n",
        "    # Initialization method of the Model class about definition of the data\n",
        "    # Input : split_data(Training/Test set of the independent value and the dependent value)\n",
        "    #       : num(encoding_data)\n",
        "    # Definition of the X\n",
        "    def __init__(self, split_data, num):\n",
        "        self.X_train = split_data[0]\n",
        "        self.X_test = split_data[1]\n",
        "        self.y_train = split_data[2]\n",
        "        self.y_test = split_data[3]\n",
        "        self.encoding_data = num\n",
        "\n",
        "    # the rmsle between the actual value and predicted value\n",
        "    def rmsle(self, y, pred): \n",
        "        log_y = np.log1p(y)\n",
        "        log_pred = np.log1p(pred)\n",
        "        squared_error = (log_y - log_pred)**2\n",
        "        rmsle = np.sqrt(np.mean(squared_error))\n",
        "        print('Test Data RMSLE: {0:.3f}'.format(rmsle))\n",
        "        return round(rmsle, 3)\n",
        "\n",
        "    # get best estimator and rmsle through GridSearchCV\n",
        "    def best_params_model(self, model, params):\n",
        "        cv_model = GridSearchCV(model, param_grid=params, scoring=\"neg_mean_squared_error\", cv = 5)\n",
        "        cv_model.fit(self.X_train, self.y_train)\n",
        "        print(\"----\", model.__class__.__name__, \"----\")\n",
        "        print(\"GridSearchCV 최적 하이퍼 파라미터 :\", cv_model.best_params_)\n",
        "\n",
        "        eval_pred = cv_model.predict(self.X_test)\n",
        "        eval_pred = np.expm1(eval_pred)\n",
        "        rmsle_ = self.rmsle(self.y_test, eval_pred)\n",
        "\n",
        "        return  cv_model.best_estimator_, rmsle_\n",
        "\n",
        "    # Process about finding the ratio of XGB and GBM and LGB\n",
        "    def get_model(self):\n",
        "        xgb = XGBRegressor(random_state=0)\n",
        "        gbm = GradientBoostingRegressor(random_state=0)\n",
        "        lgb = LGBMRegressor(random_state=0)\n",
        "\n",
        "        params = {'n_estimators': [1000, 2000]}\n",
        "\n",
        "        models = [xgb, gbm, lgb]\n",
        "        best_models = []\n",
        "        rmsles = []\n",
        "        \n",
        "        for model in models:\n",
        "            new_model = self.best_params_model(model, params)[0]\n",
        "            new_rmsle = self.best_params_model(model, params)[1]\n",
        "            best_models.append(new_model)\n",
        "            rmsles.append(new_rmsle)\n",
        "\n",
        "        self.xgb_reg = best_models[0]\n",
        "        self.gbm_reg = best_models[1]\n",
        "        self.lgb_reg = best_models[2]\n",
        "\n",
        "        self.xgb_rmsle = rmsles[0]\n",
        "        self.gbm_rmsle = rmsles[1]\n",
        "        self.lgb_rmsle = rmsles[2]\n",
        "\n",
        "        xgb_pred = self.xgb_reg.predict(self.X_test)\n",
        "        xgb_pred = np.expm1(xgb_pred)\n",
        "\n",
        "        gbm_pred = self.gbm_reg.predict(self.X_test)\n",
        "        gbm_pred = np.expm1(gbm_pred)\n",
        "\n",
        "        lgb_pred = self.lgb_reg.predict(self.X_test)\n",
        "        lgb_pred = np.expm1(lgb_pred)\n",
        "\n",
        "        pred = np.array([xgb_pred, gbm_pred, lgb_pred])\n",
        "        pred = np.transpose(pred)\n",
        "\n",
        "        rmsle_sum = self.xgb_rmsle + self.gbm_rmsle + self.lgb_rmsle\n",
        "\n",
        "        self.xgb_per = self.xgb_rmsle / rmsle_sum\n",
        "        self.gbm_per = self.gbm_rmsle / rmsle_sum\n",
        "        self.lgb_per = self.lgb_rmsle / rmsle_sum\n",
        "        \n",
        "        final = xgb_pred*self.xgb_per + gbm_pred*self.gbm_per + lgb_pred*self.lgb_per\n",
        "        self.rmsle(self.y_test, final)\n",
        "\n",
        "    # making the prediction template about 04/07/2020\n",
        "    def make_temp(self):\n",
        "        CARD_SIDO_NMs = self.encoding_data['CARD_SIDO_NM'].unique()\n",
        "        STD_CLSS_NMs  = self.encoding_data['STD_CLSS_NM'].unique()\n",
        "        HOM_SIDO_NMs  = self.encoding_data['HOM_SIDO_NM'].unique()\n",
        "        AGEs          = self.encoding_data['AGE'].unique()\n",
        "        SEX_CTGO_CDs  = self.encoding_data['SEX_CTGO_CD'].unique()\n",
        "        FLCs          = self.encoding_data['FLC'].unique()\n",
        "        years         = [2020]\n",
        "        months        = [4, 7]\n",
        "\n",
        "        comb_list = [CARD_SIDO_NMs, STD_CLSS_NMs,HOM_SIDO_NMs, AGEs, SEX_CTGO_CDs, FLCs, years, months]\n",
        "        temp = np.array(list(product(*comb_list)))\n",
        "\n",
        "        train_features = self.encoding_data.drop(['CSTMR_CNT', 'AMT', 'CNT'], axis=1)\n",
        "        tmp = pd.DataFrame(data=temp, columns=train_features.columns)\n",
        "\n",
        "        return tmp\n",
        "\n",
        "    # making submission\n",
        "    def make_sub(self, temp):\n",
        "        xgb_pred = self.xgb_reg.predict(temp)\n",
        "        xgb_pred = np.expm1(xgb_pred)\n",
        "\n",
        "        gbm_pred = self.gbm_reg.predict(temp)\n",
        "        gbm_pred = np.expm1(gbm_pred)\n",
        "\n",
        "        lgb_pred = self.lgb_reg.predict(temp)\n",
        "        lgb_pred = np.expm1(lgb_pred)\n",
        "\n",
        "        final_rmsle = xgb_pred*self.xgb_per + gbm_pred*self.gbm_per + lgb_pred*self.lgb_per\n",
        "\n",
        "        temp['AMT'] = np.round(final_rmsle, 0)\n",
        "        temp['REG_YYMM'] = temp['year']*100 + temp['month']\n",
        "        temp = temp[['REG_YYMM', 'CARD_SIDO_NM', 'STD_CLSS_NM', 'AMT']]\n",
        "        temp = temp.groupby(['REG_YYMM', 'CARD_SIDO_NM', 'STD_CLSS_NM']).sum().reset_index(drop = False)\n",
        "\n",
        "        temp['CARD_SIDO_NM'] = encoders['CARD_SIDO_NM'].inverse_transform(temp['CARD_SIDO_NM'])\n",
        "        temp['STD_CLSS_NM'] = encoders['STD_CLSS_NM'].inverse_transform(temp['STD_CLSS_NM'])\n",
        "\n",
        "        return temp"
      ],
      "execution_count": 53,
      "outputs": []
    },
    {
      "cell_type": "code",
      "metadata": {
        "id": "cyKTLNLoPzpQ",
        "colab_type": "code",
        "colab": {}
      },
      "source": [
        "# sampling data between 01/2020 and 02/2020\n",
        "def sampling():\n",
        "    project_id = 'jeju-282707'\n",
        "    client = bigquery.Client(project=project_id)\n",
        "\n",
        "    train = client.query('''\n",
        "    SELECT \n",
        "        * \n",
        "    FROM `jeju-282707.jeju_data_ver1.201901_202003_train`\n",
        "    WHERE REG_YYMM = 202001 OR REG_YYMM = 202002\n",
        "    ''').to_dataframe()\n",
        "\n",
        "    return train"
      ],
      "execution_count": 23,
      "outputs": []
    },
    {
      "cell_type": "code",
      "metadata": {
        "id": "Q59e-RegP1ty",
        "colab_type": "code",
        "colab": {}
      },
      "source": [
        "# separating year and month\n",
        "def grap_year(data):\n",
        "    data = str(data)\n",
        "    return int(data[:4])\n",
        "\n",
        "def grap_month(data):\n",
        "    data = str(data)\n",
        "    return int(data[4:])"
      ],
      "execution_count": 24,
      "outputs": []
    },
    {
      "cell_type": "code",
      "metadata": {
        "id": "FbBWu8gVP3dE",
        "colab_type": "code",
        "colab": {}
      },
      "source": [
        "# data preprocessing\n",
        "def data_pre(data):\n",
        "    data = data.fillna('')\n",
        "    data['year'] = data['REG_YYMM'].apply(lambda x: grap_year(x))\n",
        "    data['month'] = data['REG_YYMM'].apply(lambda x: grap_month(x))\n",
        "    data = data.drop(['REG_YYMM'], axis = 1)\n",
        "\n",
        "    return data"
      ],
      "execution_count": 25,
      "outputs": []
    },
    {
      "cell_type": "code",
      "metadata": {
        "id": "bnCR6Vv9P56z",
        "colab_type": "code",
        "colab": {}
      },
      "source": [
        "# dividing data into local and tourist\n",
        "def cate(data):\n",
        "    local = data[(data['CARD_CCG_NM'] == data['HOM_CCG_NM']) & (data['CARD_SIDO_NM'] == data['HOM_SIDO_NM'])].reset_index(drop = True)\n",
        "    tourist = data[(data['CARD_CCG_NM'] != data['HOM_CCG_NM']) | (data['CARD_SIDO_NM'] != data['HOM_SIDO_NM'])].reset_index(drop = True)\n",
        "\n",
        "    local, tourist = local.drop(['CARD_CCG_NM', 'HOM_CCG_NM'], axis=1), tourist.drop(['CARD_CCG_NM', 'HOM_CCG_NM'], axis=1)\n",
        "    columns = ['CARD_SIDO_NM', 'STD_CLSS_NM', 'HOM_SIDO_NM', 'AGE', 'SEX_CTGO_CD', 'FLC', 'year', 'month']\n",
        "    local, tourist = local.groupby(columns).sum().reset_index(drop=False), tourist.groupby(columns).sum().reset_index(drop=False)\n",
        "\n",
        "    return local, tourist"
      ],
      "execution_count": 38,
      "outputs": []
    },
    {
      "cell_type": "code",
      "metadata": {
        "id": "HbEW6J0HSHtj",
        "colab_type": "code",
        "colab": {}
      },
      "source": [
        "# encoding\n",
        "def encoding(cate):\n",
        "\n",
        "    global encoders\n",
        "    dtypes_cate = cate.dtypes\n",
        "    encoders = {}\n",
        "    for column in cate.columns:\n",
        "        if str(dtypes_cate[column]) == 'object':\n",
        "            encoder = LabelEncoder()\n",
        "            encoder.fit(cate[column])\n",
        "            encoders[column] = encoder\n",
        "\n",
        "    cate_num = cate.copy()\n",
        "\n",
        "    for column in encoders.keys():\n",
        "        encoder = encoders[column]\n",
        "        cate_num[column] = encoder.transform(cate[column])\n",
        "\n",
        "    return cate_num"
      ],
      "execution_count": 27,
      "outputs": []
    },
    {
      "cell_type": "code",
      "metadata": {
        "id": "t4NsPFWSSNEw",
        "colab_type": "code",
        "colab": {}
      },
      "source": [
        "# dividing into training and test sets of the independent and dependent value\n",
        "def split(cate_num):\n",
        "    split_data = []\n",
        "\n",
        "    X_data, y_data = cate_num.loc[:, cate_num.columns != 'AMT'], cate_num['AMT']\n",
        "    X_data = X_data.drop(['CSTMR_CNT', 'CNT'], axis=1)\n",
        "    X_train, X_test, y_train, y_test = train_test_split(X_data, y_data, test_size=0.2, random_state=126, shuffle=True)\n",
        "    y_train = np.log1p(y_train)\n",
        "    \n",
        "    return X_train, X_test, y_train, y_test"
      ],
      "execution_count": 28,
      "outputs": []
    },
    {
      "cell_type": "code",
      "metadata": {
        "id": "_Sy9-HFMSiXn",
        "colab_type": "code",
        "colab": {
          "base_uri": "https://localhost:8080/",
          "height": 204
        },
        "outputId": "bb0fe9b5-3813-4923-b374-4eea920f6efb"
      },
      "source": [
        "train = sampling().reset_index(drop=True)\n",
        "train.head()"
      ],
      "execution_count": 12,
      "outputs": [
        {
          "output_type": "execute_result",
          "data": {
            "text/html": [
              "<div>\n",
              "<style scoped>\n",
              "    .dataframe tbody tr th:only-of-type {\n",
              "        vertical-align: middle;\n",
              "    }\n",
              "\n",
              "    .dataframe tbody tr th {\n",
              "        vertical-align: top;\n",
              "    }\n",
              "\n",
              "    .dataframe thead th {\n",
              "        text-align: right;\n",
              "    }\n",
              "</style>\n",
              "<table border=\"1\" class=\"dataframe\">\n",
              "  <thead>\n",
              "    <tr style=\"text-align: right;\">\n",
              "      <th></th>\n",
              "      <th>REG_YYMM</th>\n",
              "      <th>CARD_SIDO_NM</th>\n",
              "      <th>CARD_CCG_NM</th>\n",
              "      <th>STD_CLSS_NM</th>\n",
              "      <th>HOM_SIDO_NM</th>\n",
              "      <th>HOM_CCG_NM</th>\n",
              "      <th>AGE</th>\n",
              "      <th>SEX_CTGO_CD</th>\n",
              "      <th>FLC</th>\n",
              "      <th>CSTMR_CNT</th>\n",
              "      <th>AMT</th>\n",
              "      <th>CNT</th>\n",
              "    </tr>\n",
              "  </thead>\n",
              "  <tbody>\n",
              "    <tr>\n",
              "      <th>0</th>\n",
              "      <td>202002</td>\n",
              "      <td>강원</td>\n",
              "      <td>속초시</td>\n",
              "      <td>빵 및 과자류 소매업</td>\n",
              "      <td>강원</td>\n",
              "      <td>속초시</td>\n",
              "      <td>10s</td>\n",
              "      <td>2</td>\n",
              "      <td>1</td>\n",
              "      <td>36</td>\n",
              "      <td>323400</td>\n",
              "      <td>49</td>\n",
              "    </tr>\n",
              "    <tr>\n",
              "      <th>1</th>\n",
              "      <td>202002</td>\n",
              "      <td>강원</td>\n",
              "      <td>양구군</td>\n",
              "      <td>슈퍼마켓</td>\n",
              "      <td>강원</td>\n",
              "      <td>양구군</td>\n",
              "      <td>10s</td>\n",
              "      <td>1</td>\n",
              "      <td>1</td>\n",
              "      <td>8</td>\n",
              "      <td>171680</td>\n",
              "      <td>12</td>\n",
              "    </tr>\n",
              "    <tr>\n",
              "      <th>2</th>\n",
              "      <td>202001</td>\n",
              "      <td>강원</td>\n",
              "      <td>화천군</td>\n",
              "      <td>슈퍼마켓</td>\n",
              "      <td>강원</td>\n",
              "      <td>화천군</td>\n",
              "      <td>10s</td>\n",
              "      <td>2</td>\n",
              "      <td>1</td>\n",
              "      <td>15</td>\n",
              "      <td>255810</td>\n",
              "      <td>23</td>\n",
              "    </tr>\n",
              "    <tr>\n",
              "      <th>3</th>\n",
              "      <td>202002</td>\n",
              "      <td>강원</td>\n",
              "      <td>횡성군</td>\n",
              "      <td>한식 음식점업</td>\n",
              "      <td>강원</td>\n",
              "      <td>횡성군</td>\n",
              "      <td>10s</td>\n",
              "      <td>1</td>\n",
              "      <td>1</td>\n",
              "      <td>14</td>\n",
              "      <td>200800</td>\n",
              "      <td>16</td>\n",
              "    </tr>\n",
              "    <tr>\n",
              "      <th>4</th>\n",
              "      <td>202001</td>\n",
              "      <td>서울</td>\n",
              "      <td>동작구</td>\n",
              "      <td>택시 운송업</td>\n",
              "      <td>강원</td>\n",
              "      <td>고성군</td>\n",
              "      <td>10s</td>\n",
              "      <td>1</td>\n",
              "      <td>1</td>\n",
              "      <td>5</td>\n",
              "      <td>28160</td>\n",
              "      <td>5</td>\n",
              "    </tr>\n",
              "  </tbody>\n",
              "</table>\n",
              "</div>"
            ],
            "text/plain": [
              "   REG_YYMM CARD_SIDO_NM CARD_CCG_NM  STD_CLSS_NM  ... FLC CSTMR_CNT     AMT  CNT\n",
              "0    202002           강원         속초시  빵 및 과자류 소매업  ...   1        36  323400   49\n",
              "1    202002           강원         양구군         슈퍼마켓  ...   1         8  171680   12\n",
              "2    202001           강원         화천군         슈퍼마켓  ...   1        15  255810   23\n",
              "3    202002           강원         횡성군      한식 음식점업  ...   1        14  200800   16\n",
              "4    202001           서울         동작구       택시 운송업  ...   1         5   28160    5\n",
              "\n",
              "[5 rows x 12 columns]"
            ]
          },
          "metadata": {
            "tags": []
          },
          "execution_count": 12
        }
      ]
    },
    {
      "cell_type": "code",
      "metadata": {
        "id": "hfCV3v1eeDh8",
        "colab_type": "code",
        "colab": {}
      },
      "source": [
        "data = train.copy()\n",
        "data = data_pre(data)"
      ],
      "execution_count": 32,
      "outputs": []
    },
    {
      "cell_type": "code",
      "metadata": {
        "id": "9rksIp1tecBo",
        "colab_type": "code",
        "colab": {}
      },
      "source": [
        "local, tourist = cate(data)"
      ],
      "execution_count": 39,
      "outputs": []
    },
    {
      "cell_type": "code",
      "metadata": {
        "id": "ihCpYCDUehd-",
        "colab_type": "code",
        "colab": {}
      },
      "source": [
        "lcl_num, trst_num = encoding(local), encoding(tourist)"
      ],
      "execution_count": 41,
      "outputs": []
    },
    {
      "cell_type": "code",
      "metadata": {
        "id": "FPvRMnKVekLy",
        "colab_type": "code",
        "colab": {}
      },
      "source": [
        "lcl_data, trst_data = split(lcl_num), split(trst_num)"
      ],
      "execution_count": 42,
      "outputs": []
    },
    {
      "cell_type": "code",
      "metadata": {
        "id": "xuZXeXgoepNQ",
        "colab_type": "code",
        "colab": {}
      },
      "source": [
        "lcl = Model(lcl_data, lcl_num)"
      ],
      "execution_count": 43,
      "outputs": []
    },
    {
      "cell_type": "code",
      "metadata": {
        "id": "BGqYeJVserIN",
        "colab_type": "code",
        "colab": {}
      },
      "source": [
        "trst = Model(trst_data, trst_num)"
      ],
      "execution_count": 44,
      "outputs": []
    },
    {
      "cell_type": "code",
      "metadata": {
        "id": "aqPKq89weypH",
        "colab_type": "code",
        "colab": {
          "base_uri": "https://localhost:8080/",
          "height": 539
        },
        "outputId": "7394d20f-1111-4837-e28d-bed1a5ac004b"
      },
      "source": [
        "lcl.get_model()"
      ],
      "execution_count": 45,
      "outputs": [
        {
          "output_type": "stream",
          "text": [
            "[03:30:24] WARNING: /workspace/src/objective/regression_obj.cu:152: reg:linear is now deprecated in favor of reg:squarederror.\n",
            "[03:30:30] WARNING: /workspace/src/objective/regression_obj.cu:152: reg:linear is now deprecated in favor of reg:squarederror.\n",
            "[03:30:36] WARNING: /workspace/src/objective/regression_obj.cu:152: reg:linear is now deprecated in favor of reg:squarederror.\n",
            "[03:30:42] WARNING: /workspace/src/objective/regression_obj.cu:152: reg:linear is now deprecated in favor of reg:squarederror.\n",
            "[03:30:48] WARNING: /workspace/src/objective/regression_obj.cu:152: reg:linear is now deprecated in favor of reg:squarederror.\n",
            "[03:30:53] WARNING: /workspace/src/objective/regression_obj.cu:152: reg:linear is now deprecated in favor of reg:squarederror.\n",
            "[03:31:05] WARNING: /workspace/src/objective/regression_obj.cu:152: reg:linear is now deprecated in favor of reg:squarederror.\n",
            "[03:31:17] WARNING: /workspace/src/objective/regression_obj.cu:152: reg:linear is now deprecated in favor of reg:squarederror.\n",
            "[03:31:29] WARNING: /workspace/src/objective/regression_obj.cu:152: reg:linear is now deprecated in favor of reg:squarederror.\n",
            "[03:31:41] WARNING: /workspace/src/objective/regression_obj.cu:152: reg:linear is now deprecated in favor of reg:squarederror.\n",
            "[03:31:53] WARNING: /workspace/src/objective/regression_obj.cu:152: reg:linear is now deprecated in favor of reg:squarederror.\n",
            "0.732\n",
            "[03:32:07] WARNING: /workspace/src/objective/regression_obj.cu:152: reg:linear is now deprecated in favor of reg:squarederror.\n",
            "[03:32:13] WARNING: /workspace/src/objective/regression_obj.cu:152: reg:linear is now deprecated in favor of reg:squarederror.\n",
            "[03:32:19] WARNING: /workspace/src/objective/regression_obj.cu:152: reg:linear is now deprecated in favor of reg:squarederror.\n",
            "[03:32:25] WARNING: /workspace/src/objective/regression_obj.cu:152: reg:linear is now deprecated in favor of reg:squarederror.\n",
            "[03:32:31] WARNING: /workspace/src/objective/regression_obj.cu:152: reg:linear is now deprecated in favor of reg:squarederror.\n",
            "[03:32:36] WARNING: /workspace/src/objective/regression_obj.cu:152: reg:linear is now deprecated in favor of reg:squarederror.\n",
            "[03:32:48] WARNING: /workspace/src/objective/regression_obj.cu:152: reg:linear is now deprecated in favor of reg:squarederror.\n",
            "[03:33:00] WARNING: /workspace/src/objective/regression_obj.cu:152: reg:linear is now deprecated in favor of reg:squarederror.\n",
            "[03:33:12] WARNING: /workspace/src/objective/regression_obj.cu:152: reg:linear is now deprecated in favor of reg:squarederror.\n",
            "[03:33:23] WARNING: /workspace/src/objective/regression_obj.cu:152: reg:linear is now deprecated in favor of reg:squarederror.\n",
            "[03:33:35] WARNING: /workspace/src/objective/regression_obj.cu:152: reg:linear is now deprecated in favor of reg:squarederror.\n",
            "0.732\n",
            "0.742\n",
            "0.742\n",
            "0.525\n",
            "0.525\n",
            "0.65\n"
          ],
          "name": "stdout"
        }
      ]
    },
    {
      "cell_type": "code",
      "metadata": {
        "id": "1CBJP3vt02Kf",
        "colab_type": "code",
        "colab": {
          "base_uri": "https://localhost:8080/",
          "height": 539
        },
        "outputId": "8ab0c43e-e4aa-4008-faa2-182b213dbfbd"
      },
      "source": [
        "trst.get_model()"
      ],
      "execution_count": 49,
      "outputs": [
        {
          "output_type": "stream",
          "text": [
            "[03:46:02] WARNING: /workspace/src/objective/regression_obj.cu:152: reg:linear is now deprecated in favor of reg:squarederror.\n",
            "[03:46:33] WARNING: /workspace/src/objective/regression_obj.cu:152: reg:linear is now deprecated in favor of reg:squarederror.\n",
            "[03:47:03] WARNING: /workspace/src/objective/regression_obj.cu:152: reg:linear is now deprecated in favor of reg:squarederror.\n",
            "[03:47:34] WARNING: /workspace/src/objective/regression_obj.cu:152: reg:linear is now deprecated in favor of reg:squarederror.\n",
            "[03:48:04] WARNING: /workspace/src/objective/regression_obj.cu:152: reg:linear is now deprecated in favor of reg:squarederror.\n",
            "[03:48:35] WARNING: /workspace/src/objective/regression_obj.cu:152: reg:linear is now deprecated in favor of reg:squarederror.\n",
            "[03:49:36] WARNING: /workspace/src/objective/regression_obj.cu:152: reg:linear is now deprecated in favor of reg:squarederror.\n",
            "[03:50:37] WARNING: /workspace/src/objective/regression_obj.cu:152: reg:linear is now deprecated in favor of reg:squarederror.\n",
            "[03:51:38] WARNING: /workspace/src/objective/regression_obj.cu:152: reg:linear is now deprecated in favor of reg:squarederror.\n",
            "[03:52:40] WARNING: /workspace/src/objective/regression_obj.cu:152: reg:linear is now deprecated in favor of reg:squarederror.\n",
            "[03:53:41] WARNING: /workspace/src/objective/regression_obj.cu:152: reg:linear is now deprecated in favor of reg:squarederror.\n",
            "1.469\n",
            "[03:55:00] WARNING: /workspace/src/objective/regression_obj.cu:152: reg:linear is now deprecated in favor of reg:squarederror.\n",
            "[03:55:31] WARNING: /workspace/src/objective/regression_obj.cu:152: reg:linear is now deprecated in favor of reg:squarederror.\n",
            "[03:56:02] WARNING: /workspace/src/objective/regression_obj.cu:152: reg:linear is now deprecated in favor of reg:squarederror.\n",
            "[03:56:32] WARNING: /workspace/src/objective/regression_obj.cu:152: reg:linear is now deprecated in favor of reg:squarederror.\n",
            "[03:57:04] WARNING: /workspace/src/objective/regression_obj.cu:152: reg:linear is now deprecated in favor of reg:squarederror.\n",
            "[03:57:35] WARNING: /workspace/src/objective/regression_obj.cu:152: reg:linear is now deprecated in favor of reg:squarederror.\n",
            "[03:58:37] WARNING: /workspace/src/objective/regression_obj.cu:152: reg:linear is now deprecated in favor of reg:squarederror.\n",
            "[03:59:39] WARNING: /workspace/src/objective/regression_obj.cu:152: reg:linear is now deprecated in favor of reg:squarederror.\n",
            "[04:00:41] WARNING: /workspace/src/objective/regression_obj.cu:152: reg:linear is now deprecated in favor of reg:squarederror.\n",
            "[04:01:43] WARNING: /workspace/src/objective/regression_obj.cu:152: reg:linear is now deprecated in favor of reg:squarederror.\n",
            "[04:02:45] WARNING: /workspace/src/objective/regression_obj.cu:152: reg:linear is now deprecated in favor of reg:squarederror.\n",
            "1.469\n",
            "1.45\n",
            "1.45\n",
            "0.875\n",
            "0.875\n",
            "1.265\n"
          ],
          "name": "stdout"
        }
      ]
    },
    {
      "cell_type": "code",
      "metadata": {
        "id": "agyW87KaD2ml",
        "colab_type": "code",
        "colab": {}
      },
      "source": [
        "lcl_temp = lcl.make_temp()\n",
        "trst_temp = trst.make_temp()"
      ],
      "execution_count": 56,
      "outputs": []
    },
    {
      "cell_type": "code",
      "metadata": {
        "id": "d07WOfNuEIbb",
        "colab_type": "code",
        "colab": {}
      },
      "source": [
        "lcl_sub = lcl.make_sub(lcl_temp)\n",
        "trst_sub = trst.make_sub(trst_temp)"
      ],
      "execution_count": 57,
      "outputs": []
    },
    {
      "cell_type": "code",
      "metadata": {
        "id": "Pivu4FuZGTaE",
        "colab_type": "code",
        "colab": {}
      },
      "source": [
        "sub = lcl_sub[['REG_YYMM', 'CARD_SIDO_NM', 'STD_CLSS_NM']]\n",
        "sub['AMT'] = lcl_sub['AMT'] + trst_sub['AMT']"
      ],
      "execution_count": 58,
      "outputs": []
    },
    {
      "cell_type": "code",
      "metadata": {
        "id": "q0uENtgVGYma",
        "colab_type": "code",
        "colab": {
          "base_uri": "https://localhost:8080/",
          "height": 222
        },
        "outputId": "4927eecd-2b3c-4dd0-c564-7e93eb8fd338"
      },
      "source": [
        "project_id = 'jeju-282707'\n",
        "client = bigquery.Client(project=project_id)\n",
        "submission = client.query('''\n",
        "  SELECT \n",
        "    * \n",
        "  FROM `jeju-282707.jeju_data_ver1.submission` \n",
        "  ''').to_dataframe()\n",
        "submission = submission.drop(['AMT'], axis=1)\n",
        "submission = submission.merge(sub, left_on=['REG_YYMM', 'CARD_SIDO_NM', 'STD_CLSS_NM'], right_on=['REG_YYMM', 'CARD_SIDO_NM', 'STD_CLSS_NM'], how='left')\n",
        "submission['AMT'] = submission['AMT'].fillna(0)\n",
        "\n",
        "submission.head()"
      ],
      "execution_count": 64,
      "outputs": [
        {
          "output_type": "stream",
          "text": [
            "WARNING:google.auth._default:No project ID could be determined. Consider running `gcloud config set project` or setting the GOOGLE_CLOUD_PROJECT environment variable\n"
          ],
          "name": "stderr"
        },
        {
          "output_type": "execute_result",
          "data": {
            "text/html": [
              "<div>\n",
              "<style scoped>\n",
              "    .dataframe tbody tr th:only-of-type {\n",
              "        vertical-align: middle;\n",
              "    }\n",
              "\n",
              "    .dataframe tbody tr th {\n",
              "        vertical-align: top;\n",
              "    }\n",
              "\n",
              "    .dataframe thead th {\n",
              "        text-align: right;\n",
              "    }\n",
              "</style>\n",
              "<table border=\"1\" class=\"dataframe\">\n",
              "  <thead>\n",
              "    <tr style=\"text-align: right;\">\n",
              "      <th></th>\n",
              "      <th>id</th>\n",
              "      <th>REG_YYMM</th>\n",
              "      <th>CARD_SIDO_NM</th>\n",
              "      <th>STD_CLSS_NM</th>\n",
              "      <th>AMT</th>\n",
              "    </tr>\n",
              "  </thead>\n",
              "  <tbody>\n",
              "    <tr>\n",
              "      <th>0</th>\n",
              "      <td>0</td>\n",
              "      <td>202004</td>\n",
              "      <td>강원</td>\n",
              "      <td>건강보조식품 소매업</td>\n",
              "      <td>2.858284e+09</td>\n",
              "    </tr>\n",
              "    <tr>\n",
              "      <th>1</th>\n",
              "      <td>1</td>\n",
              "      <td>202004</td>\n",
              "      <td>강원</td>\n",
              "      <td>골프장 운영업</td>\n",
              "      <td>4.192288e+09</td>\n",
              "    </tr>\n",
              "    <tr>\n",
              "      <th>2</th>\n",
              "      <td>2</td>\n",
              "      <td>202004</td>\n",
              "      <td>강원</td>\n",
              "      <td>과실 및 채소 소매업</td>\n",
              "      <td>2.283253e+10</td>\n",
              "    </tr>\n",
              "    <tr>\n",
              "      <th>3</th>\n",
              "      <td>3</td>\n",
              "      <td>202004</td>\n",
              "      <td>강원</td>\n",
              "      <td>관광 민예품 및 선물용품 소매업</td>\n",
              "      <td>2.208878e+08</td>\n",
              "    </tr>\n",
              "    <tr>\n",
              "      <th>4</th>\n",
              "      <td>4</td>\n",
              "      <td>202004</td>\n",
              "      <td>강원</td>\n",
              "      <td>그외 기타 분류안된 오락관련 서비스업</td>\n",
              "      <td>7.650722e+07</td>\n",
              "    </tr>\n",
              "  </tbody>\n",
              "</table>\n",
              "</div>"
            ],
            "text/plain": [
              "   id  REG_YYMM CARD_SIDO_NM           STD_CLSS_NM           AMT\n",
              "0   0    202004           강원            건강보조식품 소매업  2.858284e+09\n",
              "1   1    202004           강원               골프장 운영업  4.192288e+09\n",
              "2   2    202004           강원           과실 및 채소 소매업  2.283253e+10\n",
              "3   3    202004           강원     관광 민예품 및 선물용품 소매업  2.208878e+08\n",
              "4   4    202004           강원  그외 기타 분류안된 오락관련 서비스업  7.650722e+07"
            ]
          },
          "metadata": {
            "tags": []
          },
          "execution_count": 64
        }
      ]
    },
    {
      "cell_type": "code",
      "metadata": {
        "id": "QOVmBiyBL-us",
        "colab_type": "code",
        "colab": {}
      },
      "source": [
        "submission.to_csv('/content/drive/My Drive/Colab Notebooks/Jeju/submission.csv', encoding='utf-8-sig', index=False)"
      ],
      "execution_count": 65,
      "outputs": []
    }
  ]
}