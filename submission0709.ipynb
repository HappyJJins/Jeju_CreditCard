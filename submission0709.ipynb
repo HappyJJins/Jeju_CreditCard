{
  "nbformat": 4,
  "nbformat_minor": 0,
  "metadata": {
    "colab": {
      "name": "submission0709.ipynb",
      "provenance": [],
      "collapsed_sections": [],
      "authorship_tag": "ABX9TyORANJ2OPgaIq08AXHhxujJ",
      "include_colab_link": true
    },
    "kernelspec": {
      "name": "python3",
      "display_name": "Python 3"
    }
  },
  "cells": [
    {
      "cell_type": "markdown",
      "metadata": {
        "id": "view-in-github",
        "colab_type": "text"
      },
      "source": [
        "<a href=\"https://colab.research.google.com/github/HappyJJins/Jeju_CreditCard/blob/master/submission0709.ipynb\" target=\"_parent\"><img src=\"https://colab.research.google.com/assets/colab-badge.svg\" alt=\"Open In Colab\"/></a>"
      ]
    },
    {
      "cell_type": "code",
      "metadata": {
        "id": "CPH5wWbIQ9ih",
        "colab_type": "code",
        "colab": {
          "base_uri": "https://localhost:8080/",
          "height": 128
        },
        "outputId": "02d4a9a0-0b7e-4dc5-8415-052c7a1431b7"
      },
      "source": [
        "import os, sys\n",
        "from google.colab import drive\n",
        "\n",
        "ROOT = '/content/drive'\n",
        "drive.mount(ROOT)\n",
        "\n",
        "my_path = '/content/notebooks'\n",
        "# Colab Notebooks 안에 my_env 폴더에 패키지 저장\n",
        "os.symlink('/content/drive/My Drive/Colab Notebooks/my_env', my_path)\n",
        "sys.path.insert(0, my_path)"
      ],
      "execution_count": null,
      "outputs": [
        {
          "output_type": "stream",
          "text": [
            "Go to this URL in a browser: https://accounts.google.com/o/oauth2/auth?client_id=947318989803-6bn6qk8qdgf4n4g3pfee6491hc0brc4i.apps.googleusercontent.com&redirect_uri=urn%3aietf%3awg%3aoauth%3a2.0%3aoob&response_type=code&scope=email%20https%3a%2f%2fwww.googleapis.com%2fauth%2fdocs.test%20https%3a%2f%2fwww.googleapis.com%2fauth%2fdrive%20https%3a%2f%2fwww.googleapis.com%2fauth%2fdrive.photos.readonly%20https%3a%2f%2fwww.googleapis.com%2fauth%2fpeopleapi.readonly\n",
            "\n",
            "Enter your authorization code:\n",
            "··········\n",
            "Mounted at /content/drive\n"
          ],
          "name": "stdout"
        }
      ]
    },
    {
      "cell_type": "code",
      "metadata": {
        "id": "rwTS8r6yZmWR",
        "colab_type": "code",
        "colab": {}
      },
      "source": [
        "from os.path import join\n",
        "\n",
        "MY_GOOGLE_DRIVE_PATH = '/content/drive/My Drive/Colab Notebooks/Jeju'\n",
        "PROJECT_PATH = join(ROOT, MY_GOOGLE_DRIVE_PATH)"
      ],
      "execution_count": null,
      "outputs": []
    },
    {
      "cell_type": "code",
      "metadata": {
        "id": "0A1PWM6ZHW0U",
        "colab_type": "code",
        "colab": {}
      },
      "source": [
        "from google.colab import auth\n",
        "auth.authenticate_user()"
      ],
      "execution_count": null,
      "outputs": []
    },
    {
      "cell_type": "code",
      "metadata": {
        "id": "hBpZdbiBE3pf",
        "colab_type": "code",
        "colab": {}
      },
      "source": [
        "submission = pd.read_csv('/content/drive/My Drive/Colab Notebooks/Jeju/data/jeju_data_ver1/submission.csv')\n",
        "submission.to_gbq(destination_table='jeju_data_ver1.submission', \n",
        "                  project_id='jeju-282707', \n",
        "                  if_exists='replace')\n",
        "train = pd.read_csv('/content/drive/My Drive/Colab Notebooks/Jeju/data/jeju_data_ver1/201901-202003.csv')\n",
        "train.to_gbq(destination_table='jeju_data_ver1.201901_202003_train', \n",
        "                  project_id='jeju-282707', \n",
        "                  if_exists='replace')"
      ],
      "execution_count": null,
      "outputs": []
    },
    {
      "cell_type": "code",
      "metadata": {
        "id": "JAHF7Y7eRhcc",
        "colab_type": "code",
        "colab": {}
      },
      "source": [
        "import pandas as pd\n",
        "from pandas.io import gbq\n",
        "from google.cloud import bigquery\n",
        "from tabulate import tabulate\n",
        "from pandas_profiling import ProfileReport"
      ],
      "execution_count": null,
      "outputs": []
    },
    {
      "cell_type": "code",
      "metadata": {
        "id": "Dn52o3hiX94i",
        "colab_type": "code",
        "colab": {}
      },
      "source": [
        "project_id = 'jeju-282707'\n",
        "client = bigquery.Client(project=project_id)\n",
        "\n",
        "train = client.query('''\n",
        "  SELECT \n",
        "      * \n",
        "  FROM `jeju-282707.jeju_data_ver1.201901_202003_train` \n",
        "  WHERE RAND() < 10000 / (SELECT COUNT(*) FROM `jeju-282707.jeju_data_ver1.201901_202003_train`)\n",
        "  ''').to_dataframe()"
      ],
      "execution_count": null,
      "outputs": []
    },
    {
      "cell_type": "code",
      "metadata": {
        "id": "nF4MG7qPG1v0",
        "colab_type": "code",
        "colab": {}
      },
      "source": [
        "from pandas_profiling import ProfileReport\n",
        "profile = ProfileReport(train, title='Pandas Profiling Report', explorative=True)\n",
        "profile.to_notebook_iframe()"
      ],
      "execution_count": null,
      "outputs": []
    },
    {
      "cell_type": "markdown",
      "metadata": {
        "id": "uhAq2V8UPQ_K",
        "colab_type": "text"
      },
      "source": [
        "### II. 데이터 사전 준비"
      ]
    },
    {
      "cell_type": "markdown",
      "metadata": {
        "id": "Y_xQy8wHLxAD",
        "colab_type": "text"
      },
      "source": [
        "#### (1) 머신러닝 & 시각화 & 통계 패키지 Loading"
      ]
    },
    {
      "cell_type": "code",
      "metadata": {
        "id": "uQxqYMJ8IjrF",
        "colab_type": "code",
        "colab": {
          "base_uri": "https://localhost:8080/",
          "height": 74
        },
        "outputId": "8ea6c6f5-c345-4ff6-91a2-901f1e81a911"
      },
      "source": [
        "import pandas as pd\n",
        "import numpy as np\n",
        "import sklearn\n",
        "from sklearn.ensemble import GradientBoostingRegressor\n",
        "from sklearn.preprocessing import LabelEncoder\n",
        "\n",
        "# 평가 메트릭\n",
        "from sklearn.metrics import mean_squared_error, mean_absolute_error\n",
        "\n",
        "# 시각화\n",
        "import seaborn as sns\n",
        "color = sns.color_palette()\n",
        "sns.set_style('darkgrid')\n",
        "%matplotlib inline\n",
        "import matplotlib\n",
        "import matplotlib.pyplot as plt  # Matlab-style plotting\n",
        "\n",
        "# 통계\n",
        "from scipy import stats\n",
        "from scipy.stats import norm, skew #for some statistics\n",
        "\n",
        "# 06 Chapter 추가\n",
        "from sklearn.base import BaseEstimator, TransformerMixin, RegressorMixin, clone\n",
        "from sklearn.model_selection import KFold, cross_val_score, train_test_split, GridSearchCV\n",
        "from sklearn.metrics import mean_squared_error"
      ],
      "execution_count": null,
      "outputs": [
        {
          "output_type": "stream",
          "text": [
            "/usr/local/lib/python3.6/dist-packages/statsmodels/tools/_testing.py:19: FutureWarning: pandas.util.testing is deprecated. Use the functions in the public API at pandas.testing instead.\n",
            "  import pandas.util.testing as tm\n"
          ],
          "name": "stderr"
        }
      ]
    },
    {
      "cell_type": "code",
      "metadata": {
        "id": "_442zBZZKriT",
        "colab_type": "code",
        "colab": {
          "base_uri": "https://localhost:8080/",
          "height": 407
        },
        "outputId": "6211e224-6c16-4526-8ead-8252d8c9c097"
      },
      "source": [
        "train"
      ],
      "execution_count": null,
      "outputs": [
        {
          "output_type": "execute_result",
          "data": {
            "text/html": [
              "<div>\n",
              "<style scoped>\n",
              "    .dataframe tbody tr th:only-of-type {\n",
              "        vertical-align: middle;\n",
              "    }\n",
              "\n",
              "    .dataframe tbody tr th {\n",
              "        vertical-align: top;\n",
              "    }\n",
              "\n",
              "    .dataframe thead th {\n",
              "        text-align: right;\n",
              "    }\n",
              "</style>\n",
              "<table border=\"1\" class=\"dataframe\">\n",
              "  <thead>\n",
              "    <tr style=\"text-align: right;\">\n",
              "      <th></th>\n",
              "      <th>REG_YYMM</th>\n",
              "      <th>CARD_SIDO_NM</th>\n",
              "      <th>CARD_CCG_NM</th>\n",
              "      <th>STD_CLSS_NM</th>\n",
              "      <th>HOM_SIDO_NM</th>\n",
              "      <th>HOM_CCG_NM</th>\n",
              "      <th>AGE</th>\n",
              "      <th>SEX_CTGO_CD</th>\n",
              "      <th>FLC</th>\n",
              "      <th>CSTMR_CNT</th>\n",
              "      <th>AMT</th>\n",
              "      <th>CNT</th>\n",
              "    </tr>\n",
              "  </thead>\n",
              "  <tbody>\n",
              "    <tr>\n",
              "      <th>0</th>\n",
              "      <td>201908</td>\n",
              "      <td>강원</td>\n",
              "      <td>삼척시</td>\n",
              "      <td>기타 대형 종합 소매업</td>\n",
              "      <td>강원</td>\n",
              "      <td>삼척시</td>\n",
              "      <td>10s</td>\n",
              "      <td>2</td>\n",
              "      <td>1</td>\n",
              "      <td>8</td>\n",
              "      <td>115720</td>\n",
              "      <td>12</td>\n",
              "    </tr>\n",
              "    <tr>\n",
              "      <th>1</th>\n",
              "      <td>201904</td>\n",
              "      <td>강원</td>\n",
              "      <td>강릉시</td>\n",
              "      <td>기타 대형 종합 소매업</td>\n",
              "      <td>강원</td>\n",
              "      <td>삼척시</td>\n",
              "      <td>20s</td>\n",
              "      <td>2</td>\n",
              "      <td>1</td>\n",
              "      <td>5</td>\n",
              "      <td>85710</td>\n",
              "      <td>6</td>\n",
              "    </tr>\n",
              "    <tr>\n",
              "      <th>2</th>\n",
              "      <td>201907</td>\n",
              "      <td>강원</td>\n",
              "      <td>속초시</td>\n",
              "      <td>차량용 주유소 운영업</td>\n",
              "      <td>강원</td>\n",
              "      <td>속초시</td>\n",
              "      <td>20s</td>\n",
              "      <td>2</td>\n",
              "      <td>2</td>\n",
              "      <td>48</td>\n",
              "      <td>2777804</td>\n",
              "      <td>75</td>\n",
              "    </tr>\n",
              "    <tr>\n",
              "      <th>3</th>\n",
              "      <td>201902</td>\n",
              "      <td>서울</td>\n",
              "      <td>광진구</td>\n",
              "      <td>서양식 음식점업</td>\n",
              "      <td>강원</td>\n",
              "      <td>양양군</td>\n",
              "      <td>20s</td>\n",
              "      <td>2</td>\n",
              "      <td>1</td>\n",
              "      <td>3</td>\n",
              "      <td>57600</td>\n",
              "      <td>3</td>\n",
              "    </tr>\n",
              "    <tr>\n",
              "      <th>4</th>\n",
              "      <td>201902</td>\n",
              "      <td>경기</td>\n",
              "      <td>용인시 처인구</td>\n",
              "      <td>전시 및 행사 대행업</td>\n",
              "      <td>강원</td>\n",
              "      <td>철원군</td>\n",
              "      <td>20s</td>\n",
              "      <td>1</td>\n",
              "      <td>1</td>\n",
              "      <td>10</td>\n",
              "      <td>196700</td>\n",
              "      <td>17</td>\n",
              "    </tr>\n",
              "    <tr>\n",
              "      <th>...</th>\n",
              "      <td>...</td>\n",
              "      <td>...</td>\n",
              "      <td>...</td>\n",
              "      <td>...</td>\n",
              "      <td>...</td>\n",
              "      <td>...</td>\n",
              "      <td>...</td>\n",
              "      <td>...</td>\n",
              "      <td>...</td>\n",
              "      <td>...</td>\n",
              "      <td>...</td>\n",
              "      <td>...</td>\n",
              "    </tr>\n",
              "    <tr>\n",
              "      <th>9848</th>\n",
              "      <td>201901</td>\n",
              "      <td>제주</td>\n",
              "      <td>서귀포시</td>\n",
              "      <td>한식 음식점업</td>\n",
              "      <td>충북</td>\n",
              "      <td>청주시 상당구</td>\n",
              "      <td>50s</td>\n",
              "      <td>2</td>\n",
              "      <td>4</td>\n",
              "      <td>9</td>\n",
              "      <td>835500</td>\n",
              "      <td>14</td>\n",
              "    </tr>\n",
              "    <tr>\n",
              "      <th>9849</th>\n",
              "      <td>201912</td>\n",
              "      <td>충남</td>\n",
              "      <td>천안시 서북구</td>\n",
              "      <td>빵 및 과자류 소매업</td>\n",
              "      <td>충북</td>\n",
              "      <td>음성군</td>\n",
              "      <td>50s</td>\n",
              "      <td>1</td>\n",
              "      <td>4</td>\n",
              "      <td>3</td>\n",
              "      <td>88500</td>\n",
              "      <td>4</td>\n",
              "    </tr>\n",
              "    <tr>\n",
              "      <th>9850</th>\n",
              "      <td>201912</td>\n",
              "      <td>충남</td>\n",
              "      <td>홍성군</td>\n",
              "      <td>체인화 편의점</td>\n",
              "      <td>충북</td>\n",
              "      <td>청주시 상당구</td>\n",
              "      <td>50s</td>\n",
              "      <td>1</td>\n",
              "      <td>4</td>\n",
              "      <td>4</td>\n",
              "      <td>39000</td>\n",
              "      <td>5</td>\n",
              "    </tr>\n",
              "    <tr>\n",
              "      <th>9851</th>\n",
              "      <td>202003</td>\n",
              "      <td>경기</td>\n",
              "      <td>이천시</td>\n",
              "      <td>한식 음식점업</td>\n",
              "      <td>충북</td>\n",
              "      <td>충주시</td>\n",
              "      <td>50s</td>\n",
              "      <td>1</td>\n",
              "      <td>4</td>\n",
              "      <td>112</td>\n",
              "      <td>3558970</td>\n",
              "      <td>163</td>\n",
              "    </tr>\n",
              "    <tr>\n",
              "      <th>9852</th>\n",
              "      <td>201903</td>\n",
              "      <td>충북</td>\n",
              "      <td>청주시 서원구</td>\n",
              "      <td>슈퍼마켓</td>\n",
              "      <td>충북</td>\n",
              "      <td>청주시 청원구</td>\n",
              "      <td>70s</td>\n",
              "      <td>1</td>\n",
              "      <td>5</td>\n",
              "      <td>20</td>\n",
              "      <td>858310</td>\n",
              "      <td>46</td>\n",
              "    </tr>\n",
              "  </tbody>\n",
              "</table>\n",
              "<p>9853 rows × 12 columns</p>\n",
              "</div>"
            ],
            "text/plain": [
              "      REG_YYMM CARD_SIDO_NM CARD_CCG_NM  ... CSTMR_CNT      AMT  CNT\n",
              "0       201908           강원         삼척시  ...         8   115720   12\n",
              "1       201904           강원         강릉시  ...         5    85710    6\n",
              "2       201907           강원         속초시  ...        48  2777804   75\n",
              "3       201902           서울         광진구  ...         3    57600    3\n",
              "4       201902           경기     용인시 처인구  ...        10   196700   17\n",
              "...        ...          ...         ...  ...       ...      ...  ...\n",
              "9848    201901           제주        서귀포시  ...         9   835500   14\n",
              "9849    201912           충남     천안시 서북구  ...         3    88500    4\n",
              "9850    201912           충남         홍성군  ...         4    39000    5\n",
              "9851    202003           경기         이천시  ...       112  3558970  163\n",
              "9852    201903           충북     청주시 서원구  ...        20   858310   46\n",
              "\n",
              "[9853 rows x 12 columns]"
            ]
          },
          "metadata": {
            "tags": []
          },
          "execution_count": 16
        }
      ]
    },
    {
      "cell_type": "markdown",
      "metadata": {
        "id": "CY_KCIzhB9O5",
        "colab_type": "text"
      },
      "source": [
        "*   CARD_SIDO_NM : 카드이용지역_시도 (가맹점 주소 기준)\n",
        "*   CARD_CCG_NM : 카드이용지역_시군구 (가맹점 주소 기준)\n",
        "*   STD_CLSS_NM : 업종명\n",
        "*   HOM_SIDO_NM : 거주지역_시도 (고객 집주소 기준)\n",
        "*   HOM_CCG_NM : 거주지역_시군구 (고객 집주소 기준)\n",
        "*   SEX_CTGO_CD : 성별 (1: 남성, 2: 여성)\n",
        "*   FLC : 가구생애주기 (1: 1인가구, 2: 영유아자녀가구, 3: 중고생자녀가구, 4: 성인자녀가구, 5: 노년가구)\n",
        "*   CSTMR_CNT : 이용고객수 (명)\n",
        "*   AMT : 이용금액 (원)\n",
        "*   CNT : 이용건수 (건)"
      ]
    },
    {
      "cell_type": "markdown",
      "metadata": {
        "id": "BsQ7Z07VL43r",
        "colab_type": "text"
      },
      "source": [
        "#### (2) 날짜 데이터 전처리"
      ]
    },
    {
      "cell_type": "code",
      "metadata": {
        "id": "cxZ2NrHgImI0",
        "colab_type": "code",
        "colab": {}
      },
      "source": [
        "def grap_year(data):\n",
        "    data = str(data)\n",
        "    return int(data[:4])\n",
        "\n",
        "def grap_month(data):\n",
        "    data = str(data)\n",
        "    return int(data[4:])"
      ],
      "execution_count": null,
      "outputs": []
    },
    {
      "cell_type": "code",
      "metadata": {
        "id": "3PyrdQeWKzj_",
        "colab_type": "code",
        "colab": {
          "base_uri": "https://localhost:8080/",
          "height": 126
        },
        "outputId": "7c06f540-d10c-428c-b979-287d59916f62"
      },
      "source": [
        "# 날짜 처리\n",
        "data = train.copy()\n",
        "data = data.fillna('')\n",
        "data['REG_YYMM'].head()"
      ],
      "execution_count": null,
      "outputs": [
        {
          "output_type": "execute_result",
          "data": {
            "text/plain": [
              "0    201912\n",
              "1    201903\n",
              "2    201906\n",
              "3    201907\n",
              "4    201908\n",
              "Name: REG_YYMM, dtype: int64"
            ]
          },
          "metadata": {
            "tags": []
          },
          "execution_count": 10
        }
      ]
    },
    {
      "cell_type": "code",
      "metadata": {
        "id": "CJ-pVjMbK67b",
        "colab_type": "code",
        "colab": {
          "base_uri": "https://localhost:8080/",
          "height": 215
        },
        "outputId": "01b6ad5c-c015-4cc9-8b2e-d2fa9445c716"
      },
      "source": [
        "data['year'] = data['REG_YYMM'].apply(lambda x: grap_year(x))\n",
        "data['month'] = data['REG_YYMM'].apply(lambda x: grap_month(x))\n",
        "data = data.drop(['REG_YYMM'], axis=1)\n",
        "data.head()"
      ],
      "execution_count": null,
      "outputs": [
        {
          "output_type": "execute_result",
          "data": {
            "text/html": [
              "<div>\n",
              "<style scoped>\n",
              "    .dataframe tbody tr th:only-of-type {\n",
              "        vertical-align: middle;\n",
              "    }\n",
              "\n",
              "    .dataframe tbody tr th {\n",
              "        vertical-align: top;\n",
              "    }\n",
              "\n",
              "    .dataframe thead th {\n",
              "        text-align: right;\n",
              "    }\n",
              "</style>\n",
              "<table border=\"1\" class=\"dataframe\">\n",
              "  <thead>\n",
              "    <tr style=\"text-align: right;\">\n",
              "      <th></th>\n",
              "      <th>CARD_SIDO_NM</th>\n",
              "      <th>CARD_CCG_NM</th>\n",
              "      <th>STD_CLSS_NM</th>\n",
              "      <th>HOM_SIDO_NM</th>\n",
              "      <th>HOM_CCG_NM</th>\n",
              "      <th>AGE</th>\n",
              "      <th>SEX_CTGO_CD</th>\n",
              "      <th>FLC</th>\n",
              "      <th>CSTMR_CNT</th>\n",
              "      <th>AMT</th>\n",
              "      <th>CNT</th>\n",
              "      <th>year</th>\n",
              "      <th>month</th>\n",
              "    </tr>\n",
              "  </thead>\n",
              "  <tbody>\n",
              "    <tr>\n",
              "      <th>0</th>\n",
              "      <td>서울</td>\n",
              "      <td>구로구</td>\n",
              "      <td>한식 음식점업</td>\n",
              "      <td>강원</td>\n",
              "      <td>강릉시</td>\n",
              "      <td>10s</td>\n",
              "      <td>1</td>\n",
              "      <td>1</td>\n",
              "      <td>3</td>\n",
              "      <td>24900</td>\n",
              "      <td>3</td>\n",
              "      <td>2019</td>\n",
              "      <td>12</td>\n",
              "    </tr>\n",
              "    <tr>\n",
              "      <th>1</th>\n",
              "      <td>서울</td>\n",
              "      <td>광진구</td>\n",
              "      <td>피자 햄버거 샌드위치 및 유사 음식점업</td>\n",
              "      <td>강원</td>\n",
              "      <td>화천군</td>\n",
              "      <td>20s</td>\n",
              "      <td>2</td>\n",
              "      <td>1</td>\n",
              "      <td>3</td>\n",
              "      <td>15900</td>\n",
              "      <td>3</td>\n",
              "      <td>2019</td>\n",
              "      <td>3</td>\n",
              "    </tr>\n",
              "    <tr>\n",
              "      <th>2</th>\n",
              "      <td>서울</td>\n",
              "      <td>서초구</td>\n",
              "      <td>비알콜 음료점업</td>\n",
              "      <td>강원</td>\n",
              "      <td>속초시</td>\n",
              "      <td>20s</td>\n",
              "      <td>2</td>\n",
              "      <td>2</td>\n",
              "      <td>10</td>\n",
              "      <td>76300</td>\n",
              "      <td>11</td>\n",
              "      <td>2019</td>\n",
              "      <td>6</td>\n",
              "    </tr>\n",
              "    <tr>\n",
              "      <th>3</th>\n",
              "      <td>서울</td>\n",
              "      <td>마포구</td>\n",
              "      <td>비알콜 음료점업</td>\n",
              "      <td>강원</td>\n",
              "      <td>동해시</td>\n",
              "      <td>20s</td>\n",
              "      <td>2</td>\n",
              "      <td>1</td>\n",
              "      <td>11</td>\n",
              "      <td>141300</td>\n",
              "      <td>21</td>\n",
              "      <td>2019</td>\n",
              "      <td>7</td>\n",
              "    </tr>\n",
              "    <tr>\n",
              "      <th>4</th>\n",
              "      <td>강원</td>\n",
              "      <td>원주시</td>\n",
              "      <td>일식 음식점업</td>\n",
              "      <td>강원</td>\n",
              "      <td>동해시</td>\n",
              "      <td>20s</td>\n",
              "      <td>2</td>\n",
              "      <td>1</td>\n",
              "      <td>3</td>\n",
              "      <td>109200</td>\n",
              "      <td>4</td>\n",
              "      <td>2019</td>\n",
              "      <td>8</td>\n",
              "    </tr>\n",
              "  </tbody>\n",
              "</table>\n",
              "</div>"
            ],
            "text/plain": [
              "  CARD_SIDO_NM CARD_CCG_NM            STD_CLSS_NM  ... CNT  year month\n",
              "0           서울         구로구                한식 음식점업  ...   3  2019    12\n",
              "1           서울         광진구  피자 햄버거 샌드위치 및 유사 음식점업  ...   3  2019     3\n",
              "2           서울         서초구               비알콜 음료점업  ...  11  2019     6\n",
              "3           서울         마포구               비알콜 음료점업  ...  21  2019     7\n",
              "4           강원         원주시                일식 음식점업  ...   4  2019     8\n",
              "\n",
              "[5 rows x 13 columns]"
            ]
          },
          "metadata": {
            "tags": []
          },
          "execution_count": 11
        }
      ]
    },
    {
      "cell_type": "markdown",
      "metadata": {
        "id": "9O8qk6IXL9SO",
        "colab_type": "text"
      },
      "source": [
        "#### (3) 시군구 컬럼 제거"
      ]
    },
    {
      "cell_type": "code",
      "metadata": {
        "id": "8wKeek6QK-np",
        "colab_type": "code",
        "colab": {}
      },
      "source": [
        "# 데이터 정제\n",
        "df = data.drop(['CARD_CCG_NM', 'HOM_CCG_NM'], axis=1)\n",
        "columns = ['CARD_SIDO_NM', 'STD_CLSS_NM', 'HOM_SIDO_NM', 'AGE', 'SEX_CTGO_CD', 'FLC', 'year', 'month']\n",
        "df = df.groupby(columns).sum().reset_index(drop=False)"
      ],
      "execution_count": null,
      "outputs": []
    },
    {
      "cell_type": "code",
      "metadata": {
        "id": "pD8zACB2Ml8c",
        "colab_type": "code",
        "colab": {
          "base_uri": "https://localhost:8080/",
          "height": 198
        },
        "outputId": "a6c4dce7-8df7-4aaf-c96e-be9cd8a216a6"
      },
      "source": [
        "df.head()"
      ],
      "execution_count": null,
      "outputs": [
        {
          "output_type": "execute_result",
          "data": {
            "text/html": [
              "<div>\n",
              "<style scoped>\n",
              "    .dataframe tbody tr th:only-of-type {\n",
              "        vertical-align: middle;\n",
              "    }\n",
              "\n",
              "    .dataframe tbody tr th {\n",
              "        vertical-align: top;\n",
              "    }\n",
              "\n",
              "    .dataframe thead th {\n",
              "        text-align: right;\n",
              "    }\n",
              "</style>\n",
              "<table border=\"1\" class=\"dataframe\">\n",
              "  <thead>\n",
              "    <tr style=\"text-align: right;\">\n",
              "      <th></th>\n",
              "      <th>CARD_SIDO_NM</th>\n",
              "      <th>STD_CLSS_NM</th>\n",
              "      <th>HOM_SIDO_NM</th>\n",
              "      <th>AGE</th>\n",
              "      <th>SEX_CTGO_CD</th>\n",
              "      <th>FLC</th>\n",
              "      <th>year</th>\n",
              "      <th>month</th>\n",
              "      <th>CSTMR_CNT</th>\n",
              "      <th>AMT</th>\n",
              "      <th>CNT</th>\n",
              "    </tr>\n",
              "  </thead>\n",
              "  <tbody>\n",
              "    <tr>\n",
              "      <th>0</th>\n",
              "      <td>강원</td>\n",
              "      <td>건강보조식품 소매업</td>\n",
              "      <td>강원</td>\n",
              "      <td>50s</td>\n",
              "      <td>1</td>\n",
              "      <td>4</td>\n",
              "      <td>2019</td>\n",
              "      <td>10</td>\n",
              "      <td>37</td>\n",
              "      <td>4106500</td>\n",
              "      <td>42</td>\n",
              "    </tr>\n",
              "    <tr>\n",
              "      <th>1</th>\n",
              "      <td>강원</td>\n",
              "      <td>골프장 운영업</td>\n",
              "      <td>강원</td>\n",
              "      <td>20s</td>\n",
              "      <td>1</td>\n",
              "      <td>1</td>\n",
              "      <td>2019</td>\n",
              "      <td>5</td>\n",
              "      <td>3</td>\n",
              "      <td>162300</td>\n",
              "      <td>4</td>\n",
              "    </tr>\n",
              "    <tr>\n",
              "      <th>2</th>\n",
              "      <td>강원</td>\n",
              "      <td>골프장 운영업</td>\n",
              "      <td>경기</td>\n",
              "      <td>30s</td>\n",
              "      <td>1</td>\n",
              "      <td>2</td>\n",
              "      <td>2019</td>\n",
              "      <td>12</td>\n",
              "      <td>3</td>\n",
              "      <td>361900</td>\n",
              "      <td>4</td>\n",
              "    </tr>\n",
              "    <tr>\n",
              "      <th>3</th>\n",
              "      <td>강원</td>\n",
              "      <td>골프장 운영업</td>\n",
              "      <td>경기</td>\n",
              "      <td>40s</td>\n",
              "      <td>1</td>\n",
              "      <td>3</td>\n",
              "      <td>2019</td>\n",
              "      <td>7</td>\n",
              "      <td>39</td>\n",
              "      <td>3912230</td>\n",
              "      <td>81</td>\n",
              "    </tr>\n",
              "    <tr>\n",
              "      <th>4</th>\n",
              "      <td>강원</td>\n",
              "      <td>골프장 운영업</td>\n",
              "      <td>경기</td>\n",
              "      <td>40s</td>\n",
              "      <td>1</td>\n",
              "      <td>3</td>\n",
              "      <td>2019</td>\n",
              "      <td>9</td>\n",
              "      <td>4</td>\n",
              "      <td>368000</td>\n",
              "      <td>4</td>\n",
              "    </tr>\n",
              "  </tbody>\n",
              "</table>\n",
              "</div>"
            ],
            "text/plain": [
              "  CARD_SIDO_NM STD_CLSS_NM HOM_SIDO_NM  AGE  ...  month  CSTMR_CNT      AMT  CNT\n",
              "0           강원  건강보조식품 소매업          강원  50s  ...     10         37  4106500   42\n",
              "1           강원     골프장 운영업          강원  20s  ...      5          3   162300    4\n",
              "2           강원     골프장 운영업          경기  30s  ...     12          3   361900    4\n",
              "3           강원     골프장 운영업          경기  40s  ...      7         39  3912230   81\n",
              "4           강원     골프장 운영업          경기  40s  ...      9          4   368000    4\n",
              "\n",
              "[5 rows x 11 columns]"
            ]
          },
          "metadata": {
            "tags": []
          },
          "execution_count": 17
        }
      ]
    },
    {
      "cell_type": "markdown",
      "metadata": {
        "id": "ulAa0tQuMDH4",
        "colab_type": "text"
      },
      "source": [
        "#### (4) 라벨 인코딩"
      ]
    },
    {
      "cell_type": "markdown",
      "metadata": {
        "id": "O-1m2ablCOXn",
        "colab_type": "text"
      },
      "source": [
        "* 사이킷런의 ML알고리즘은 결측치가 허용되지 않는다.\n",
        "* 사이킷런의 ML알고리즘은 문자열 값을 입력 값으로 허용하지 않는다.\n",
        "    * 따라서, 이를 숫자형으로 변환해야 한다.\n",
        "    * 이를 데이터 인코딩이라 부른다.\n",
        "* 데이터 인코딩에는 크게 두가지 있다.\n",
        "    * 레이블 인코딩 VS. 원-핫 인코딩\n",
        "* 레이블 인코딩은 카테고리 피처를 코드형 숫자 값으로 변환한다.\n",
        "    * 이 때, 일괄적으로 숫자로 변환이 되면 선형회귀와 같은 ML알고리즘에는 적용하지 않는다. 이유는 숫자 값의 경우 크고 작음에 대한 특성이 작용한다.\n",
        "    * 그러나, 본 예제에서는 주로 트리 계열을 알고리즘을 사용할 것이기 때문에 크게 상관은 없다.\n",
        "* 원핫 인코딩은 피처 값의 유형에 따라 새로운 피처를 추가해 고유 값에 해당하는 칼럼에만 1을 표시하고 나머지 칼럼에는 0을 표시한다.\n",
        "본 실습에서는 주로 라벨 인코딩만 사용하고 진행해본다."
      ]
    },
    {
      "cell_type": "code",
      "metadata": {
        "id": "l9_b6hfdLIgG",
        "colab_type": "code",
        "colab": {}
      },
      "source": [
        "# 인코딩\n",
        "dtypes = df.dtypes\n",
        "encoders = {}\n",
        "for column in df.columns:\n",
        "    if str(dtypes[column]) == 'object':\n",
        "        encoder = LabelEncoder()\n",
        "        encoder.fit(df[column])\n",
        "        encoders[column] = encoder\n",
        "        \n",
        "df_num = df.copy()        \n",
        "for column in encoders.keys():\n",
        "    encoder = encoders[column]\n",
        "    df_num[column] = encoder.transform(df[column])"
      ],
      "execution_count": null,
      "outputs": []
    },
    {
      "cell_type": "markdown",
      "metadata": {
        "id": "5EgnFkhZMH9u",
        "colab_type": "text"
      },
      "source": [
        "#### (5) 데이터셋 분리"
      ]
    },
    {
      "cell_type": "markdown",
      "metadata": {
        "id": "1TJyIrSFCTyY",
        "colab_type": "text"
      },
      "source": [
        "* X_data : 독립변수\n",
        "    * CARD_SIDO_NM : 카드이용지역_시도 (가맹점 주소 기준)\n",
        "    * STD_CLSS_NM : 업종명\n",
        "    * HOM_SIDO_NM : 거주지역_시도 (고객 집주소 기준)\n",
        "    * AGE : 연령대\n",
        "    * SEX_CTGO_CD : 성별\n",
        "    * FLC : 가구생애주기\n",
        "    * year\n",
        "    * month\n",
        "\n",
        "* y_data : 종속변수\n",
        "    * AMT : 이용금액\n",
        "\n",
        "* X_data와 y_data를 train(훈련데이터)와 test(검증데이터)를 7:3 비율로 분리"
      ]
    },
    {
      "cell_type": "code",
      "metadata": {
        "id": "2jJQnot0LOkU",
        "colab_type": "code",
        "colab": {
          "base_uri": "https://localhost:8080/",
          "height": 35
        },
        "outputId": "b06495cc-f033-4a57-c8a4-6554092565b8"
      },
      "source": [
        "from sklearn.model_selection import train_test_split\n",
        "\n",
        "X_data, y_data = df_num.loc[:, df_num.columns != 'AMT'], df.loc[:, df_num.columns == 'AMT']\n",
        "y_target = y_data['AMT']\n",
        "X_data = X_data.drop(['CSTMR_CNT', 'CNT'], axis=1)\n",
        "X_train, X_test, y_train, y_test = train_test_split(X_data, y_target, test_size=0.3, random_state=126, shuffle=True)\n",
        "X_train.shape, y_train.shape, X_test.shape, y_test.shape"
      ],
      "execution_count": null,
      "outputs": [
        {
          "output_type": "execute_result",
          "data": {
            "text/plain": [
              "((6567, 8), (6567,), (2815, 8), (2815,))"
            ]
          },
          "metadata": {
            "tags": []
          },
          "execution_count": 14
        }
      ]
    },
    {
      "cell_type": "markdown",
      "metadata": {
        "id": "WnhBcFZ8OgBG",
        "colab_type": "text"
      },
      "source": [
        "#### (6) 종속 변수 확인"
      ]
    },
    {
      "cell_type": "code",
      "metadata": {
        "id": "k_VXB6OiLRX-",
        "colab_type": "code",
        "colab": {
          "base_uri": "https://localhost:8080/",
          "height": 627
        },
        "outputId": "797ed95b-9bec-49af-a504-fcde255da903"
      },
      "source": [
        "sns.distplot(y_train , fit=norm);\n",
        "(mu, sigma) = norm.fit(y_train)\n",
        "print( '\\n mu = {:.2f} and sigma = {:.2f}\\n'.format(mu, sigma))\n",
        "plt.legend(['Normal dist. ($\\mu=$ {:.2f} and $\\sigma=$ {:.2f} )'.format(mu, sigma)],\n",
        "            loc='best')\n",
        "plt.ylabel('Frequency')\n",
        "plt.title('AMT distribution')\n",
        "\n",
        "fig = plt.figure()\n",
        "res = stats.probplot(y_train, plot=plt)\n",
        "plt.show()"
      ],
      "execution_count": null,
      "outputs": [
        {
          "output_type": "stream",
          "text": [
            "\n",
            " mu = 2628243.71 and sigma = 18702070.45\n",
            "\n"
          ],
          "name": "stdout"
        },
        {
          "output_type": "display_data",
          "data": {
            "image/png": "[encoded data removed]",
            "text/plain": [
              "<Figure size 432x288 with 1 Axes>"
            ]
          },
          "metadata": {
            "tags": [],
            "needs_background": "light"
          }
        },
        {
          "output_type": "display_data",
          "data": {
            "image/png": "[encoded data removed]",
            "text/plain": [
              "<Figure size 432x288 with 1 Axes>"
            ]
          },
          "metadata": {
            "tags": [],
            "needs_background": "light"
          }
        }
      ]
    },
    {
      "cell_type": "markdown",
      "metadata": {
        "id": "r6cQmGL1CeYO",
        "colab_type": "text"
      },
      "source": [
        "* 종속변수를 정규분포에 적합시켰을 때 분산이 상당히 크고 한 쪽으로 치우쳐 있음을 확인\n",
        "* Q-Q plot을 보아도 정규화 작업이 필요함을 알 수 있음"
      ]
    },
    {
      "cell_type": "markdown",
      "metadata": {
        "id": "KdZvm680Cgg1",
        "colab_type": "text"
      },
      "source": [
        "종속 변수의 로그변환을 통한 정규화"
      ]
    },
    {
      "cell_type": "code",
      "metadata": {
        "id": "GjrbDyyDLcf1",
        "colab_type": "code",
        "colab": {
          "base_uri": "https://localhost:8080/",
          "height": 627
        },
        "outputId": "9e400bb1-30d4-4b6e-b320-3d9b8b1adede"
      },
      "source": [
        "y_train = np.log1p(y_train)\n",
        "\n",
        "sns.distplot(y_train , fit=norm);\n",
        "(mu, sigma) = norm.fit(y_train)\n",
        "print( '\\n mu = {:.2f} and sigma = {:.2f}\\n'.format(mu, sigma))\n",
        "plt.legend(['Normal dist. ($\\mu=$ {:.2f} and $\\sigma=$ {:.2f} )'.format(mu, sigma)],\n",
        "            loc='best')\n",
        "plt.ylabel('Frequency')\n",
        "plt.title('AMT distribution')\n",
        "\n",
        "fig = plt.figure()\n",
        "res = stats.probplot(y_train, plot=plt)\n",
        "plt.show()"
      ],
      "execution_count": null,
      "outputs": [
        {
          "output_type": "stream",
          "text": [
            "\n",
            " mu = 12.64 and sigma = 1.74\n",
            "\n"
          ],
          "name": "stdout"
        },
        {
          "output_type": "display_data",
          "data": {
            "image/png": "[encoded data removed]",
            "text/plain": [
              "<Figure size 432x288 with 1 Axes>"
            ]
          },
          "metadata": {
            "tags": [],
            "needs_background": "light"
          }
        },
        {
          "output_type": "display_data",
          "data": {
            "image/png": "[encoded data removed]",
            "text/plain": [
              "<Figure size 432x288 with 1 Axes>"
            ]
          },
          "metadata": {
            "tags": [],
            "needs_background": "light"
          }
        }
      ]
    },
    {
      "cell_type": "markdown",
      "metadata": {
        "id": "4MLs52gCCm3U",
        "colab_type": "text"
      },
      "source": [
        "* 로그변환 후 정규분포에 상당히 가까워졌음"
      ]
    },
    {
      "cell_type": "markdown",
      "metadata": {
        "id": "lsX2yRraPx-l",
        "colab_type": "text"
      },
      "source": [
        "### III. GBM, XGBoost, Lightgbm의 개요 및 실습"
      ]
    },
    {
      "cell_type": "markdown",
      "metadata": {
        "id": "t_zfakczP0fs",
        "colab_type": "text"
      },
      "source": [
        "#### (2) XGboost 설치"
      ]
    },
    {
      "cell_type": "code",
      "metadata": {
        "id": "jK7lZUdbLgtD",
        "colab_type": "code",
        "colab": {
          "base_uri": "https://localhost:8080/",
          "height": 35
        },
        "outputId": "6e9a275c-4fc2-4cc4-9a9e-0e00fd2e2633"
      },
      "source": [
        "from xgboost import XGBRegressor\n",
        "import xgboost\n",
        "print(xgboost.__version__)"
      ],
      "execution_count": null,
      "outputs": [
        {
          "output_type": "stream",
          "text": [
            "0.90\n"
          ],
          "name": "stdout"
        }
      ]
    },
    {
      "cell_type": "markdown",
      "metadata": {
        "id": "O6Zl_HVzP7cs",
        "colab_type": "text"
      },
      "source": [
        "#### (3) XGboost 기본 실습"
      ]
    },
    {
      "cell_type": "code",
      "metadata": {
        "id": "BTI6xvinLnE7",
        "colab_type": "code",
        "colab": {
          "base_uri": "https://localhost:8080/",
          "height": 181
        },
        "outputId": "f72a5c0b-4ca2-4135-98ff-5353b84b0c81"
      },
      "source": [
        "# 데이터셋 분리\n",
        "from sklearn.model_selection import train_test_split\n",
        "\n",
        "# 데이터 수집\n",
        "from sklearn.datasets import load_boston\n",
        "\n",
        "# 평가 메트릭\n",
        "from sklearn.metrics import mean_squared_error, mean_absolute_error\n",
        "\n",
        "# 데이터 수집\n",
        "boston = load_boston()\n",
        "x, y = boston.data, boston.target\n",
        "\n",
        "# 데이터 분리\n",
        "X_train, X_test, y_train, y_test=train_test_split(x, y, test_size=0.15, random_state = 1)\n",
        "\n",
        "xgb_reg = XGBRegressor(verbosity=0) \n",
        "print(xgb_reg)\n",
        "\n",
        "xgb_reg.fit(X_train, y_train)\n",
        "score = xgb_reg.score(X_train, y_train)  \n",
        "print(\"Training score: \", score)\n",
        "\n",
        "y_pred = xgb_reg.predict(X_test)\n",
        "mse = mean_squared_error(y_test, y_pred)\n",
        "print(\"MSE: %.2f\" % mse)"
      ],
      "execution_count": null,
      "outputs": [
        {
          "output_type": "stream",
          "text": [
            "XGBRegressor(base_score=0.5, booster='gbtree', colsample_bylevel=1,\n",
            "             colsample_bynode=1, colsample_bytree=1, gamma=0,\n",
            "             importance_type='gain', learning_rate=0.1, max_delta_step=0,\n",
            "             max_depth=3, min_child_weight=1, missing=None, n_estimators=100,\n",
            "             n_jobs=1, nthread=None, objective='reg:linear', random_state=0,\n",
            "             reg_alpha=0, reg_lambda=1, scale_pos_weight=1, seed=None,\n",
            "             silent=None, subsample=1, verbosity=0)\n",
            "Training score:  0.9749120480780799\n",
            "MSE: 7.22\n"
          ],
          "name": "stdout"
        }
      ]
    },
    {
      "cell_type": "markdown",
      "metadata": {
        "id": "gJE-n2yxQDwj",
        "colab_type": "text"
      },
      "source": [
        "#### (5) LightGBM 설치"
      ]
    },
    {
      "cell_type": "code",
      "metadata": {
        "id": "NHH7F7NhLo3L",
        "colab_type": "code",
        "colab": {
          "base_uri": "https://localhost:8080/",
          "height": 35
        },
        "outputId": "72ff6f75-87f8-482a-967a-3526d73e1baf"
      },
      "source": [
        "import lightgbm\n",
        "from lightgbm import LGBMRegressor\n",
        "print(lightgbm.__version__)"
      ],
      "execution_count": null,
      "outputs": [
        {
          "output_type": "stream",
          "text": [
            "2.2.3\n"
          ],
          "name": "stdout"
        }
      ]
    },
    {
      "cell_type": "markdown",
      "metadata": {
        "id": "le0wdp_AQQ3Y",
        "colab_type": "text"
      },
      "source": [
        "#### (6) LightGBM 실습"
      ]
    },
    {
      "cell_type": "code",
      "metadata": {
        "id": "7VIBiqFDLxAv",
        "colab_type": "code",
        "colab": {
          "base_uri": "https://localhost:8080/",
          "height": 181
        },
        "outputId": "e0bd1139-e768-4d86-a421-85ab1b3f15a5"
      },
      "source": [
        "# 데이터셋 분리\n",
        "from sklearn.model_selection import train_test_split\n",
        "\n",
        "# 데이터 수집\n",
        "from sklearn.datasets import load_boston\n",
        "\n",
        "# 평가 메트릭\n",
        "from sklearn.metrics import mean_squared_error, mean_absolute_error\n",
        "\n",
        "# 데이터 수집\n",
        "boston = load_boston()\n",
        "x, y = boston.data, boston.target\n",
        "\n",
        "# 데이터 분리\n",
        "X_training, X_testing, y_training, y_testing = train_test_split(x, y, test_size=0.15, random_state = 1)\n",
        "\n",
        "lgb_reg = LGBMRegressor(verbosity=0) \n",
        "print(lgb_reg)\n",
        "\n",
        "lgb_reg.fit(X_training, y_training)\n",
        "score = lgb_reg.score(X_training, y_training)  \n",
        "print(\"Training score: \", score)\n",
        "\n",
        "y_pred = lgb_reg.predict(X_testing)\n",
        "mse = mean_squared_error(y_testing, y_pred)\n",
        "print(\"MSE: %.2f\" % mse)"
      ],
      "execution_count": null,
      "outputs": [
        {
          "output_type": "stream",
          "text": [
            "LGBMRegressor(boosting_type='gbdt', class_weight=None, colsample_bytree=1.0,\n",
            "              importance_type='split', learning_rate=0.1, max_depth=-1,\n",
            "              min_child_samples=20, min_child_weight=0.001, min_split_gain=0.0,\n",
            "              n_estimators=100, n_jobs=-1, num_leaves=31, objective=None,\n",
            "              random_state=None, reg_alpha=0.0, reg_lambda=0.0, silent=True,\n",
            "              subsample=1.0, subsample_for_bin=200000, subsample_freq=0,\n",
            "              verbosity=0)\n",
            "Training score:  0.9799082762820248\n",
            "MSE: 9.44\n"
          ],
          "name": "stdout"
        }
      ]
    },
    {
      "cell_type": "markdown",
      "metadata": {
        "id": "rpW0wi7mQi0_",
        "colab_type": "text"
      },
      "source": [
        "### IV. 스태킹(Stacking) 알고리즘"
      ]
    },
    {
      "cell_type": "markdown",
      "metadata": {
        "id": "jF0_2_JAQnjU",
        "colab_type": "text"
      },
      "source": [
        "#### (1) 스태킹 알고리즘 개념 예제"
      ]
    },
    {
      "cell_type": "code",
      "metadata": {
        "id": "soebMxymL2In",
        "colab_type": "code",
        "colab": {
          "base_uri": "https://localhost:8080/",
          "height": 90
        },
        "outputId": "2a54c511-34df-4522-95bb-78debda9eb1d"
      },
      "source": [
        "import numpy as np\n",
        "\n",
        "from sklearn.neighbors import KNeighborsClassifier\n",
        "from sklearn.ensemble import RandomForestClassifier\n",
        "from sklearn.ensemble import AdaBoostClassifier\n",
        "from sklearn.tree import DecisionTreeClassifier\n",
        "from sklearn.linear_model import LogisticRegression\n",
        "\n",
        "from sklearn.datasets import load_breast_cancer\n",
        "from sklearn.model_selection import train_test_split\n",
        "from sklearn.metrics import accuracy_score\n",
        "\n",
        "cancer_data = load_breast_cancer()\n",
        "\n",
        "X_data = cancer_data.data\n",
        "y_label = cancer_data.target\n",
        "\n",
        "X_training , X_testing , y_training , y_testing = train_test_split(X_data , y_label , test_size=0.2 , random_state=0)\n",
        "\n",
        "# 개별 ML 모델을 위한 Classifier 생성.\n",
        "knn_clf  = KNeighborsClassifier(n_neighbors=4)\n",
        "rf_clf = RandomForestClassifier(n_estimators=100, random_state=0)\n",
        "dt_clf = DecisionTreeClassifier()\n",
        "ada_clf = AdaBoostClassifier(n_estimators=100)\n",
        "\n",
        "# 최종 Stacking 모델을 위한 Classifier생성. \n",
        "lr_final = LogisticRegression(C=10)\n",
        "\n",
        "# 개별 모델들을 학습. \n",
        "knn_clf.fit(X_training, y_training)\n",
        "rf_clf.fit(X_training , y_training)\n",
        "dt_clf.fit(X_training , y_training)\n",
        "ada_clf.fit(X_training, y_training)\n",
        "\n",
        "# 학습된 개별 모델들이 각자 반환하는 예측 데이터 셋을 생성하고 개별 모델의 정확도 측정. \n",
        "knn_pred = knn_clf.predict(X_testing)\n",
        "rf_pred = rf_clf.predict(X_testing)\n",
        "dt_pred = dt_clf.predict(X_testing)\n",
        "ada_pred = ada_clf.predict(X_testing)\n",
        "\n",
        "print('KNN 정확도: {0:.4f}'.format(accuracy_score(y_testing, knn_pred)))\n",
        "print('랜덤 포레스트 정확도: {0:.4f}'.format(accuracy_score(y_testing, rf_pred)))\n",
        "print('결정 트리 정확도: {0:.4f}'.format(accuracy_score(y_testing, dt_pred)))\n",
        "print('에이다부스트 정확도: {0:.4f} :'.format(accuracy_score(y_testing, ada_pred)))"
      ],
      "execution_count": null,
      "outputs": [
        {
          "output_type": "stream",
          "text": [
            "KNN 정확도: 0.9211\n",
            "랜덤 포레스트 정확도: 0.9649\n",
            "결정 트리 정확도: 0.9035\n",
            "에이다부스트 정확도: 0.9561 :\n"
          ],
          "name": "stdout"
        }
      ]
    },
    {
      "cell_type": "code",
      "metadata": {
        "id": "MtIxdJTmL_v0",
        "colab_type": "code",
        "colab": {
          "base_uri": "https://localhost:8080/",
          "height": 72
        },
        "outputId": "eaf8e31f-398f-40ab-a38b-7d374af3a5dc"
      },
      "source": [
        "pred = np.array([knn_pred, rf_pred, dt_pred, ada_pred])\n",
        "print(pred.shape)\n",
        "\n",
        "# transpose를 이용해 행과 열의 위치 교환. 컬럼 레벨로 각 알고리즘의 예측 결과를 피처로 만듦. \n",
        "pred = np.transpose(pred)\n",
        "print(pred.shape)\n",
        "\n",
        "lr_final.fit(pred, y_testing)\n",
        "final = lr_final.predict(pred)\n",
        "\n",
        "print('최종 메타 모델의 예측 정확도: {0:.4f}'.format(accuracy_score(y_testing , final)))"
      ],
      "execution_count": null,
      "outputs": [
        {
          "output_type": "stream",
          "text": [
            "(4, 114)\n",
            "(114, 4)\n",
            "최종 메타 모델의 예측 정확도: 0.9649\n"
          ],
          "name": "stdout"
        }
      ]
    },
    {
      "cell_type": "markdown",
      "metadata": {
        "id": "1laEXAv0RECk",
        "colab_type": "text"
      },
      "source": [
        "### V. 교차검증 및 하이퍼 파라미터 튜닝"
      ]
    },
    {
      "cell_type": "markdown",
      "metadata": {
        "id": "ZxORPor9RLsj",
        "colab_type": "text"
      },
      "source": [
        "#### (3) RMSLE 성능 평가 방법"
      ]
    },
    {
      "cell_type": "code",
      "metadata": {
        "id": "CHYWEIHrMDXV",
        "colab_type": "code",
        "colab": {}
      },
      "source": [
        "def rmsle(y, pred): \n",
        "  log_y = np.log1p(y)\n",
        "  log_pred = np.log1p(pred)\n",
        "  squared_error = (log_y - log_pred)**2\n",
        "  rmsle = np.sqrt(np.mean(squared_error))\n",
        "  return print('Test Data RMSLE: {0:.3f}'.format(rmsle))"
      ],
      "execution_count": null,
      "outputs": []
    },
    {
      "cell_type": "markdown",
      "metadata": {
        "id": "WSqyv118RZXv",
        "colab_type": "text"
      },
      "source": [
        "#### (6) 모형 선언 및 학습"
      ]
    },
    {
      "cell_type": "markdown",
      "metadata": {
        "id": "LwKliziwC2g-",
        "colab_type": "text"
      },
      "source": [
        "* GridSearchCV : 그리드를 사용한 복수 하이퍼 파라미터 최적화\n",
        "    * 클래스 객체에 fit 메서드를 호출하면 grid search를 사용하여 자동으로 복수개의 내부 모형을 생성하고 이를 모두 실행시켜서 최적 파라미터를 찾아준다.\n",
        "* 생성된 복수개와 내부 모형과 실행 결과는 다음 속성에 저장된다.\n",
        "    * grid_scores_ : param_grid 의 모든 파리미터 조합에 대한 성능 결과. 각각의 원소는 다음 요소로 이루어진 튜플이다.\n",
        "    * parameters: 사용된 파라미터\n",
        "    * mean_validation_score : 교차 검증(cross-validation) 결과의 평균값\n",
        "    * cv_validation_scores : 모든 교차 검증(cross-validation) 결과\n",
        "    * best_score_ : 최고 점수\n",
        "    * best_params_ : 최고 점수를 낸 파라미터\n",
        "    * best_estimator_ : 최고 점수를 낸 파라미터를 가진 모형"
      ]
    },
    {
      "cell_type": "markdown",
      "metadata": {
        "id": "xPUKxwpkC7-C",
        "colab_type": "text"
      },
      "source": [
        "**Booster Parameters**\n",
        "\n",
        "* eta [default=0.3]\n",
        "  * Analogous to learning rate in GBM\n",
        "Makes the model more robust by shrinking the weights on each step\n",
        "Typical final values to be used: 0.01-0.2\n",
        "* min_child_weight [default=1]\n",
        "    * Defines the minimum sum of weights of all observations required in a child.\n",
        "This is similar to min_child_leaf in GBM but not exactly. This refers to min “sum of weights” of observations while GBM has min “number of observations”.\n",
        "Used to control over-fitting. Higher values prevent a model from learning relations which might be highly specific to the particular sample selected for a tree.\n",
        "Too high values can lead to under-fitting hence, it should be tuned using CV.\n",
        "* max_depth [default=6]\n",
        "The maximum depth of a tree, same as GBM.\n",
        "Used to control over-fitting as higher depth will allow model to learn relations very specific to a particular sample.\n",
        "Should be tuned using CV.\n",
        "Typical values: 3-10\n",
        "* max_leaf_nodes\n",
        "The maximum number of terminal nodes or leaves in a tree.\n",
        "Can be defined in place of max_depth. Since binary trees are created, a depth of ‘n’ would produce a maximum of 2^n leaves.\n",
        "If this is defined, GBM will ignore max_depth.\n",
        "* gamma [default=0]\n",
        "A node is split only when the resulting split gives a positive reduction in the loss function. Gamma specifies the minimum loss reduction required to make a split.\n",
        "Makes the algorithm conservative. The values can vary depending on the loss function and should be tuned.\n",
        "* max_delta_step [default=0]\n",
        "In maximum delta step we allow each tree’s weight estimation to be. If the value is set to 0, it means there is no constraint. If it is set to a positive value, it can help making the update step more conservative.\n",
        "Usually this parameter is not needed, but it might help in logistic regression when class is extremely imbalanced.\n",
        "This is generally not used but you can explore further if you wish.\n",
        "* subsample [default=1]\n",
        "Same as the subsample of GBM. Denotes the fraction of observations to be randomly samples for each tree.\n",
        "Lower values make the algorithm more conservative and prevents overfitting but too small values might lead to under-fitting.\n",
        "Typical values: 0.5-1\n",
        "* olsample_bytree [default=1]\n",
        "Similar to max_features in GBM. Denotes the fraction of columns to be randomly samples for each tree.\n",
        "Typical values: 0.5-1\n",
        "* colsample_bylevel [default=1]\n",
        "Denotes the subsample ratio of columns for each split, in each level.\n",
        "I don’t use this often because subsample and colsample_bytree will do the job for you. but you can explore further if you feel so.\n",
        "* lambda [default=1]\n",
        "L2 regularization term on weights (analogous to Ridge regression)\n",
        "This used to handle the regularization part of XGBoost. Though many data scientists don’t use it often, it should be explored to reduce overfitting.\n",
        "* alpha [default=0]\n",
        "L1 regularization term on weight (analogous to Lasso regression)\n",
        "Can be used in case of very high dimensionality so that the algorithm runs faster when implemented\n",
        "* scale_pos_weight [default=1]\n",
        "A value greater than 0 should be used in case of high class imbalance as it helps in faster convergence."
      ]
    },
    {
      "cell_type": "code",
      "metadata": {
        "id": "kD9xSu9YMHGs",
        "colab_type": "code",
        "colab": {}
      },
      "source": [
        "# 교차검증 수행\n",
        "def get_best_params_model(model, params):\n",
        "  cv_model = GridSearchCV(model, param_grid=params, scoring=\"neg_mean_squared_error\", cv = 5)\n",
        "  cv_model.fit(X_train, y_train)\n",
        "  print(\"----\", model.__class__.__name__, \"----\")\n",
        "  print(\"GridSearchCV 최적 하이퍼 파라미터 :\", cv_model.best_params_)\n",
        "\n",
        "  rmse = np.sqrt(-1*cv_model.best_score_)\n",
        "  print(\"GridSearchCV 최적 평균 RMSE값 :\", np.round(rmse, 3))\n",
        "\n",
        "  eval_pred = cv_model.predict(X_test)\n",
        "  eval_pred = np.expm1(eval_pred)\n",
        "  rmsle(y_test, eval_pred)\n",
        "  \n",
        "  return cv_model.best_estimator_"
      ],
      "execution_count": null,
      "outputs": []
    },
    {
      "cell_type": "code",
      "metadata": {
        "id": "Ora50_XEMKIE",
        "colab_type": "code",
        "colab": {
          "base_uri": "https://localhost:8080/",
          "height": 435
        },
        "outputId": "33a4ab58-e7dc-471b-f4e8-ce357ad24fd2"
      },
      "source": [
        "from sklearn.linear_model import LinearRegression\n",
        "\n",
        "# 4개의 모델 선언\n",
        "xgb = XGBRegressor(random_state=0)\n",
        "gbm = GradientBoostingRegressor(random_state=0)\n",
        "lgb = LGBMRegressor(random_state=0)  \n",
        "\n",
        "params = {'n_estimators': [1000, 2000]}\n",
        "\n",
        "models = [xgb, gbm, lgb] # 모형 하나 추가 함\n",
        "best_models = []\n",
        "for model in models:\n",
        "  new_model = get_best_params_model(model=model, params=params)\n",
        "  best_models.append(new_model)"
      ],
      "execution_count": null,
      "outputs": [
        {
          "output_type": "stream",
          "text": [
            "[01:59:58] WARNING: /workspace/src/objective/regression_obj.cu:152: reg:linear is now deprecated in favor of reg:squarederror.\n",
            "[02:00:01] WARNING: /workspace/src/objective/regression_obj.cu:152: reg:linear is now deprecated in favor of reg:squarederror.\n",
            "[02:00:03] WARNING: /workspace/src/objective/regression_obj.cu:152: reg:linear is now deprecated in favor of reg:squarederror.\n",
            "[02:00:05] WARNING: /workspace/src/objective/regression_obj.cu:152: reg:linear is now deprecated in favor of reg:squarederror.\n",
            "[02:00:07] WARNING: /workspace/src/objective/regression_obj.cu:152: reg:linear is now deprecated in favor of reg:squarederror.\n",
            "[02:00:09] WARNING: /workspace/src/objective/regression_obj.cu:152: reg:linear is now deprecated in favor of reg:squarederror.\n",
            "[02:00:13] WARNING: /workspace/src/objective/regression_obj.cu:152: reg:linear is now deprecated in favor of reg:squarederror.\n",
            "[02:00:17] WARNING: /workspace/src/objective/regression_obj.cu:152: reg:linear is now deprecated in favor of reg:squarederror.\n",
            "[02:00:21] WARNING: /workspace/src/objective/regression_obj.cu:152: reg:linear is now deprecated in favor of reg:squarederror.\n",
            "[02:00:25] WARNING: /workspace/src/objective/regression_obj.cu:152: reg:linear is now deprecated in favor of reg:squarederror.\n",
            "[02:00:29] WARNING: /workspace/src/objective/regression_obj.cu:152: reg:linear is now deprecated in favor of reg:squarederror.\n",
            "---- XGBRegressor ----\n",
            "GridSearchCV 최적 하이퍼 파라미터 : {'n_estimators': 1000}\n",
            "GridSearchCV 최적 평균 RMSE값 : 1.516\n",
            "Test Data RMSLE: 1.484\n",
            "---- GradientBoostingRegressor ----\n",
            "GridSearchCV 최적 하이퍼 파라미터 : {'n_estimators': 1000}\n",
            "GridSearchCV 최적 평균 RMSE값 : 1.514\n",
            "Test Data RMSLE: 1.489\n",
            "---- LGBMRegressor ----\n",
            "GridSearchCV 최적 하이퍼 파라미터 : {'n_estimators': 1000}\n",
            "GridSearchCV 최적 평균 RMSE값 : 1.625\n",
            "Test Data RMSLE: 1.570\n"
          ],
          "name": "stdout"
        }
      ]
    },
    {
      "cell_type": "markdown",
      "metadata": {
        "id": "OXH5FrurSj1o",
        "colab_type": "text"
      },
      "source": [
        "#### (7) 스태킹 알고리즘 테스트"
      ]
    },
    {
      "cell_type": "code",
      "metadata": {
        "id": "PtOqEHz0MOcg",
        "colab_type": "code",
        "colab": {
          "base_uri": "https://localhost:8080/",
          "height": 54
        },
        "outputId": "f58c84f9-35a5-463f-e1d9-eaea539ca965"
      },
      "source": [
        "# 모형 불러오기\n",
        "xgb_reg = best_models[0]\n",
        "gbm_reg = best_models[1]\n",
        "lgb_reg = best_models[2]\n",
        "\n",
        "# 예측 데이터 세트\n",
        "xgb_pred = xgb_reg.predict(X_test)\n",
        "xgb_pred = np.expm1(xgb_pred)\n",
        "\n",
        "gbm_pred = gbm_reg.predict(X_test)\n",
        "gbm_pred = np.expm1(gbm_pred)\n",
        "\n",
        "lgb_pred = lgb_reg.predict(X_test)\n",
        "lgb_pred = np.expm1(lgb_pred)\n",
        "\n",
        "pred = np.array([xgb_pred, gbm_pred, lgb_pred])\n",
        "print(pred.shape)\n",
        "\n",
        "# transpose를 이용해 행과 열의 위치 교환\n",
        "pred = np.transpose(pred)\n",
        "print(pred.shape)"
      ],
      "execution_count": null,
      "outputs": [
        {
          "output_type": "stream",
          "text": [
            "(3, 2815)\n",
            "(2815, 3)\n"
          ],
          "name": "stdout"
        }
      ]
    },
    {
      "cell_type": "code",
      "metadata": {
        "id": "43Nc4V6pMRxS",
        "colab_type": "code",
        "colab": {
          "base_uri": "https://localhost:8080/",
          "height": 35
        },
        "outputId": "3188dc0a-20b4-43cb-d27f-c6615a348ab4"
      },
      "source": [
        "final = xgb_pred*0.40 + gbm_pred*0.40 + lgb_pred*0.20\n",
        "rmsle(y_test, final)"
      ],
      "execution_count": null,
      "outputs": [
        {
          "output_type": "stream",
          "text": [
            "Test Data RMSLE: 1.481\n"
          ],
          "name": "stdout"
        }
      ]
    },
    {
      "cell_type": "markdown",
      "metadata": {
        "id": "YC8JtJxUTDMN",
        "colab_type": "text"
      },
      "source": [
        "#### (8) 예측 템플릿 작성"
      ]
    },
    {
      "cell_type": "code",
      "metadata": {
        "id": "rHkdJ4beMVBN",
        "colab_type": "code",
        "colab": {}
      },
      "source": [
        "from itertools import product\n",
        "\n",
        "# 예측 템플릿 만들기\n",
        "CARD_SIDO_NMs = df_num['CARD_SIDO_NM'].unique()\n",
        "STD_CLSS_NMs  = df_num['STD_CLSS_NM'].unique()\n",
        "HOM_SIDO_NMs  = df_num['HOM_SIDO_NM'].unique()\n",
        "AGEs          = df_num['AGE'].unique()\n",
        "SEX_CTGO_CDs  = df_num['SEX_CTGO_CD'].unique()\n",
        "FLCs          = df_num['FLC'].unique()\n",
        "years         = [2020]\n",
        "months        = [4, 7]\n",
        "\n",
        "comb_list = [CARD_SIDO_NMs, STD_CLSS_NMs,HOM_SIDO_NMs, AGEs, SEX_CTGO_CDs, FLCs, years, months]\n",
        "temp = np.array(list(product(*comb_list)))\n",
        "\n",
        "train_features = df_num.drop(['CSTMR_CNT', 'AMT', 'CNT'], axis=1)\n",
        "temp = pd.DataFrame(data=temp, columns=train_features.columns)"
      ],
      "execution_count": null,
      "outputs": []
    },
    {
      "cell_type": "code",
      "metadata": {
        "id": "zxH25jvvMYlx",
        "colab_type": "code",
        "colab": {}
      },
      "source": [
        "# 예측 데이터 세트\n",
        "xgb_pred = xgb_reg.predict(temp)\n",
        "xgb_pred = np.expm1(xgb_pred)\n",
        "\n",
        "gbm_pred = gbm_reg.predict(temp)\n",
        "gbm_pred = np.expm1(gbm_pred)\n",
        "\n",
        "lgb_pred = lgb_reg.predict(temp)\n",
        "lgb_pred = np.expm1(lgb_pred)"
      ],
      "execution_count": null,
      "outputs": []
    },
    {
      "cell_type": "code",
      "metadata": {
        "id": "E9_fXkGUTUsS",
        "colab_type": "code",
        "colab": {}
      },
      "source": [
        "final = xgb_pred*0.40 + gbm_pred*0.40 + lgb_pred*0.20\n",
        "\n",
        "temp['AMT'] = np.round(final, 0)\n",
        "temp['REG_YYMM'] = temp['year']*100 + temp['month']\n",
        "temp = temp[['REG_YYMM', 'CARD_SIDO_NM', 'STD_CLSS_NM', 'AMT']]\n",
        "temp = temp.groupby(['REG_YYMM', 'CARD_SIDO_NM', 'STD_CLSS_NM']).sum().reset_index(drop=False)"
      ],
      "execution_count": null,
      "outputs": []
    },
    {
      "cell_type": "code",
      "metadata": {
        "id": "tegfqJ-rUC_U",
        "colab_type": "code",
        "colab": {}
      },
      "source": [
        "# 디코딩 \n",
        "temp['CARD_SIDO_NM'] = encoders['CARD_SIDO_NM'].inverse_transform(temp['CARD_SIDO_NM'])\n",
        "temp['STD_CLSS_NM'] = encoders['STD_CLSS_NM'].inverse_transform(temp['STD_CLSS_NM'])"
      ],
      "execution_count": null,
      "outputs": []
    },
    {
      "cell_type": "code",
      "metadata": {
        "id": "ykkHN_ZvUILP",
        "colab_type": "code",
        "colab": {
          "base_uri": "https://localhost:8080/",
          "height": 126
        },
        "outputId": "4ca57a5a-16b0-423b-a05f-f46067f510e9"
      },
      "source": [
        "print(temp.head())"
      ],
      "execution_count": null,
      "outputs": [
        {
          "output_type": "stream",
          "text": [
            "   REG_YYMM CARD_SIDO_NM        STD_CLSS_NM          AMT\n",
            "0    202004           강원         건강보조식품 소매업  146172558.0\n",
            "1    202004           강원            골프장 운영업  292348090.0\n",
            "2    202004           강원        과실 및 채소 소매업   56831593.0\n",
            "3    202004           강원  관광 민예품 및 선물용품 소매업   13638913.0\n",
            "4    202004           강원    그외 기타 스포츠시설 운영업   13640486.0\n"
          ],
          "name": "stdout"
        }
      ]
    },
    {
      "cell_type": "markdown",
      "metadata": {
        "id": "4BLt33ErUTR_",
        "colab_type": "text"
      },
      "source": [
        "#### (9) Submission 파일 작업 및 내보내기"
      ]
    },
    {
      "cell_type": "code",
      "metadata": {
        "id": "6h3-Ov1dUNxk",
        "colab_type": "code",
        "colab": {}
      },
      "source": [
        "submission = client.query('''\n",
        "  SELECT \n",
        "    * \n",
        "  FROM `jeju-282707.jeju_data_ver1.submission` \n",
        "  ''').to_dataframe()"
      ],
      "execution_count": null,
      "outputs": []
    },
    {
      "cell_type": "code",
      "metadata": {
        "id": "1t-6SU4FUzJY",
        "colab_type": "code",
        "colab": {
          "base_uri": "https://localhost:8080/",
          "height": 126
        },
        "outputId": "aa9f90a8-0290-4831-cb6e-bc5545b43c3b"
      },
      "source": [
        "submission = submission.drop(['AMT'], axis=1)\n",
        "submission = submission.merge(temp, left_on=['REG_YYMM', 'CARD_SIDO_NM', 'STD_CLSS_NM'], right_on=['REG_YYMM', 'CARD_SIDO_NM', 'STD_CLSS_NM'], how='left')\n",
        "submission['AMT'] = submission['AMT'].fillna(0)\n",
        "print(submission.head())"
      ],
      "execution_count": null,
      "outputs": [
        {
          "output_type": "stream",
          "text": [
            "   id  REG_YYMM CARD_SIDO_NM           STD_CLSS_NM          AMT\n",
            "0   0    202004           강원            건강보조식품 소매업  146172558.0\n",
            "1   1    202004           강원               골프장 운영업  292348090.0\n",
            "2   2    202004           강원           과실 및 채소 소매업   56831593.0\n",
            "3   3    202004           강원     관광 민예품 및 선물용품 소매업   13638913.0\n",
            "4   4    202004           강원  그외 기타 분류안된 오락관련 서비스업          0.0\n"
          ],
          "name": "stdout"
        }
      ]
    },
    {
      "cell_type": "code",
      "metadata": {
        "id": "Dni9LoXsU-2J",
        "colab_type": "code",
        "colab": {}
      },
      "source": [
        "submission.to_csv('/content/drive/My Drive/Colab Notebooks/Jeju/submission.csv', encoding='utf-8-sig', index=False)"
      ],
      "execution_count": null,
      "outputs": []
    }
  ]
}
