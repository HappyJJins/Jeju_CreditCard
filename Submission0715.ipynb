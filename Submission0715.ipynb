{
  "nbformat": 4,
  "nbformat_minor": 0,
  "metadata": {
    "colab": {
      "name": "Submission0715.ipynb",
      "provenance": [],
      "collapsed_sections": [],
      "machine_shape": "hm",
      "authorship_tag": "ABX9TyNqoOLu1Hv8Dr4t7UL+jlcH",
      "include_colab_link": true
    },
    "kernelspec": {
      "name": "python3",
      "display_name": "Python 3"
    }
  },
  "cells": [
    {
      "cell_type": "markdown",
      "metadata": {
        "id": "view-in-github",
        "colab_type": "text"
      },
      "source": [
        "<a href=\"https://colab.research.google.com/github/HappyJJins/Jeju_CreditCard/blob/master/Submission0715.ipynb\" target=\"_parent\"><img src=\"https://colab.research.google.com/assets/colab-badge.svg\" alt=\"Open In Colab\"/></a>"
      ]
    },
    {
      "cell_type": "code",
      "metadata": {
        "id": "6-1HiFXjIdKn",
        "colab_type": "code",
        "colab": {
          "base_uri": "https://localhost:8080/",
          "height": 127
        },
        "outputId": "ffda1e05-2155-4d0e-b0ca-a9ad12a60c30"
      },
      "source": [
        "import os, sys\n",
        "from google.colab import drive\n",
        "\n",
        "ROOT = '/content/drive'\n",
        "drive.mount(ROOT)\n",
        "\n",
        "my_path = '/content/notebooks'\n",
        "# Colab Notebooks 안에 my_env 폴더에 패키지 저장\n",
        "os.symlink('/content/drive/My Drive/Colab Notebooks/my_env', my_path)\n",
        "sys.path.insert(0, my_path)"
      ],
      "execution_count": 1,
      "outputs": [
        {
          "output_type": "stream",
          "text": [
            "Go to this URL in a browser: https://accounts.google.com/o/oauth2/auth?client_id=947318989803-6bn6qk8qdgf4n4g3pfee6491hc0brc4i.apps.googleusercontent.com&redirect_uri=urn%3aietf%3awg%3aoauth%3a2.0%3aoob&response_type=code&scope=email%20https%3a%2f%2fwww.googleapis.com%2fauth%2fdocs.test%20https%3a%2f%2fwww.googleapis.com%2fauth%2fdrive%20https%3a%2f%2fwww.googleapis.com%2fauth%2fdrive.photos.readonly%20https%3a%2f%2fwww.googleapis.com%2fauth%2fpeopleapi.readonly\n",
            "\n",
            "Enter your authorization code:\n",
            "··········\n",
            "Mounted at /content/drive\n"
          ],
          "name": "stdout"
        }
      ]
    },
    {
      "cell_type": "code",
      "metadata": {
        "id": "mKsA11kxIui9",
        "colab_type": "code",
        "colab": {}
      },
      "source": [
        "from os.path import join\n",
        "\n",
        "MY_GOOGLE_DRIVE_PATH = '/content/drive/My Drive/Colab Notebooks/Jeju'\n",
        "PROJECT_PATH = join(ROOT, MY_GOOGLE_DRIVE_PATH)"
      ],
      "execution_count": 2,
      "outputs": []
    },
    {
      "cell_type": "code",
      "metadata": {
        "id": "MGnR-veTIxBY",
        "colab_type": "code",
        "colab": {}
      },
      "source": [
        "from google.colab import auth\n",
        "auth.authenticate_user()"
      ],
      "execution_count": 3,
      "outputs": []
    },
    {
      "cell_type": "code",
      "metadata": {
        "id": "6KHamAYYI2hn",
        "colab_type": "code",
        "colab": {
          "base_uri": "https://localhost:8080/",
          "height": 73
        },
        "outputId": "6356c5cc-35d4-46c0-c9fa-e3dc1e8d9921"
      },
      "source": [
        "from google.cloud import bigquery\n",
        "\n",
        "import pandas as pd\n",
        "import numpy as np\n",
        "import sklearn\n",
        "from sklearn.ensemble import GradientBoostingRegressor\n",
        "from sklearn.preprocessing import LabelEncoder\n",
        "\n",
        "# 평가 메트릭\n",
        "from sklearn.metrics import mean_squared_error, mean_absolute_error\n",
        "\n",
        "# 시각화\n",
        "import seaborn as sns\n",
        "color = sns.color_palette()\n",
        "sns.set_style('darkgrid')\n",
        "%matplotlib inline\n",
        "import matplotlib\n",
        "import matplotlib.pyplot as plt  # Matlab-style plotting\n",
        "\n",
        "# 통계\n",
        "from scipy import stats\n",
        "from scipy.stats import norm, skew #for some statistics\n",
        "\n",
        "from sklearn.base import BaseEstimator, TransformerMixin, RegressorMixin, clone\n",
        "from sklearn.model_selection import KFold, cross_val_score, train_test_split, GridSearchCV\n",
        "from sklearn.metrics import mean_squared_error"
      ],
      "execution_count": 4,
      "outputs": [
        {
          "output_type": "stream",
          "text": [
            "/usr/local/lib/python3.6/dist-packages/statsmodels/tools/_testing.py:19: FutureWarning: pandas.util.testing is deprecated. Use the functions in the public API at pandas.testing instead.\n",
            "  import pandas.util.testing as tm\n"
          ],
          "name": "stderr"
        }
      ]
    },
    {
      "cell_type": "markdown",
      "metadata": {
        "id": "LfnmKbAMAdnG",
        "colab_type": "text"
      },
      "source": [
        "### 1. 데이터 십만개 랜덤 샘플링\n"
      ]
    },
    {
      "cell_type": "code",
      "metadata": {
        "id": "GzfcAkiAI4fy",
        "colab_type": "code",
        "colab": {}
      },
      "source": [
        "project_id = 'jeju-282707'\n",
        "client = bigquery.Client(project=project_id)\n",
        "\n",
        "train = client.query('''\n",
        "  SELECT \n",
        "      * \n",
        "  FROM `jeju-282707.jeju_data_ver1.201901_202003_train` \n",
        "  WHERE RAND() < 1000000 / (SELECT COUNT(*) FROM `jeju-282707.jeju_data_ver1.201901_202003_train`)\n",
        "  ''').to_dataframe()"
      ],
      "execution_count": 5,
      "outputs": []
    },
    {
      "cell_type": "markdown",
      "metadata": {
        "id": "bYRLrdnxAqxl",
        "colab_type": "text"
      },
      "source": [
        "### 2. 데이터 전처리"
      ]
    },
    {
      "cell_type": "markdown",
      "metadata": {
        "id": "sDGV3bF9BtF4",
        "colab_type": "text"
      },
      "source": [
        "#### 1) 날짜처리"
      ]
    },
    {
      "cell_type": "code",
      "metadata": {
        "id": "E8-Hnut8JBsT",
        "colab_type": "code",
        "colab": {}
      },
      "source": [
        "def grap_year(data):\n",
        "    data = str(data)\n",
        "    return int(data[:4])\n",
        "\n",
        "def grap_month(data):\n",
        "    data = str(data)\n",
        "    return int(data[4:])"
      ],
      "execution_count": 6,
      "outputs": []
    },
    {
      "cell_type": "code",
      "metadata": {
        "id": "zlaN1ZQCJDo1",
        "colab_type": "code",
        "colab": {
          "base_uri": "https://localhost:8080/",
          "height": 125
        },
        "outputId": "81554722-3cdc-4682-a256-7ca0e2ba2550"
      },
      "source": [
        "data = train.copy()\n",
        "data = data.fillna('')\n",
        "data['REG_YYMM'].head()"
      ],
      "execution_count": 7,
      "outputs": [
        {
          "output_type": "execute_result",
          "data": {
            "text/plain": [
              "0    201906\n",
              "1    201901\n",
              "2    201907\n",
              "3    201906\n",
              "4    201903\n",
              "Name: REG_YYMM, dtype: int64"
            ]
          },
          "metadata": {
            "tags": []
          },
          "execution_count": 7
        }
      ]
    },
    {
      "cell_type": "code",
      "metadata": {
        "id": "lX0ymaF0JFU0",
        "colab_type": "code",
        "colab": {
          "base_uri": "https://localhost:8080/",
          "height": 204
        },
        "outputId": "c92e7e51-2f24-446c-edeb-3c5a00e5efdf"
      },
      "source": [
        "data['year'] = data['REG_YYMM'].apply(lambda x: grap_year(x))\n",
        "data['month'] = data['REG_YYMM'].apply(lambda x: grap_month(x))\n",
        "data = data.drop(['REG_YYMM'], axis=1)\n",
        "data.head()"
      ],
      "execution_count": 8,
      "outputs": [
        {
          "output_type": "execute_result",
          "data": {
            "text/html": [
              "<div>\n",
              "<style scoped>\n",
              "    .dataframe tbody tr th:only-of-type {\n",
              "        vertical-align: middle;\n",
              "    }\n",
              "\n",
              "    .dataframe tbody tr th {\n",
              "        vertical-align: top;\n",
              "    }\n",
              "\n",
              "    .dataframe thead th {\n",
              "        text-align: right;\n",
              "    }\n",
              "</style>\n",
              "<table border=\"1\" class=\"dataframe\">\n",
              "  <thead>\n",
              "    <tr style=\"text-align: right;\">\n",
              "      <th></th>\n",
              "      <th>CARD_SIDO_NM</th>\n",
              "      <th>CARD_CCG_NM</th>\n",
              "      <th>STD_CLSS_NM</th>\n",
              "      <th>HOM_SIDO_NM</th>\n",
              "      <th>HOM_CCG_NM</th>\n",
              "      <th>AGE</th>\n",
              "      <th>SEX_CTGO_CD</th>\n",
              "      <th>FLC</th>\n",
              "      <th>CSTMR_CNT</th>\n",
              "      <th>AMT</th>\n",
              "      <th>CNT</th>\n",
              "      <th>year</th>\n",
              "      <th>month</th>\n",
              "    </tr>\n",
              "  </thead>\n",
              "  <tbody>\n",
              "    <tr>\n",
              "      <th>0</th>\n",
              "      <td>서울</td>\n",
              "      <td>광진구</td>\n",
              "      <td>버스 운송업</td>\n",
              "      <td>강원</td>\n",
              "      <td>원주시</td>\n",
              "      <td>10s</td>\n",
              "      <td>2</td>\n",
              "      <td>1</td>\n",
              "      <td>3</td>\n",
              "      <td>22500</td>\n",
              "      <td>3</td>\n",
              "      <td>2019</td>\n",
              "      <td>6</td>\n",
              "    </tr>\n",
              "    <tr>\n",
              "      <th>1</th>\n",
              "      <td>강원</td>\n",
              "      <td>횡성군</td>\n",
              "      <td>슈퍼마켓</td>\n",
              "      <td>강원</td>\n",
              "      <td>횡성군</td>\n",
              "      <td>10s</td>\n",
              "      <td>1</td>\n",
              "      <td>1</td>\n",
              "      <td>7</td>\n",
              "      <td>175340</td>\n",
              "      <td>23</td>\n",
              "      <td>2019</td>\n",
              "      <td>1</td>\n",
              "    </tr>\n",
              "    <tr>\n",
              "      <th>2</th>\n",
              "      <td>경기</td>\n",
              "      <td>광명시</td>\n",
              "      <td>한식 음식점업</td>\n",
              "      <td>강원</td>\n",
              "      <td>강릉시</td>\n",
              "      <td>10s</td>\n",
              "      <td>1</td>\n",
              "      <td>1</td>\n",
              "      <td>6</td>\n",
              "      <td>86600</td>\n",
              "      <td>6</td>\n",
              "      <td>2019</td>\n",
              "      <td>7</td>\n",
              "    </tr>\n",
              "    <tr>\n",
              "      <th>3</th>\n",
              "      <td>강원</td>\n",
              "      <td>강릉시</td>\n",
              "      <td>중식 음식점업</td>\n",
              "      <td>강원</td>\n",
              "      <td>강릉시</td>\n",
              "      <td>10s</td>\n",
              "      <td>2</td>\n",
              "      <td>1</td>\n",
              "      <td>11</td>\n",
              "      <td>143400</td>\n",
              "      <td>11</td>\n",
              "      <td>2019</td>\n",
              "      <td>6</td>\n",
              "    </tr>\n",
              "    <tr>\n",
              "      <th>4</th>\n",
              "      <td>서울</td>\n",
              "      <td>중구</td>\n",
              "      <td>택시 운송업</td>\n",
              "      <td>강원</td>\n",
              "      <td>삼척시</td>\n",
              "      <td>10s</td>\n",
              "      <td>1</td>\n",
              "      <td>1</td>\n",
              "      <td>3</td>\n",
              "      <td>14920</td>\n",
              "      <td>4</td>\n",
              "      <td>2019</td>\n",
              "      <td>3</td>\n",
              "    </tr>\n",
              "  </tbody>\n",
              "</table>\n",
              "</div>"
            ],
            "text/plain": [
              "  CARD_SIDO_NM CARD_CCG_NM STD_CLSS_NM HOM_SIDO_NM  ...     AMT CNT  year  month\n",
              "0           서울         광진구      버스 운송업          강원  ...   22500   3  2019      6\n",
              "1           강원         횡성군        슈퍼마켓          강원  ...  175340  23  2019      1\n",
              "2           경기         광명시     한식 음식점업          강원  ...   86600   6  2019      7\n",
              "3           강원         강릉시     중식 음식점업          강원  ...  143400  11  2019      6\n",
              "4           서울          중구      택시 운송업          강원  ...   14920   4  2019      3\n",
              "\n",
              "[5 rows x 13 columns]"
            ]
          },
          "metadata": {
            "tags": []
          },
          "execution_count": 8
        }
      ]
    },
    {
      "cell_type": "markdown",
      "metadata": {
        "id": "EF_ySTxjB1UI",
        "colab_type": "text"
      },
      "source": [
        "#### 2) 지역민과 관광객으로 나누기"
      ]
    },
    {
      "cell_type": "code",
      "metadata": {
        "id": "MYtDz5ZZz7_y",
        "colab_type": "code",
        "colab": {}
      },
      "source": [
        "local = data[data['CARD_CCG_NM']==data['HOM_CCG_NM']].reset_index(drop=True)\n",
        "tourist = data[data['CARD_CCG_NM']!=data['HOM_CCG_NM']].reset_index(drop=True)"
      ],
      "execution_count": 9,
      "outputs": []
    },
    {
      "cell_type": "markdown",
      "metadata": {
        "id": "g7GYMkC2B6jh",
        "colab_type": "text"
      },
      "source": [
        "#### 3) 시군구 제거"
      ]
    },
    {
      "cell_type": "code",
      "metadata": {
        "id": "IjHwwQfC0E_x",
        "colab_type": "code",
        "colab": {}
      },
      "source": [
        "local, tourist = local.drop(['CARD_CCG_NM', 'HOM_CCG_NM'], axis=1), tourist.drop(['CARD_CCG_NM', 'HOM_CCG_NM'], axis=1)\n",
        "columns = ['CARD_SIDO_NM', 'STD_CLSS_NM', 'HOM_SIDO_NM', 'AGE', 'SEX_CTGO_CD', 'FLC', 'year', 'month']\n",
        "local, tourist = local.groupby(columns).sum().reset_index(drop=False), tourist.groupby(columns).sum().reset_index(drop=False)"
      ],
      "execution_count": 10,
      "outputs": []
    },
    {
      "cell_type": "code",
      "metadata": {
        "id": "Af7iR45A4kjg",
        "colab_type": "code",
        "colab": {
          "base_uri": "https://localhost:8080/",
          "height": 35
        },
        "outputId": "00d205a8-9211-48b0-cfcf-2ae2c55e02ca"
      },
      "source": [
        "len(data), len(local), len(tourist)"
      ],
      "execution_count": null,
      "outputs": [
        {
          "output_type": "execute_result",
          "data": {
            "text/plain": [
              "(1000290, 55636, 318948)"
            ]
          },
          "metadata": {
            "tags": []
          },
          "execution_count": 12
        }
      ]
    },
    {
      "cell_type": "markdown",
      "metadata": {
        "id": "CZIwPi_lCVkF",
        "colab_type": "text"
      },
      "source": [
        "#### 4) 라벨 인코딩"
      ]
    },
    {
      "cell_type": "code",
      "metadata": {
        "id": "ihmadM7IJJvY",
        "colab_type": "code",
        "colab": {}
      },
      "source": [
        "dtypes_lcl = local.dtypes\n",
        "encoders = {}\n",
        "for column in local.columns:\n",
        "    if str(dtypes_lcl[column]) == 'object':\n",
        "        encoder = LabelEncoder()\n",
        "        encoder.fit(local[column])\n",
        "        encoders[column] = encoder\n",
        "        \n",
        "lcl_num = local.copy()\n",
        "for column in encoders.keys():\n",
        "    encoder = encoders[column]\n",
        "    lcl_num[column] = encoder.transform(local[column])"
      ],
      "execution_count": 11,
      "outputs": []
    },
    {
      "cell_type": "code",
      "metadata": {
        "id": "WiGf5Wf10gfW",
        "colab_type": "code",
        "colab": {}
      },
      "source": [
        "dtypes_trst = tourist.dtypes\n",
        "encoders = {}\n",
        "for column in tourist.columns:\n",
        "    if str(dtypes_trst[column]) == 'object':\n",
        "        encoder = LabelEncoder()\n",
        "        encoder.fit(tourist[column])\n",
        "        encoders[column] = encoder\n",
        "        \n",
        "trst_num = tourist.copy()\n",
        "for column in encoders.keys():\n",
        "    encoder = encoders[column]\n",
        "    trst_num[column] = encoder.transform(tourist[column])"
      ],
      "execution_count": 12,
      "outputs": []
    },
    {
      "cell_type": "markdown",
      "metadata": {
        "id": "rtQwK1V_Cipl",
        "colab_type": "text"
      },
      "source": [
        "#### 5) 데이터셋 분리\n",
        "* 독립변수 VS 종속변수\n",
        "* Train_data VS Test_data"
      ]
    },
    {
      "cell_type": "code",
      "metadata": {
        "id": "JAmITFPSTdOP",
        "colab_type": "code",
        "colab": {
          "base_uri": "https://localhost:8080/",
          "height": 35
        },
        "outputId": "49a48b2e-93f9-4ff1-cb2c-4b7eb9d16fb3"
      },
      "source": [
        "from sklearn.model_selection import train_test_split\n",
        "\n",
        "X_lcl, y_lcl = lcl_num.loc[:, lcl_num.columns != 'AMT'], lcl_num['AMT']\n",
        "X_lcl = X_lcl.drop(['CSTMR_CNT', 'CNT'], axis=1)\n",
        "X_train_lcl, X_test_lcl, y_train_lcl, y_test_lcl = train_test_split(X_lcl, y_lcl, test_size=0.3, random_state=126, shuffle=True)\n",
        "X_train_lcl.shape, y_train_lcl.shape, X_test_lcl.shape, y_test_lcl.shape"
      ],
      "execution_count": 13,
      "outputs": [
        {
          "output_type": "execute_result",
          "data": {
            "text/plain": [
              "((38714, 8), (38714,), (16592, 8), (16592,))"
            ]
          },
          "metadata": {
            "tags": []
          },
          "execution_count": 13
        }
      ]
    },
    {
      "cell_type": "code",
      "metadata": {
        "id": "AmJhj0FJUgs0",
        "colab_type": "code",
        "colab": {
          "base_uri": "https://localhost:8080/",
          "height": 35
        },
        "outputId": "390de638-15b4-4961-b062-d526a59273de"
      },
      "source": [
        "X_trst, y_trst = trst_num.loc[:, trst_num.columns != 'AMT'], trst_num['AMT']\n",
        "X_trst = X_trst.drop(['CSTMR_CNT', 'CNT'], axis=1)\n",
        "X_train_trst, X_test_trst, y_train_trst, y_test_trst = train_test_split(X_trst, y_trst, test_size=0.3, random_state=126, shuffle=True)\n",
        "X_train_trst.shape, y_train_trst.shape, X_test_trst.shape, y_test_trst.shape"
      ],
      "execution_count": 14,
      "outputs": [
        {
          "output_type": "execute_result",
          "data": {
            "text/plain": [
              "((222750, 8), (222750,), (95465, 8), (95465,))"
            ]
          },
          "metadata": {
            "tags": []
          },
          "execution_count": 14
        }
      ]
    },
    {
      "cell_type": "markdown",
      "metadata": {
        "id": "r3wz2gfMDMIk",
        "colab_type": "text"
      },
      "source": [
        "#### 6) 종속변수의 로그변환 및 정규분포 적합"
      ]
    },
    {
      "cell_type": "code",
      "metadata": {
        "id": "pOg-4weIgjNk",
        "colab_type": "code",
        "colab": {}
      },
      "source": [
        "y_train_lcl, y_train_trst = np.log1p(y_train_lcl), np.log1p(y_train_trst)"
      ],
      "execution_count": 15,
      "outputs": []
    },
    {
      "cell_type": "code",
      "metadata": {
        "id": "3LjE7QFJLXWm",
        "colab_type": "code",
        "colab": {
          "base_uri": "https://localhost:8080/",
          "height": 627
        },
        "outputId": "4e737afd-5200-4d9a-a544-508afa8b8f75"
      },
      "source": [
        "sns.distplot(y_train_lcl, fit=norm);\n",
        "(mu, sigma) = norm.fit(y_train_lcl)\n",
        "print( '\\n mu = {:.2f} and sigma = {:.2f}\\n'.format(mu, sigma))\n",
        "plt.legend(['Normal dist. ($\\mu=$ {:.2f} and $\\sigma=$ {:.2f} )'.format(mu, sigma)],\n",
        "            loc='best')\n",
        "plt.ylabel('Frequency')\n",
        "plt.title('AMT distribution of the local')\n",
        "\n",
        "fig = plt.figure()\n",
        "res = stats.probplot(y_train_lcl, plot=plt)\n",
        "plt.show()"
      ],
      "execution_count": 16,
      "outputs": [
        {
          "output_type": "stream",
          "text": [
            "\n",
            " mu = 14.87 and sigma = 2.16\n",
            "\n"
          ],
          "name": "stdout"
        },
        {
          "output_type": "display_data",
          "data": {
            "image/png": "[encoded data removed]",
            "text/plain": [
              "<Figure size 432x288 with 1 Axes>"
            ]
          },
          "metadata": {
            "tags": [],
            "needs_background": "light"
          }
        },
        {
          "output_type": "display_data",
          "data": {
            "image/png": "[encoded data removed]",
            "text/plain": [
              "<Figure size 432x288 with 1 Axes>"
            ]
          },
          "metadata": {
            "tags": [],
            "needs_background": "light"
          }
        }
      ]
    },
    {
      "cell_type": "code",
      "metadata": {
        "id": "USUi8P06inuL",
        "colab_type": "code",
        "colab": {
          "base_uri": "https://localhost:8080/",
          "height": 627
        },
        "outputId": "7a9c6af6-f10f-4561-bf26-db1a27809690"
      },
      "source": [
        "sns.distplot(y_train_trst, fit=norm);\n",
        "(mu, sigma) = norm.fit(y_train_lcl)\n",
        "print( '\\n mu = {:.2f} and sigma = {:.2f}\\n'.format(mu, sigma))\n",
        "plt.legend(['Normal dist. ($\\mu=$ {:.2f} and $\\sigma=$ {:.2f} )'.format(mu, sigma)],\n",
        "            loc='best')\n",
        "plt.ylabel('Frequency')\n",
        "plt.title('AMT distribution of the tourist')\n",
        "\n",
        "fig = plt.figure()\n",
        "res = stats.probplot(y_train_trst, plot=plt)\n",
        "plt.show()"
      ],
      "execution_count": 17,
      "outputs": [
        {
          "output_type": "stream",
          "text": [
            "\n",
            " mu = 14.87 and sigma = 2.16\n",
            "\n"
          ],
          "name": "stdout"
        },
        {
          "output_type": "display_data",
          "data": {
            "image/png": "[encoded data removed]",
            "text/plain": [
              "<Figure size 432x288 with 1 Axes>"
            ]
          },
          "metadata": {
            "tags": [],
            "needs_background": "light"
          }
        },
        {
          "output_type": "display_data",
          "data": {
            "image/png": "[encoded data removed]",
            "text/plain": [
              "<Figure size 432x288 with 1 Axes>"
            ]
          },
          "metadata": {
            "tags": [],
            "needs_background": "light"
          }
        }
      ]
    },
    {
      "cell_type": "markdown",
      "metadata": {
        "id": "G5UEsLwcDj4d",
        "colab_type": "text"
      },
      "source": [
        "### 3. 교차검증 및 하이퍼 파라미터 튜닝"
      ]
    },
    {
      "cell_type": "markdown",
      "metadata": {
        "id": "aCGS2kyBD901",
        "colab_type": "text"
      },
      "source": [
        "#### 1) RMSLE 성능 평가"
      ]
    },
    {
      "cell_type": "code",
      "metadata": {
        "id": "Cc650Aa0jzM7",
        "colab_type": "code",
        "colab": {}
      },
      "source": [
        "def rmsle(y, pred): \n",
        "  log_y = np.log1p(y)\n",
        "  log_pred = np.log1p(pred)\n",
        "  squared_error = (log_y - log_pred)**2\n",
        "  rmsle = np.sqrt(np.mean(squared_error))\n",
        "  return print('Test Data RMSLE: {0:.3f}'.format(rmsle))"
      ],
      "execution_count": 18,
      "outputs": []
    },
    {
      "cell_type": "markdown",
      "metadata": {
        "id": "t9NgN3BeEGX1",
        "colab_type": "text"
      },
      "source": [
        "2) XGBoost, LightGBM 설치"
      ]
    },
    {
      "cell_type": "code",
      "metadata": {
        "id": "IwUkMgo3lAHq",
        "colab_type": "code",
        "colab": {}
      },
      "source": [
        "from xgboost import XGBRegressor\n",
        "from lightgbm import LGBMRegressor"
      ],
      "execution_count": 19,
      "outputs": []
    },
    {
      "cell_type": "markdown",
      "metadata": {
        "id": "6lqbVSxHEZAj",
        "colab_type": "text"
      },
      "source": [
        "3) 모형 선언 및 학습"
      ]
    },
    {
      "cell_type": "code",
      "metadata": {
        "id": "4ZpoIToqkJ_b",
        "colab_type": "code",
        "colab": {}
      },
      "source": [
        "def lcl_best_params_model(model, params):\n",
        "  cv_model = GridSearchCV(model, param_grid=params, scoring=\"neg_mean_squared_error\", cv = 5)\n",
        "  cv_model.fit(X_train_lcl, y_train_lcl)\n",
        "  print(\"----\", model.__class__.__name__, \"----\")\n",
        "  print(\"GridSearchCV 최적 하이퍼 파라미터 :\", cv_model.best_params_)\n",
        "\n",
        "  rmse = np.sqrt(-1*cv_model.best_score_)\n",
        "  print(\"GridSearchCV 최적 평균 RMSE값 :\", np.round(rmse, 3))\n",
        "\n",
        "  eval_pred = cv_model.predict(X_test_lcl)\n",
        "  eval_pred = np.expm1(eval_pred)\n",
        "  rmsle(y_test_lcl, eval_pred)\n",
        "  \n",
        "  return cv_model.best_estimator_"
      ],
      "execution_count": 20,
      "outputs": []
    },
    {
      "cell_type": "code",
      "metadata": {
        "id": "R9XiUoS2lr4y",
        "colab_type": "code",
        "colab": {}
      },
      "source": [
        "def trst_best_params_model(model, params):\n",
        "  cv_model = GridSearchCV(model, param_grid=params, scoring=\"neg_mean_squared_error\", cv = 5)\n",
        "  cv_model.fit(X_train_trst, y_train_trst)\n",
        "  print(\"----\", model.__class__.__name__, \"----\")\n",
        "  print(\"GridSearchCV 최적 하이퍼 파라미터 :\", cv_model.best_params_)\n",
        "\n",
        "  rmse = np.sqrt(-1*cv_model.best_score_)\n",
        "  print(\"GridSearchCV 최적 평균 RMSE값 :\", np.round(rmse, 3))\n",
        "\n",
        "  eval_pred = cv_model.predict(X_test_trst)\n",
        "  eval_pred = np.expm1(eval_pred)\n",
        "  rmsle(y_test_trst, eval_pred)\n",
        "  \n",
        "  return cv_model.best_estimator_"
      ],
      "execution_count": 21,
      "outputs": []
    },
    {
      "cell_type": "code",
      "metadata": {
        "id": "cNDw_D2hkO16",
        "colab_type": "code",
        "colab": {
          "base_uri": "https://localhost:8080/",
          "height": 431
        },
        "outputId": "e999a90c-a059-4dad-f778-33f14c2d874e"
      },
      "source": [
        "from sklearn.linear_model import LinearRegression\n",
        "\n",
        "xgb = XGBRegressor(random_state=0)\n",
        "gbm = GradientBoostingRegressor(random_state=0)\n",
        "lgb = LGBMRegressor(random_state=0)\n",
        "\n",
        "params = {'n_estimators': [1000, 2000]}\n",
        "\n",
        "models = [xgb, gbm, lgb]\n",
        "best_models_lcl = []\n",
        "for model in models:\n",
        "  new_model = lcl_best_params_model(model=model, params=params)\n",
        "  best_models_lcl.append(new_model)"
      ],
      "execution_count": 22,
      "outputs": [
        {
          "output_type": "stream",
          "text": [
            "[00:22:32] WARNING: /workspace/src/objective/regression_obj.cu:152: reg:linear is now deprecated in favor of reg:squarederror.\n",
            "[00:22:43] WARNING: /workspace/src/objective/regression_obj.cu:152: reg:linear is now deprecated in favor of reg:squarederror.\n",
            "[00:22:55] WARNING: /workspace/src/objective/regression_obj.cu:152: reg:linear is now deprecated in favor of reg:squarederror.\n",
            "[00:23:06] WARNING: /workspace/src/objective/regression_obj.cu:152: reg:linear is now deprecated in favor of reg:squarederror.\n",
            "[00:23:18] WARNING: /workspace/src/objective/regression_obj.cu:152: reg:linear is now deprecated in favor of reg:squarederror.\n",
            "[00:23:29] WARNING: /workspace/src/objective/regression_obj.cu:152: reg:linear is now deprecated in favor of reg:squarederror.\n",
            "[00:23:52] WARNING: /workspace/src/objective/regression_obj.cu:152: reg:linear is now deprecated in favor of reg:squarederror.\n",
            "[00:24:16] WARNING: /workspace/src/objective/regression_obj.cu:152: reg:linear is now deprecated in favor of reg:squarederror.\n",
            "[00:24:39] WARNING: /workspace/src/objective/regression_obj.cu:152: reg:linear is now deprecated in favor of reg:squarederror.\n",
            "[00:25:02] WARNING: /workspace/src/objective/regression_obj.cu:152: reg:linear is now deprecated in favor of reg:squarederror.\n",
            "[00:25:26] WARNING: /workspace/src/objective/regression_obj.cu:152: reg:linear is now deprecated in favor of reg:squarederror.\n",
            "---- XGBRegressor ----\n",
            "GridSearchCV 최적 하이퍼 파라미터 : {'n_estimators': 2000}\n",
            "GridSearchCV 최적 평균 RMSE값 : 1.286\n",
            "Test Data RMSLE: 1.279\n",
            "---- GradientBoostingRegressor ----\n",
            "GridSearchCV 최적 하이퍼 파라미터 : {'n_estimators': 2000}\n",
            "GridSearchCV 최적 평균 RMSE값 : 1.285\n",
            "Test Data RMSLE: 1.280\n",
            "---- LGBMRegressor ----\n",
            "GridSearchCV 최적 하이퍼 파라미터 : {'n_estimators': 1000}\n",
            "GridSearchCV 최적 평균 RMSE값 : 1.259\n",
            "Test Data RMSLE: 1.246\n"
          ],
          "name": "stdout"
        }
      ]
    },
    {
      "cell_type": "code",
      "metadata": {
        "id": "7vpMDxqXIi0z",
        "colab_type": "code",
        "colab": {
          "base_uri": "https://localhost:8080/",
          "height": 431
        },
        "outputId": "a738d984-cffe-4cdb-f3ce-7179516d446f"
      },
      "source": [
        "from sklearn.linear_model import LinearRegression\n",
        "\n",
        "xgb = XGBRegressor(random_state=0)\n",
        "gbm = GradientBoostingRegressor(random_state=0)\n",
        "lgb = LGBMRegressor(random_state=0)\n",
        "\n",
        "params = {'n_estimators': [1000, 2000]}\n",
        "\n",
        "models = [xgb, gbm, lgb]\n",
        "best_models_trst = []\n",
        "for model in models:\n",
        "  new_model = trst_best_params_model(model=model, params=params)\n",
        "  best_models_trst.append(new_model)"
      ],
      "execution_count": 23,
      "outputs": [
        {
          "output_type": "stream",
          "text": [
            "[00:32:16] WARNING: /workspace/src/objective/regression_obj.cu:152: reg:linear is now deprecated in favor of reg:squarederror.\n",
            "[00:33:28] WARNING: /workspace/src/objective/regression_obj.cu:152: reg:linear is now deprecated in favor of reg:squarederror.\n",
            "[00:34:41] WARNING: /workspace/src/objective/regression_obj.cu:152: reg:linear is now deprecated in favor of reg:squarederror.\n",
            "[00:35:53] WARNING: /workspace/src/objective/regression_obj.cu:152: reg:linear is now deprecated in favor of reg:squarederror.\n",
            "[00:37:05] WARNING: /workspace/src/objective/regression_obj.cu:152: reg:linear is now deprecated in favor of reg:squarederror.\n",
            "[00:38:18] WARNING: /workspace/src/objective/regression_obj.cu:152: reg:linear is now deprecated in favor of reg:squarederror.\n",
            "[00:40:43] WARNING: /workspace/src/objective/regression_obj.cu:152: reg:linear is now deprecated in favor of reg:squarederror.\n",
            "[00:43:08] WARNING: /workspace/src/objective/regression_obj.cu:152: reg:linear is now deprecated in favor of reg:squarederror.\n",
            "[00:45:33] WARNING: /workspace/src/objective/regression_obj.cu:152: reg:linear is now deprecated in favor of reg:squarederror.\n",
            "[00:47:58] WARNING: /workspace/src/objective/regression_obj.cu:152: reg:linear is now deprecated in favor of reg:squarederror.\n",
            "[00:50:23] WARNING: /workspace/src/objective/regression_obj.cu:152: reg:linear is now deprecated in favor of reg:squarederror.\n",
            "---- XGBRegressor ----\n",
            "GridSearchCV 최적 하이퍼 파라미터 : {'n_estimators': 2000}\n",
            "GridSearchCV 최적 평균 RMSE값 : 1.305\n",
            "Test Data RMSLE: 1.306\n",
            "---- GradientBoostingRegressor ----\n",
            "GridSearchCV 최적 하이퍼 파라미터 : {'n_estimators': 2000}\n",
            "GridSearchCV 최적 평균 RMSE값 : 1.308\n",
            "Test Data RMSLE: 1.309\n",
            "---- LGBMRegressor ----\n",
            "GridSearchCV 최적 하이퍼 파라미터 : {'n_estimators': 2000}\n",
            "GridSearchCV 최적 평균 RMSE값 : 1.09\n",
            "Test Data RMSLE: 1.078\n"
          ],
          "name": "stdout"
        }
      ]
    },
    {
      "cell_type": "markdown",
      "metadata": {
        "id": "a6ds-XzEFYwO",
        "colab_type": "text"
      },
      "source": [
        "#### 4) 알고리즘 테스트"
      ]
    },
    {
      "cell_type": "code",
      "metadata": {
        "id": "G5KIwk8kXnI8",
        "colab_type": "code",
        "colab": {
          "base_uri": "https://localhost:8080/",
          "height": 53
        },
        "outputId": "d3a653ba-d54e-4559-c916-05e54acb7cb4"
      },
      "source": [
        "# lcl 모형 불러오기\n",
        "xgb_reg_lcl = best_models_lcl[0]\n",
        "gbm_reg_lcl = best_models_lcl[1]\n",
        "lgb_reg_lcl = best_models_lcl[2]\n",
        "\n",
        "# 예측 데이터 세트\n",
        "xgb_pred_lcl = xgb_reg_lcl.predict(X_test_lcl)\n",
        "xgb_pred_lcl = np.expm1(xgb_pred_lcl)\n",
        "\n",
        "gbm_pred_lcl = gbm_reg_lcl.predict(X_test_lcl)\n",
        "gbm_pred_lcl = np.expm1(gbm_pred_lcl)\n",
        "\n",
        "lgb_pred_lcl = lgb_reg_lcl.predict(X_test_lcl)\n",
        "lgb_pred_lcl = np.expm1(lgb_pred_lcl)\n",
        "\n",
        "pred_lcl = np.array([xgb_pred_lcl, gbm_pred_lcl, lgb_pred_lcl])\n",
        "print(pred_lcl.shape)\n",
        "\n",
        "# transpose를 이용해 행과 열의 위치 교환\n",
        "pred_lcl = np.transpose(pred_lcl)\n",
        "print(pred_lcl.shape)"
      ],
      "execution_count": 24,
      "outputs": [
        {
          "output_type": "stream",
          "text": [
            "(3, 16592)\n",
            "(16592, 3)\n"
          ],
          "name": "stdout"
        }
      ]
    },
    {
      "cell_type": "code",
      "metadata": {
        "id": "zpHMFOGOFpED",
        "colab_type": "code",
        "colab": {
          "base_uri": "https://localhost:8080/",
          "height": 35
        },
        "outputId": "67515bef-43fa-4d24-fbbc-e14dde491120"
      },
      "source": [
        "r1_l, r2_l, r3_l = 1.279, 1.28, 1.246\n",
        "r1_l, r2_l, r3_l = r1_l/(r1_l+r2_l+r3_l), r2_l/(r1_l+r2_l+r3_l), r3_l/(r1_l+r2_l+r3_l)\n",
        "final_lcl = xgb_pred_lcl*r1_l + gbm_pred_lcl*r2_l + lgb_pred_lcl*r3_l\n",
        "rmsle(y_test_lcl, final_lcl)"
      ],
      "execution_count": 25,
      "outputs": [
        {
          "output_type": "stream",
          "text": [
            "Test Data RMSLE: 1.254\n"
          ],
          "name": "stdout"
        }
      ]
    },
    {
      "cell_type": "code",
      "metadata": {
        "id": "25eJwM6xYkkK",
        "colab_type": "code",
        "colab": {
          "base_uri": "https://localhost:8080/",
          "height": 53
        },
        "outputId": "51cdf98f-2ebf-4593-a6a9-9bc05873b97c"
      },
      "source": [
        "# trst 모형 불러오기\n",
        "xgb_reg_trst = best_models_trst[0]\n",
        "gbm_reg_trst = best_models_trst[1]\n",
        "lgb_reg_trst = best_models_trst[2]\n",
        "\n",
        "# 예측 데이터 세트\n",
        "xgb_pred_trst = xgb_reg_trst.predict(X_test_trst)\n",
        "xgb_pred_trst = np.expm1(xgb_pred_trst)\n",
        "\n",
        "gbm_pred_trst = gbm_reg_trst.predict(X_test_trst)\n",
        "gbm_pred_trst = np.expm1(gbm_pred_trst)\n",
        "\n",
        "lgb_pred_trst = lgb_reg_trst.predict(X_test_trst)\n",
        "lgb_pred_trst = np.expm1(lgb_pred_trst)\n",
        "\n",
        "pred_trst = np.array([xgb_pred_trst, gbm_pred_trst, lgb_pred_trst])\n",
        "print(pred_trst.shape)\n",
        "\n",
        "# transpose를 이용해 행과 열의 위치 교환\n",
        "pred_trst = np.transpose(pred_trst)\n",
        "print(pred_trst.shape)"
      ],
      "execution_count": 26,
      "outputs": [
        {
          "output_type": "stream",
          "text": [
            "(3, 95465)\n",
            "(95465, 3)\n"
          ],
          "name": "stdout"
        }
      ]
    },
    {
      "cell_type": "code",
      "metadata": {
        "id": "W4Kdl8b2Y_fx",
        "colab_type": "code",
        "colab": {
          "base_uri": "https://localhost:8080/",
          "height": 35
        },
        "outputId": "7f3ce1a3-04ac-44d3-d1a5-f040909daee6"
      },
      "source": [
        "r1_t, r2_t, r3_t = 1.306, 1.309, 1.078\n",
        "r1_t, r2_t, r3_t = r1_t/(r1_t+r2_t+r3_t), r2_t/(r1_t+r2_t+r3_t), r3_t/(r1_t+r2_t+r3_t)\n",
        "final_trst = xgb_pred_trst*r1_t + gbm_pred_trst*r2_t + lgb_pred_trst*r3_t\n",
        "rmsle(y_test_trst, final_trst)"
      ],
      "execution_count": 27,
      "outputs": [
        {
          "output_type": "stream",
          "text": [
            "Test Data RMSLE: 1.204\n"
          ],
          "name": "stdout"
        }
      ]
    },
    {
      "cell_type": "markdown",
      "metadata": {
        "id": "KebTcmK-F62G",
        "colab_type": "text"
      },
      "source": [
        "### 4. 예측  템플릿 만들기"
      ]
    },
    {
      "cell_type": "code",
      "metadata": {
        "id": "YGBwr1IsnpjA",
        "colab_type": "code",
        "colab": {}
      },
      "source": [
        "from itertools import product\n",
        "\n",
        "# lcl 예측 템플릿 만들기\n",
        "CARD_SIDO_NMs = lcl_num['CARD_SIDO_NM'].unique()\n",
        "STD_CLSS_NMs  = lcl_num['STD_CLSS_NM'].unique()\n",
        "HOM_SIDO_NMs  = lcl_num['HOM_SIDO_NM'].unique()\n",
        "AGEs          = lcl_num['AGE'].unique()\n",
        "SEX_CTGO_CDs  = lcl_num['SEX_CTGO_CD'].unique()\n",
        "FLCs          = lcl_num['FLC'].unique()\n",
        "years         = [2020]\n",
        "months        = [4, 7]\n",
        "\n",
        "comb_list = [CARD_SIDO_NMs, STD_CLSS_NMs,HOM_SIDO_NMs, AGEs, SEX_CTGO_CDs, FLCs, years, months]\n",
        "temp = np.array(list(product(*comb_list)))\n",
        "\n",
        "train_features = lcl_num.drop(['CSTMR_CNT', 'AMT', 'CNT'], axis=1)\n",
        "temp_lcl = pd.DataFrame(data=temp, columns=train_features.columns)"
      ],
      "execution_count": 28,
      "outputs": []
    },
    {
      "cell_type": "code",
      "metadata": {
        "id": "X4h6c6Kml44J",
        "colab_type": "code",
        "colab": {}
      },
      "source": [
        "xgb_pred_lcl = xgb_reg_lcl.predict(temp_lcl)\n",
        "xgb_pred_lcl = np.expm1(xgb_pred_lcl)\n",
        "\n",
        "gbm_pred_lcl = gbm_reg_lcl.predict(temp_lcl)\n",
        "gbm_pred_lcl = np.expm1(gbm_pred_lcl)\n",
        "\n",
        "lgb_pred_lcl = lgb_reg_lcl.predict(temp_lcl)\n",
        "lgb_pred_lcl = np.expm1(lgb_pred_lcl)"
      ],
      "execution_count": 29,
      "outputs": []
    },
    {
      "cell_type": "code",
      "metadata": {
        "id": "-X2tSHxdGwi0",
        "colab_type": "code",
        "colab": {}
      },
      "source": [
        "final_lcl = xgb_pred_lcl*r1_l + gbm_pred_lcl*r2_l + lgb_pred_lcl*r3_l\n",
        "\n",
        "temp_lcl['AMT'] = np.round(final_lcl, 0)\n",
        "temp_lcl['REG_YYMM'] = temp_lcl['year']*100 + temp_lcl['month']\n",
        "temp_lcl = temp_lcl[['REG_YYMM', 'CARD_SIDO_NM', 'STD_CLSS_NM', 'AMT']]\n",
        "temp_lcl = temp_lcl.groupby(['REG_YYMM', 'CARD_SIDO_NM', 'STD_CLSS_NM']).sum().reset_index(drop=False)"
      ],
      "execution_count": 30,
      "outputs": []
    },
    {
      "cell_type": "code",
      "metadata": {
        "id": "TIDBfXZ_G0ww",
        "colab_type": "code",
        "colab": {
          "base_uri": "https://localhost:8080/",
          "height": 204
        },
        "outputId": "00212e43-ca16-4f36-fe37-39ded4f06ba6"
      },
      "source": [
        "# 디코딩 \n",
        "temp_lcl['CARD_SIDO_NM'] = encoders['CARD_SIDO_NM'].inverse_transform(temp_lcl['CARD_SIDO_NM'])\n",
        "temp_lcl['STD_CLSS_NM'] = encoders['STD_CLSS_NM'].inverse_transform(temp_lcl['STD_CLSS_NM'])\n",
        "\n",
        "temp_lcl.head()"
      ],
      "execution_count": 31,
      "outputs": [
        {
          "output_type": "execute_result",
          "data": {
            "text/html": [
              "<div>\n",
              "<style scoped>\n",
              "    .dataframe tbody tr th:only-of-type {\n",
              "        vertical-align: middle;\n",
              "    }\n",
              "\n",
              "    .dataframe tbody tr th {\n",
              "        vertical-align: top;\n",
              "    }\n",
              "\n",
              "    .dataframe thead th {\n",
              "        text-align: right;\n",
              "    }\n",
              "</style>\n",
              "<table border=\"1\" class=\"dataframe\">\n",
              "  <thead>\n",
              "    <tr style=\"text-align: right;\">\n",
              "      <th></th>\n",
              "      <th>REG_YYMM</th>\n",
              "      <th>CARD_SIDO_NM</th>\n",
              "      <th>STD_CLSS_NM</th>\n",
              "      <th>AMT</th>\n",
              "    </tr>\n",
              "  </thead>\n",
              "  <tbody>\n",
              "    <tr>\n",
              "      <th>0</th>\n",
              "      <td>202004</td>\n",
              "      <td>강원</td>\n",
              "      <td>건강보조식품 소매업</td>\n",
              "      <td>107053515.0</td>\n",
              "    </tr>\n",
              "    <tr>\n",
              "      <th>1</th>\n",
              "      <td>202004</td>\n",
              "      <td>강원</td>\n",
              "      <td>골프장 운영업</td>\n",
              "      <td>148604829.0</td>\n",
              "    </tr>\n",
              "    <tr>\n",
              "      <th>2</th>\n",
              "      <td>202004</td>\n",
              "      <td>강원</td>\n",
              "      <td>과실 및 채소 소매업</td>\n",
              "      <td>344540457.0</td>\n",
              "    </tr>\n",
              "    <tr>\n",
              "      <th>3</th>\n",
              "      <td>202004</td>\n",
              "      <td>강원</td>\n",
              "      <td>관광 민예품 및 선물용품 소매업</td>\n",
              "      <td>27347815.0</td>\n",
              "    </tr>\n",
              "    <tr>\n",
              "      <th>4</th>\n",
              "      <td>202004</td>\n",
              "      <td>강원</td>\n",
              "      <td>그외 기타 분류안된 오락관련 서비스업</td>\n",
              "      <td>25971801.0</td>\n",
              "    </tr>\n",
              "  </tbody>\n",
              "</table>\n",
              "</div>"
            ],
            "text/plain": [
              "   REG_YYMM CARD_SIDO_NM           STD_CLSS_NM          AMT\n",
              "0    202004           강원            건강보조식품 소매업  107053515.0\n",
              "1    202004           강원               골프장 운영업  148604829.0\n",
              "2    202004           강원           과실 및 채소 소매업  344540457.0\n",
              "3    202004           강원     관광 민예품 및 선물용품 소매업   27347815.0\n",
              "4    202004           강원  그외 기타 분류안된 오락관련 서비스업   25971801.0"
            ]
          },
          "metadata": {
            "tags": []
          },
          "execution_count": 31
        }
      ]
    },
    {
      "cell_type": "code",
      "metadata": {
        "id": "XfWoSWkIIyWL",
        "colab_type": "code",
        "colab": {}
      },
      "source": [
        "# trst 예측 템플릿 만들기\n",
        "CARD_SIDO_NMs = trst_num['CARD_SIDO_NM'].unique()\n",
        "STD_CLSS_NMs  = trst_num['STD_CLSS_NM'].unique()\n",
        "HOM_SIDO_NMs  = trst_num['HOM_SIDO_NM'].unique()\n",
        "AGEs          = trst_num['AGE'].unique()\n",
        "SEX_CTGO_CDs  = trst_num['SEX_CTGO_CD'].unique()\n",
        "FLCs          = trst_num['FLC'].unique()\n",
        "years         = [2020]\n",
        "months        = [4, 7]\n",
        "\n",
        "comb_list = [CARD_SIDO_NMs, STD_CLSS_NMs,HOM_SIDO_NMs, AGEs, SEX_CTGO_CDs, FLCs, years, months]\n",
        "temp = np.array(list(product(*comb_list)))\n",
        "\n",
        "train_features = lcl_num.drop(['CSTMR_CNT', 'AMT', 'CNT'], axis=1)\n",
        "temp_trst = pd.DataFrame(data=temp, columns=train_features.columns)"
      ],
      "execution_count": 32,
      "outputs": []
    },
    {
      "cell_type": "code",
      "metadata": {
        "id": "XwuQkJwLI1eq",
        "colab_type": "code",
        "colab": {}
      },
      "source": [
        "# trst 예측 데이터 세트\n",
        "xgb_pred_trst = xgb_reg_trst.predict(temp_trst)\n",
        "xgb_pred_trst = np.expm1(xgb_pred_trst)\n",
        "\n",
        "gbm_pred_trst = gbm_reg_trst.predict(temp_trst)\n",
        "gbm_pred_trst = np.expm1(gbm_pred_trst)\n",
        "\n",
        "lgb_pred_trst = lgb_reg_trst.predict(temp_trst)\n",
        "lgb_pred_trst = np.expm1(lgb_pred_trst)"
      ],
      "execution_count": 33,
      "outputs": []
    },
    {
      "cell_type": "code",
      "metadata": {
        "id": "T32HQBKJI4Vy",
        "colab_type": "code",
        "colab": {}
      },
      "source": [
        "final_trst = xgb_pred_trst*r1_t + gbm_pred_trst*r2_t + lgb_pred_trst*r3_t\n",
        "\n",
        "temp_trst['AMT'] = np.round(final_trst, 0)\n",
        "temp_trst['REG_YYMM'] = temp_trst['year']*100 + temp_trst['month']\n",
        "temp_trst = temp_trst[['REG_YYMM', 'CARD_SIDO_NM', 'STD_CLSS_NM', 'AMT']]\n",
        "temp_trst = temp_trst.groupby(['REG_YYMM', 'CARD_SIDO_NM', 'STD_CLSS_NM']).sum().reset_index(drop=False)"
      ],
      "execution_count": 34,
      "outputs": []
    },
    {
      "cell_type": "code",
      "metadata": {
        "id": "n153FGfEI7Kn",
        "colab_type": "code",
        "colab": {
          "base_uri": "https://localhost:8080/",
          "height": 204
        },
        "outputId": "ea49d511-c1c4-479f-b6cf-02c056663b46"
      },
      "source": [
        "temp_trst['CARD_SIDO_NM'] = encoders['CARD_SIDO_NM'].inverse_transform(temp_trst['CARD_SIDO_NM'])\n",
        "temp_trst['STD_CLSS_NM'] = encoders['STD_CLSS_NM'].inverse_transform(temp_trst['STD_CLSS_NM'])\n",
        "temp_trst.head()"
      ],
      "execution_count": 35,
      "outputs": [
        {
          "output_type": "execute_result",
          "data": {
            "text/html": [
              "<div>\n",
              "<style scoped>\n",
              "    .dataframe tbody tr th:only-of-type {\n",
              "        vertical-align: middle;\n",
              "    }\n",
              "\n",
              "    .dataframe tbody tr th {\n",
              "        vertical-align: top;\n",
              "    }\n",
              "\n",
              "    .dataframe thead th {\n",
              "        text-align: right;\n",
              "    }\n",
              "</style>\n",
              "<table border=\"1\" class=\"dataframe\">\n",
              "  <thead>\n",
              "    <tr style=\"text-align: right;\">\n",
              "      <th></th>\n",
              "      <th>REG_YYMM</th>\n",
              "      <th>CARD_SIDO_NM</th>\n",
              "      <th>STD_CLSS_NM</th>\n",
              "      <th>AMT</th>\n",
              "    </tr>\n",
              "  </thead>\n",
              "  <tbody>\n",
              "    <tr>\n",
              "      <th>0</th>\n",
              "      <td>202004</td>\n",
              "      <td>강원</td>\n",
              "      <td>건강보조식품 소매업</td>\n",
              "      <td>28479484.0</td>\n",
              "    </tr>\n",
              "    <tr>\n",
              "      <th>1</th>\n",
              "      <td>202004</td>\n",
              "      <td>강원</td>\n",
              "      <td>골프장 운영업</td>\n",
              "      <td>224519114.0</td>\n",
              "    </tr>\n",
              "    <tr>\n",
              "      <th>2</th>\n",
              "      <td>202004</td>\n",
              "      <td>강원</td>\n",
              "      <td>과실 및 채소 소매업</td>\n",
              "      <td>39232658.0</td>\n",
              "    </tr>\n",
              "    <tr>\n",
              "      <th>3</th>\n",
              "      <td>202004</td>\n",
              "      <td>강원</td>\n",
              "      <td>관광 민예품 및 선물용품 소매업</td>\n",
              "      <td>9258142.0</td>\n",
              "    </tr>\n",
              "    <tr>\n",
              "      <th>4</th>\n",
              "      <td>202004</td>\n",
              "      <td>강원</td>\n",
              "      <td>그외 기타 분류안된 오락관련 서비스업</td>\n",
              "      <td>8150730.0</td>\n",
              "    </tr>\n",
              "  </tbody>\n",
              "</table>\n",
              "</div>"
            ],
            "text/plain": [
              "   REG_YYMM CARD_SIDO_NM           STD_CLSS_NM          AMT\n",
              "0    202004           강원            건강보조식품 소매업   28479484.0\n",
              "1    202004           강원               골프장 운영업  224519114.0\n",
              "2    202004           강원           과실 및 채소 소매업   39232658.0\n",
              "3    202004           강원     관광 민예품 및 선물용품 소매업    9258142.0\n",
              "4    202004           강원  그외 기타 분류안된 오락관련 서비스업    8150730.0"
            ]
          },
          "metadata": {
            "tags": []
          },
          "execution_count": 35
        }
      ]
    },
    {
      "cell_type": "code",
      "metadata": {
        "id": "0GTq-QYJI_dC",
        "colab_type": "code",
        "colab": {}
      },
      "source": [
        "sub = temp_lcl[['REG_YYMM', 'CARD_SIDO_NM', 'STD_CLSS_NM']]\n",
        "sub['AMT'] = temp_lcl['AMT'] + temp_trst['AMT']"
      ],
      "execution_count": 36,
      "outputs": []
    },
    {
      "cell_type": "markdown",
      "metadata": {
        "id": "ICMpH4sTJTir",
        "colab_type": "text"
      },
      "source": [
        "### 5. Submission 파일 작업 및 내보내기"
      ]
    },
    {
      "cell_type": "code",
      "metadata": {
        "id": "9hkp-MfqJMLo",
        "colab_type": "code",
        "colab": {}
      },
      "source": [
        "# Submission 파일 작업 및 내보내기\n",
        "submission = client.query('''\n",
        "  SELECT \n",
        "    * \n",
        "  FROM `jeju-282707.jeju_data_ver1.submission` \n",
        "  ''').to_dataframe()"
      ],
      "execution_count": 37,
      "outputs": []
    },
    {
      "cell_type": "code",
      "metadata": {
        "id": "hbMtzF9EJoS5",
        "colab_type": "code",
        "colab": {
          "base_uri": "https://localhost:8080/",
          "height": 204
        },
        "outputId": "1e18ee58-b151-40d3-84cd-75616be2cfa0"
      },
      "source": [
        "submission = submission.drop(['AMT'], axis=1)\n",
        "submission = submission.merge(sub, left_on=['REG_YYMM', 'CARD_SIDO_NM', 'STD_CLSS_NM'], right_on=['REG_YYMM', 'CARD_SIDO_NM', 'STD_CLSS_NM'], how='left')\n",
        "submission['AMT'] = submission['AMT'].fillna(0)\n",
        "\n",
        "submission.head()"
      ],
      "execution_count": 38,
      "outputs": [
        {
          "output_type": "execute_result",
          "data": {
            "text/html": [
              "<div>\n",
              "<style scoped>\n",
              "    .dataframe tbody tr th:only-of-type {\n",
              "        vertical-align: middle;\n",
              "    }\n",
              "\n",
              "    .dataframe tbody tr th {\n",
              "        vertical-align: top;\n",
              "    }\n",
              "\n",
              "    .dataframe thead th {\n",
              "        text-align: right;\n",
              "    }\n",
              "</style>\n",
              "<table border=\"1\" class=\"dataframe\">\n",
              "  <thead>\n",
              "    <tr style=\"text-align: right;\">\n",
              "      <th></th>\n",
              "      <th>id</th>\n",
              "      <th>REG_YYMM</th>\n",
              "      <th>CARD_SIDO_NM</th>\n",
              "      <th>STD_CLSS_NM</th>\n",
              "      <th>AMT</th>\n",
              "    </tr>\n",
              "  </thead>\n",
              "  <tbody>\n",
              "    <tr>\n",
              "      <th>0</th>\n",
              "      <td>0</td>\n",
              "      <td>202004</td>\n",
              "      <td>강원</td>\n",
              "      <td>건강보조식품 소매업</td>\n",
              "      <td>135532999.0</td>\n",
              "    </tr>\n",
              "    <tr>\n",
              "      <th>1</th>\n",
              "      <td>1</td>\n",
              "      <td>202004</td>\n",
              "      <td>강원</td>\n",
              "      <td>골프장 운영업</td>\n",
              "      <td>373123943.0</td>\n",
              "    </tr>\n",
              "    <tr>\n",
              "      <th>2</th>\n",
              "      <td>2</td>\n",
              "      <td>202004</td>\n",
              "      <td>강원</td>\n",
              "      <td>과실 및 채소 소매업</td>\n",
              "      <td>383773115.0</td>\n",
              "    </tr>\n",
              "    <tr>\n",
              "      <th>3</th>\n",
              "      <td>3</td>\n",
              "      <td>202004</td>\n",
              "      <td>강원</td>\n",
              "      <td>관광 민예품 및 선물용품 소매업</td>\n",
              "      <td>36605957.0</td>\n",
              "    </tr>\n",
              "    <tr>\n",
              "      <th>4</th>\n",
              "      <td>4</td>\n",
              "      <td>202004</td>\n",
              "      <td>강원</td>\n",
              "      <td>그외 기타 분류안된 오락관련 서비스업</td>\n",
              "      <td>34122531.0</td>\n",
              "    </tr>\n",
              "  </tbody>\n",
              "</table>\n",
              "</div>"
            ],
            "text/plain": [
              "   id  REG_YYMM CARD_SIDO_NM           STD_CLSS_NM          AMT\n",
              "0   0    202004           강원            건강보조식품 소매업  135532999.0\n",
              "1   1    202004           강원               골프장 운영업  373123943.0\n",
              "2   2    202004           강원           과실 및 채소 소매업  383773115.0\n",
              "3   3    202004           강원     관광 민예품 및 선물용품 소매업   36605957.0\n",
              "4   4    202004           강원  그외 기타 분류안된 오락관련 서비스업   34122531.0"
            ]
          },
          "metadata": {
            "tags": []
          },
          "execution_count": 38
        }
      ]
    },
    {
      "cell_type": "code",
      "metadata": {
        "id": "_ELiErQkJsTT",
        "colab_type": "code",
        "colab": {}
      },
      "source": [
        "submission.to_csv('/content/drive/My Drive/Colab Notebooks/Jeju/submission.csv', encoding='utf-8-sig', index=False)"
      ],
      "execution_count": 39,
      "outputs": []
    }
  ]
}