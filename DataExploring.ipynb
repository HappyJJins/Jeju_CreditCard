{
  "nbformat": 4,
  "nbformat_minor": 0,
  "metadata": {
    "colab": {
      "name": "DataExploring.ipynb",
      "provenance": [],
      "collapsed_sections": [],
      "toc_visible": true,
      "authorship_tag": "ABX9TyP/FGm6yZ0VC9lTbMLeFRu4",
      "include_colab_link": true
    },
    "kernelspec": {
      "name": "python3",
      "display_name": "Python 3"
    }
  },
  "cells": [
    {
      "cell_type": "markdown",
      "metadata": {
        "id": "view-in-github",
        "colab_type": "text"
      },
      "source": [
        "<a href=\"https://colab.research.google.com/github/HappyJJins/Jeju_CreditCard/blob/master/DataExploring.ipynb\" target=\"_parent\"><img src=\"https://colab.research.google.com/assets/colab-badge.svg\" alt=\"Open In Colab\"/></a>"
      ]
    },
    {
      "cell_type": "markdown",
      "metadata": {
        "id": "c15FBLwHATXZ",
        "colab_type": "text"
      },
      "source": [
        "### 목차\n",
        "\n",
        "I. 데이터 준비  \n",
        "&nbsp;(1) 랜덤 샘플 10000개 추출  \n",
        "\n",
        "II. 데이터 전처리  \n",
        "&nbsp;(1) 날짜 데이터 전처리  \n",
        "&nbsp;(2) 지역민과 관광객으로 나누기  \n",
        "\n",
        "III. 시각화  \n",
        "&nbsp;(1) 인덱싱  \n",
        "&nbsp;(2)지역민과 관광객 소비패턴 비교  \n",
        "  \n",
        "IV. 평가"
      ]
    },
    {
      "cell_type": "code",
      "metadata": {
        "id": "7bpXZJlgZq7D",
        "colab_type": "code",
        "colab": {
          "base_uri": "https://localhost:8080/",
          "height": 127
        },
        "outputId": "974eb9d3-b7e5-4662-8533-a801880ecedd"
      },
      "source": [
        "import os, sys\n",
        "from google.colab import drive\n",
        "\n",
        "ROOT = '/content/drive'\n",
        "drive.mount(ROOT)\n",
        "\n",
        "my_path = '/content/notebooks'\n",
        "# Colab Notebooks 안에 my_env 폴더에 패키지 저장\n",
        "os.symlink('/content/drive/My Drive/Colab Notebooks/my_env', my_path)\n",
        "sys.path.insert(0, my_path)"
      ],
      "execution_count": null,
      "outputs": [
        {
          "output_type": "stream",
          "text": [
            "Go to this URL in a browser: https://accounts.google.com/o/oauth2/auth?client_id=947318989803-6bn6qk8qdgf4n4g3pfee6491hc0brc4i.apps.googleusercontent.com&redirect_uri=urn%3aietf%3awg%3aoauth%3a2.0%3aoob&response_type=code&scope=email%20https%3a%2f%2fwww.googleapis.com%2fauth%2fdocs.test%20https%3a%2f%2fwww.googleapis.com%2fauth%2fdrive%20https%3a%2f%2fwww.googleapis.com%2fauth%2fdrive.photos.readonly%20https%3a%2f%2fwww.googleapis.com%2fauth%2fpeopleapi.readonly\n",
            "\n",
            "Enter your authorization code:\n",
            "··········\n",
            "Mounted at /content/drive\n"
          ],
          "name": "stdout"
        }
      ]
    },
    {
      "cell_type": "code",
      "metadata": {
        "id": "wjsxtTe6Z6Ml",
        "colab_type": "code",
        "colab": {}
      },
      "source": [
        "from os.path import join\n",
        "\n",
        "MY_GOOGLE_DRIVE_PATH = '/content/drive/My Drive/Colab Notebooks/Jeju'\n",
        "PROJECT_PATH = join(ROOT, MY_GOOGLE_DRIVE_PATH)"
      ],
      "execution_count": null,
      "outputs": []
    },
    {
      "cell_type": "code",
      "metadata": {
        "id": "EHCKj3bhaRIC",
        "colab_type": "code",
        "colab": {}
      },
      "source": [
        "from google.colab import auth\n",
        "auth.authenticate_user()"
      ],
      "execution_count": 1,
      "outputs": []
    },
    {
      "cell_type": "code",
      "metadata": {
        "id": "MGoBGztHafEk",
        "colab_type": "code",
        "colab": {
          "base_uri": "https://localhost:8080/",
          "height": 73
        },
        "outputId": "a69910ec-3b3f-4672-d11b-941610847ed3"
      },
      "source": [
        "from google.cloud import bigquery\n",
        "\n",
        "import pandas as pd\n",
        "import numpy as np\n",
        "import sklearn\n",
        "from sklearn.ensemble import GradientBoostingRegressor\n",
        "from sklearn.preprocessing import LabelEncoder\n",
        "\n",
        "# 평가 메트릭\n",
        "from sklearn.metrics import mean_squared_error, mean_absolute_error\n",
        "\n",
        "# 시각화\n",
        "import seaborn as sns\n",
        "color = sns.color_palette()\n",
        "sns.set_style('darkgrid')\n",
        "%matplotlib inline\n",
        "import matplotlib\n",
        "import matplotlib.pyplot as plt  # Matlab-style plotting\n",
        "\n",
        "# 통계\n",
        "from scipy import stats\n",
        "from scipy.stats import norm, skew #for some statistics\n",
        "\n",
        "from sklearn.base import BaseEstimator, TransformerMixin, RegressorMixin, clone\n",
        "from sklearn.model_selection import KFold, cross_val_score, train_test_split, GridSearchCV\n",
        "from sklearn.metrics import mean_squared_error"
      ],
      "execution_count": 3,
      "outputs": [
        {
          "output_type": "stream",
          "text": [
            "/usr/local/lib/python3.6/dist-packages/statsmodels/tools/_testing.py:19: FutureWarning: pandas.util.testing is deprecated. Use the functions in the public API at pandas.testing instead.\n",
            "  import pandas.util.testing as tm\n"
          ],
          "name": "stderr"
        }
      ]
    },
    {
      "cell_type": "markdown",
      "metadata": {
        "id": "8lo8Lc0u6qmf",
        "colab_type": "text"
      },
      "source": [
        "### I. 데이터 준비"
      ]
    },
    {
      "cell_type": "markdown",
      "metadata": {
        "id": "rxTFBYVj6vFP",
        "colab_type": "text"
      },
      "source": [
        "#### (1) 랜덤 샘플 10000개 추출"
      ]
    },
    {
      "cell_type": "code",
      "metadata": {
        "id": "SyUJXkdkamKc",
        "colab_type": "code",
        "colab": {}
      },
      "source": [
        "project_id = 'jeju-282707'\n",
        "client = bigquery.Client(project=project_id)\n",
        "\n",
        "train = client.query('''\n",
        "  SELECT \n",
        "      * \n",
        "  FROM `jeju-282707.jeju_data_ver1.201901_202003_train` \n",
        "  WHERE RAND() < 10000 / (SELECT COUNT(*) FROM `jeju-282707.jeju_data_ver1.201901_202003_train`)\n",
        "  ''').to_dataframe()"
      ],
      "execution_count": 4,
      "outputs": []
    },
    {
      "cell_type": "code",
      "metadata": {
        "id": "3xV2IHLqanGq",
        "colab_type": "code",
        "colab": {
          "base_uri": "https://localhost:8080/",
          "height": 419
        },
        "outputId": "be8b225a-6b6f-4f56-a339-6cced653f410"
      },
      "source": [
        "train"
      ],
      "execution_count": null,
      "outputs": [
        {
          "output_type": "execute_result",
          "data": {
            "text/html": [
              "<div>\n",
              "<style scoped>\n",
              "    .dataframe tbody tr th:only-of-type {\n",
              "        vertical-align: middle;\n",
              "    }\n",
              "\n",
              "    .dataframe tbody tr th {\n",
              "        vertical-align: top;\n",
              "    }\n",
              "\n",
              "    .dataframe thead th {\n",
              "        text-align: right;\n",
              "    }\n",
              "</style>\n",
              "<table border=\"1\" class=\"dataframe\">\n",
              "  <thead>\n",
              "    <tr style=\"text-align: right;\">\n",
              "      <th></th>\n",
              "      <th>REG_YYMM</th>\n",
              "      <th>CARD_SIDO_NM</th>\n",
              "      <th>CARD_CCG_NM</th>\n",
              "      <th>STD_CLSS_NM</th>\n",
              "      <th>HOM_SIDO_NM</th>\n",
              "      <th>HOM_CCG_NM</th>\n",
              "      <th>AGE</th>\n",
              "      <th>SEX_CTGO_CD</th>\n",
              "      <th>FLC</th>\n",
              "      <th>CSTMR_CNT</th>\n",
              "      <th>AMT</th>\n",
              "      <th>CNT</th>\n",
              "    </tr>\n",
              "  </thead>\n",
              "  <tbody>\n",
              "    <tr>\n",
              "      <th>0</th>\n",
              "      <td>201901</td>\n",
              "      <td>전북</td>\n",
              "      <td>익산시</td>\n",
              "      <td>체인화 편의점</td>\n",
              "      <td>강원</td>\n",
              "      <td>춘천시</td>\n",
              "      <td>20s</td>\n",
              "      <td>2</td>\n",
              "      <td>1</td>\n",
              "      <td>6</td>\n",
              "      <td>23900</td>\n",
              "      <td>7</td>\n",
              "    </tr>\n",
              "    <tr>\n",
              "      <th>1</th>\n",
              "      <td>201909</td>\n",
              "      <td>서울</td>\n",
              "      <td>구로구</td>\n",
              "      <td>체인화 편의점</td>\n",
              "      <td>강원</td>\n",
              "      <td>정선군</td>\n",
              "      <td>20s</td>\n",
              "      <td>2</td>\n",
              "      <td>1</td>\n",
              "      <td>5</td>\n",
              "      <td>38950</td>\n",
              "      <td>8</td>\n",
              "    </tr>\n",
              "    <tr>\n",
              "      <th>2</th>\n",
              "      <td>202003</td>\n",
              "      <td>강원</td>\n",
              "      <td>양양군</td>\n",
              "      <td>중식 음식점업</td>\n",
              "      <td>강원</td>\n",
              "      <td>양양군</td>\n",
              "      <td>20s</td>\n",
              "      <td>1</td>\n",
              "      <td>1</td>\n",
              "      <td>24</td>\n",
              "      <td>969000</td>\n",
              "      <td>31</td>\n",
              "    </tr>\n",
              "    <tr>\n",
              "      <th>3</th>\n",
              "      <td>201912</td>\n",
              "      <td>강원</td>\n",
              "      <td>춘천시</td>\n",
              "      <td>피자 햄버거 샌드위치 및 유사 음식점업</td>\n",
              "      <td>강원</td>\n",
              "      <td>홍천군</td>\n",
              "      <td>20s</td>\n",
              "      <td>1</td>\n",
              "      <td>2</td>\n",
              "      <td>3</td>\n",
              "      <td>45700</td>\n",
              "      <td>3</td>\n",
              "    </tr>\n",
              "    <tr>\n",
              "      <th>4</th>\n",
              "      <td>201910</td>\n",
              "      <td>경기</td>\n",
              "      <td>포천시</td>\n",
              "      <td>피자 햄버거 샌드위치 및 유사 음식점업</td>\n",
              "      <td>강원</td>\n",
              "      <td>원주시</td>\n",
              "      <td>20s</td>\n",
              "      <td>1</td>\n",
              "      <td>1</td>\n",
              "      <td>15</td>\n",
              "      <td>218400</td>\n",
              "      <td>22</td>\n",
              "    </tr>\n",
              "    <tr>\n",
              "      <th>...</th>\n",
              "      <td>...</td>\n",
              "      <td>...</td>\n",
              "      <td>...</td>\n",
              "      <td>...</td>\n",
              "      <td>...</td>\n",
              "      <td>...</td>\n",
              "      <td>...</td>\n",
              "      <td>...</td>\n",
              "      <td>...</td>\n",
              "      <td>...</td>\n",
              "      <td>...</td>\n",
              "      <td>...</td>\n",
              "    </tr>\n",
              "    <tr>\n",
              "      <th>10050</th>\n",
              "      <td>201902</td>\n",
              "      <td>충북</td>\n",
              "      <td>음성군</td>\n",
              "      <td>기타음식료품위주종합소매업</td>\n",
              "      <td>충북</td>\n",
              "      <td>괴산군</td>\n",
              "      <td>60s</td>\n",
              "      <td>1</td>\n",
              "      <td>5</td>\n",
              "      <td>18</td>\n",
              "      <td>3407190</td>\n",
              "      <td>31</td>\n",
              "    </tr>\n",
              "    <tr>\n",
              "      <th>10051</th>\n",
              "      <td>201904</td>\n",
              "      <td>충북</td>\n",
              "      <td>단양군</td>\n",
              "      <td>휴양콘도 운영업</td>\n",
              "      <td>충북</td>\n",
              "      <td>단양군</td>\n",
              "      <td>60s</td>\n",
              "      <td>1</td>\n",
              "      <td>5</td>\n",
              "      <td>36</td>\n",
              "      <td>1516600</td>\n",
              "      <td>49</td>\n",
              "    </tr>\n",
              "    <tr>\n",
              "      <th>10052</th>\n",
              "      <td>201906</td>\n",
              "      <td>충북</td>\n",
              "      <td>보은군</td>\n",
              "      <td>차량용 주유소 운영업</td>\n",
              "      <td>충북</td>\n",
              "      <td>보은군</td>\n",
              "      <td>70s</td>\n",
              "      <td>2</td>\n",
              "      <td>5</td>\n",
              "      <td>60</td>\n",
              "      <td>7910182</td>\n",
              "      <td>106</td>\n",
              "    </tr>\n",
              "    <tr>\n",
              "      <th>10053</th>\n",
              "      <td>201902</td>\n",
              "      <td>충북</td>\n",
              "      <td>청주시 흥덕구</td>\n",
              "      <td>과실 및 채소 소매업</td>\n",
              "      <td>충북</td>\n",
              "      <td>청주시 상당구</td>\n",
              "      <td>70s</td>\n",
              "      <td>1</td>\n",
              "      <td>5</td>\n",
              "      <td>9</td>\n",
              "      <td>462000</td>\n",
              "      <td>10</td>\n",
              "    </tr>\n",
              "    <tr>\n",
              "      <th>10054</th>\n",
              "      <td>201912</td>\n",
              "      <td>서울</td>\n",
              "      <td>광진구</td>\n",
              "      <td>버스 운송업</td>\n",
              "      <td>충북</td>\n",
              "      <td>청주시 상당구</td>\n",
              "      <td>70s</td>\n",
              "      <td>1</td>\n",
              "      <td>5</td>\n",
              "      <td>9</td>\n",
              "      <td>168100</td>\n",
              "      <td>13</td>\n",
              "    </tr>\n",
              "  </tbody>\n",
              "</table>\n",
              "<p>10055 rows × 12 columns</p>\n",
              "</div>"
            ],
            "text/plain": [
              "       REG_YYMM CARD_SIDO_NM CARD_CCG_NM  ... CSTMR_CNT      AMT  CNT\n",
              "0        201901           전북         익산시  ...         6    23900    7\n",
              "1        201909           서울         구로구  ...         5    38950    8\n",
              "2        202003           강원         양양군  ...        24   969000   31\n",
              "3        201912           강원         춘천시  ...         3    45700    3\n",
              "4        201910           경기         포천시  ...        15   218400   22\n",
              "...         ...          ...         ...  ...       ...      ...  ...\n",
              "10050    201902           충북         음성군  ...        18  3407190   31\n",
              "10051    201904           충북         단양군  ...        36  1516600   49\n",
              "10052    201906           충북         보은군  ...        60  7910182  106\n",
              "10053    201902           충북     청주시 흥덕구  ...         9   462000   10\n",
              "10054    201912           서울         광진구  ...         9   168100   13\n",
              "\n",
              "[10055 rows x 12 columns]"
            ]
          },
          "metadata": {
            "tags": []
          },
          "execution_count": 9
        }
      ]
    },
    {
      "cell_type": "markdown",
      "metadata": {
        "id": "kY05ecI9hrN1",
        "colab_type": "text"
      },
      "source": [
        "*   CARD_SIDO_NM : 카드이용지역_시도 (가맹점 주소 기준)\n",
        "*   CARD_CCG_NM : 카드이용지역_시군구 (가맹점 주소 기준)\n",
        "*   STD_CLSS_NM : 업종명\n",
        "*   HOM_SIDO_NM : 거주지역_시도 (고객 집주소 기준)\n",
        "*   HOM_CCG_NM : 거주지역_시군구 (고객 집주소 기준)\n",
        "*   SEX_CTGO_CD : 성별 (1: 남성, 2: 여성)\n",
        "*   FLC : 가구생애주기 (1: 1인가구, 2: 영유아자녀가구, 3: 중고생자녀가구, 4: 성인자녀가구, 5: 노년가구)\n",
        "*   CSTMR_CNT : 이용고객수 (명)\n",
        "*   AMT : 이용금액 (원)\n",
        "*   CNT : 이용건수 (건)\n",
        "\n"
      ]
    },
    {
      "cell_type": "markdown",
      "metadata": {
        "id": "Tz2coOYQ7eQ4",
        "colab_type": "text"
      },
      "source": [
        "### II. 데이터 전처리"
      ]
    },
    {
      "cell_type": "markdown",
      "metadata": {
        "id": "7GaZjWbPcKZh",
        "colab_type": "text"
      },
      "source": [
        "#### (1) 날짜 데이터 전처리"
      ]
    },
    {
      "cell_type": "code",
      "metadata": {
        "id": "ZSvceE6ecIfK",
        "colab_type": "code",
        "colab": {}
      },
      "source": [
        "def grap_year(data):\n",
        "    data = str(data)\n",
        "    return int(data[:4])\n",
        "\n",
        "def grap_month(data):\n",
        "    data = str(data)\n",
        "    return int(data[4:])"
      ],
      "execution_count": 5,
      "outputs": []
    },
    {
      "cell_type": "code",
      "metadata": {
        "id": "87y4pQ9ScQtn",
        "colab_type": "code",
        "colab": {
          "base_uri": "https://localhost:8080/",
          "height": 125
        },
        "outputId": "149b665a-d5e6-4991-a640-4d8dee662199"
      },
      "source": [
        "# 날짜 처리\n",
        "data = train.copy()\n",
        "data = data.fillna('')\n",
        "data['REG_YYMM'].head()"
      ],
      "execution_count": 6,
      "outputs": [
        {
          "output_type": "execute_result",
          "data": {
            "text/plain": [
              "0    201905\n",
              "1    201901\n",
              "2    201901\n",
              "3    201907\n",
              "4    201907\n",
              "Name: REG_YYMM, dtype: int64"
            ]
          },
          "metadata": {
            "tags": []
          },
          "execution_count": 6
        }
      ]
    },
    {
      "cell_type": "code",
      "metadata": {
        "id": "-x-ugr_tcWA9",
        "colab_type": "code",
        "colab": {
          "base_uri": "https://localhost:8080/",
          "height": 343
        },
        "outputId": "b299ba40-0ce5-48c9-eab1-89efeb592955"
      },
      "source": [
        "data['year'] = data['REG_YYMM'].apply(lambda x: grap_year(x))\n",
        "data['month'] = data['REG_YYMM'].apply(lambda x: grap_month(x))\n",
        "data = data.drop(['REG_YYMM'], axis=1)\n",
        "data.head()"
      ],
      "execution_count": 7,
      "outputs": [
        {
          "output_type": "execute_result",
          "data": {
            "text/html": [
              "<div>\n",
              "<style scoped>\n",
              "    .dataframe tbody tr th:only-of-type {\n",
              "        vertical-align: middle;\n",
              "    }\n",
              "\n",
              "    .dataframe tbody tr th {\n",
              "        vertical-align: top;\n",
              "    }\n",
              "\n",
              "    .dataframe thead th {\n",
              "        text-align: right;\n",
              "    }\n",
              "</style>\n",
              "<table border=\"1\" class=\"dataframe\">\n",
              "  <thead>\n",
              "    <tr style=\"text-align: right;\">\n",
              "      <th></th>\n",
              "      <th>CARD_SIDO_NM</th>\n",
              "      <th>CARD_CCG_NM</th>\n",
              "      <th>STD_CLSS_NM</th>\n",
              "      <th>HOM_SIDO_NM</th>\n",
              "      <th>HOM_CCG_NM</th>\n",
              "      <th>AGE</th>\n",
              "      <th>SEX_CTGO_CD</th>\n",
              "      <th>FLC</th>\n",
              "      <th>CSTMR_CNT</th>\n",
              "      <th>AMT</th>\n",
              "      <th>CNT</th>\n",
              "      <th>year</th>\n",
              "      <th>month</th>\n",
              "    </tr>\n",
              "  </thead>\n",
              "  <tbody>\n",
              "    <tr>\n",
              "      <th>0</th>\n",
              "      <td>광주</td>\n",
              "      <td>서구</td>\n",
              "      <td>서양식 음식점업</td>\n",
              "      <td>강원</td>\n",
              "      <td>강릉시</td>\n",
              "      <td>20s</td>\n",
              "      <td>2</td>\n",
              "      <td>1</td>\n",
              "      <td>8</td>\n",
              "      <td>69000</td>\n",
              "      <td>8</td>\n",
              "      <td>2019</td>\n",
              "      <td>5</td>\n",
              "    </tr>\n",
              "    <tr>\n",
              "      <th>1</th>\n",
              "      <td>경기</td>\n",
              "      <td>화성시</td>\n",
              "      <td>기타 대형 종합 소매업</td>\n",
              "      <td>강원</td>\n",
              "      <td>춘천시</td>\n",
              "      <td>20s</td>\n",
              "      <td>1</td>\n",
              "      <td>1</td>\n",
              "      <td>11</td>\n",
              "      <td>649010</td>\n",
              "      <td>20</td>\n",
              "      <td>2019</td>\n",
              "      <td>1</td>\n",
              "    </tr>\n",
              "    <tr>\n",
              "      <th>2</th>\n",
              "      <td>서울</td>\n",
              "      <td>서초구</td>\n",
              "      <td>비알콜 음료점업</td>\n",
              "      <td>강원</td>\n",
              "      <td>고성군</td>\n",
              "      <td>20s</td>\n",
              "      <td>1</td>\n",
              "      <td>1</td>\n",
              "      <td>3</td>\n",
              "      <td>35000</td>\n",
              "      <td>3</td>\n",
              "      <td>2019</td>\n",
              "      <td>1</td>\n",
              "    </tr>\n",
              "    <tr>\n",
              "      <th>3</th>\n",
              "      <td>강원</td>\n",
              "      <td>화천군</td>\n",
              "      <td>체인화 편의점</td>\n",
              "      <td>강원</td>\n",
              "      <td>양구군</td>\n",
              "      <td>20s</td>\n",
              "      <td>1</td>\n",
              "      <td>1</td>\n",
              "      <td>11</td>\n",
              "      <td>86500</td>\n",
              "      <td>12</td>\n",
              "      <td>2019</td>\n",
              "      <td>7</td>\n",
              "    </tr>\n",
              "    <tr>\n",
              "      <th>4</th>\n",
              "      <td>서울</td>\n",
              "      <td>마포구</td>\n",
              "      <td>피자 햄버거 샌드위치 및 유사 음식점업</td>\n",
              "      <td>강원</td>\n",
              "      <td>철원군</td>\n",
              "      <td>20s</td>\n",
              "      <td>1</td>\n",
              "      <td>1</td>\n",
              "      <td>10</td>\n",
              "      <td>91100</td>\n",
              "      <td>10</td>\n",
              "      <td>2019</td>\n",
              "      <td>7</td>\n",
              "    </tr>\n",
              "  </tbody>\n",
              "</table>\n",
              "</div>"
            ],
            "text/plain": [
              "  CARD_SIDO_NM CARD_CCG_NM            STD_CLSS_NM  ... CNT  year month\n",
              "0           광주          서구               서양식 음식점업  ...   8  2019     5\n",
              "1           경기         화성시           기타 대형 종합 소매업  ...  20  2019     1\n",
              "2           서울         서초구               비알콜 음료점업  ...   3  2019     1\n",
              "3           강원         화천군                체인화 편의점  ...  12  2019     7\n",
              "4           서울         마포구  피자 햄버거 샌드위치 및 유사 음식점업  ...  10  2019     7\n",
              "\n",
              "[5 rows x 13 columns]"
            ]
          },
          "metadata": {
            "tags": []
          },
          "execution_count": 7
        }
      ]
    },
    {
      "cell_type": "markdown",
      "metadata": {
        "id": "bMbeFlAVKLtb",
        "colab_type": "text"
      },
      "source": [
        "#### (2) 지역민과 관광객으로 나누기"
      ]
    },
    {
      "cell_type": "code",
      "metadata": {
        "id": "7hjb_q_0J0M7",
        "colab_type": "code",
        "colab": {}
      },
      "source": [
        "local = data[data['CARD_CCG_NM']==data['HOM_CCG_NM']]\n",
        "tourist = data[data['CARD_CCG_NM']!=data['HOM_CCG_NM']]"
      ],
      "execution_count": 8,
      "outputs": []
    },
    {
      "cell_type": "code",
      "metadata": {
        "id": "-xkA9spEKK3n",
        "colab_type": "code",
        "colab": {}
      },
      "source": [
        "lcl_amt_mean = local.groupby(['year','month']).apply(lambda x: (x.AMT/x.CNT).mean()) # 달 별 이용금액/이용건수 = 건 당 이용금액\n",
        "trst_amt_mean = tourist.groupby(['year','month']).apply(lambda x: (x.AMT/x.CNT).mean())\n",
        "lcl_amt = local.groupby(['year','month']).apply(lambda x: round(x.AMT.sum()/10000,0)) # 달 별 이용금액(만 원 단위)\n",
        "trst_amt = tourist.groupby(['year','month']).apply(lambda x: round(x.AMT.sum()/10000,0))\n",
        "lcl_cnt = local.groupby(['year','month']).CNT.sum() # 달 별 총 이용건수\n",
        "trst_cnt = tourist.groupby(['year','month']).CNT.sum()"
      ],
      "execution_count": 9,
      "outputs": []
    },
    {
      "cell_type": "code",
      "metadata": {
        "id": "XxVITN3mLeie",
        "colab_type": "code",
        "colab": {
          "base_uri": "https://localhost:8080/",
          "height": 545
        },
        "outputId": "5642514d-303c-4c01-cb66-352c18fb4ffc"
      },
      "source": [
        "ts = pd.concat([lcl_amt_mean,trst_amt_mean,lcl_amt,trst_amt,lcl_cnt,trst_cnt],axis=1)\n",
        "ts.columns = ['lcl_amt_mean','trst_amt_mean','lcl_amt','trst_amt','lcl_cnt','trst_cnt']\n",
        "ts"
      ],
      "execution_count": 10,
      "outputs": [
        {
          "output_type": "execute_result",
          "data": {
            "text/html": [
              "<div>\n",
              "<style scoped>\n",
              "    .dataframe tbody tr th:only-of-type {\n",
              "        vertical-align: middle;\n",
              "    }\n",
              "\n",
              "    .dataframe tbody tr th {\n",
              "        vertical-align: top;\n",
              "    }\n",
              "\n",
              "    .dataframe thead th {\n",
              "        text-align: right;\n",
              "    }\n",
              "</style>\n",
              "<table border=\"1\" class=\"dataframe\">\n",
              "  <thead>\n",
              "    <tr style=\"text-align: right;\">\n",
              "      <th></th>\n",
              "      <th></th>\n",
              "      <th>lcl_amt_mean</th>\n",
              "      <th>trst_amt_mean</th>\n",
              "      <th>lcl_amt</th>\n",
              "      <th>trst_amt</th>\n",
              "      <th>lcl_cnt</th>\n",
              "      <th>trst_cnt</th>\n",
              "    </tr>\n",
              "    <tr>\n",
              "      <th>year</th>\n",
              "      <th>month</th>\n",
              "      <th></th>\n",
              "      <th></th>\n",
              "      <th></th>\n",
              "      <th></th>\n",
              "      <th></th>\n",
              "      <th></th>\n",
              "    </tr>\n",
              "  </thead>\n",
              "  <tbody>\n",
              "    <tr>\n",
              "      <th rowspan=\"12\" valign=\"top\">2019</th>\n",
              "      <th>1</th>\n",
              "      <td>34445.195809</td>\n",
              "      <td>30977.581735</td>\n",
              "      <td>61051.0</td>\n",
              "      <td>64049.0</td>\n",
              "      <td>42611</td>\n",
              "      <td>30440</td>\n",
              "    </tr>\n",
              "    <tr>\n",
              "      <th>2</th>\n",
              "      <td>42387.966702</td>\n",
              "      <td>29250.780748</td>\n",
              "      <td>100172.0</td>\n",
              "      <td>80676.0</td>\n",
              "      <td>34926</td>\n",
              "      <td>41746</td>\n",
              "    </tr>\n",
              "    <tr>\n",
              "      <th>3</th>\n",
              "      <td>30834.156003</td>\n",
              "      <td>30816.706268</td>\n",
              "      <td>93663.0</td>\n",
              "      <td>84317.0</td>\n",
              "      <td>51661</td>\n",
              "      <td>50042</td>\n",
              "    </tr>\n",
              "    <tr>\n",
              "      <th>4</th>\n",
              "      <td>40666.325366</td>\n",
              "      <td>28858.509413</td>\n",
              "      <td>117750.0</td>\n",
              "      <td>73459.0</td>\n",
              "      <td>59188</td>\n",
              "      <td>34531</td>\n",
              "    </tr>\n",
              "    <tr>\n",
              "      <th>5</th>\n",
              "      <td>38142.817574</td>\n",
              "      <td>32955.034564</td>\n",
              "      <td>108352.0</td>\n",
              "      <td>121076.0</td>\n",
              "      <td>90763</td>\n",
              "      <td>83110</td>\n",
              "    </tr>\n",
              "    <tr>\n",
              "      <th>6</th>\n",
              "      <td>31669.409637</td>\n",
              "      <td>29266.296336</td>\n",
              "      <td>85108.0</td>\n",
              "      <td>62282.0</td>\n",
              "      <td>63413</td>\n",
              "      <td>35480</td>\n",
              "    </tr>\n",
              "    <tr>\n",
              "      <th>7</th>\n",
              "      <td>28978.348507</td>\n",
              "      <td>29297.232911</td>\n",
              "      <td>103983.0</td>\n",
              "      <td>61560.0</td>\n",
              "      <td>52446</td>\n",
              "      <td>30316</td>\n",
              "    </tr>\n",
              "    <tr>\n",
              "      <th>8</th>\n",
              "      <td>34460.420855</td>\n",
              "      <td>27041.618462</td>\n",
              "      <td>83435.0</td>\n",
              "      <td>74334.0</td>\n",
              "      <td>57570</td>\n",
              "      <td>45341</td>\n",
              "    </tr>\n",
              "    <tr>\n",
              "      <th>9</th>\n",
              "      <td>35559.760351</td>\n",
              "      <td>31115.178316</td>\n",
              "      <td>53857.0</td>\n",
              "      <td>70320.0</td>\n",
              "      <td>23571</td>\n",
              "      <td>46595</td>\n",
              "    </tr>\n",
              "    <tr>\n",
              "      <th>10</th>\n",
              "      <td>30492.536940</td>\n",
              "      <td>27819.445208</td>\n",
              "      <td>282170.0</td>\n",
              "      <td>70225.0</td>\n",
              "      <td>121280</td>\n",
              "      <td>32868</td>\n",
              "    </tr>\n",
              "    <tr>\n",
              "      <th>11</th>\n",
              "      <td>29638.312946</td>\n",
              "      <td>33609.285785</td>\n",
              "      <td>97953.0</td>\n",
              "      <td>71071.0</td>\n",
              "      <td>84777</td>\n",
              "      <td>44686</td>\n",
              "    </tr>\n",
              "    <tr>\n",
              "      <th>12</th>\n",
              "      <td>44420.059430</td>\n",
              "      <td>29906.058739</td>\n",
              "      <td>115198.0</td>\n",
              "      <td>80712.0</td>\n",
              "      <td>34816</td>\n",
              "      <td>33665</td>\n",
              "    </tr>\n",
              "    <tr>\n",
              "      <th rowspan=\"3\" valign=\"top\">2020</th>\n",
              "      <th>1</th>\n",
              "      <td>54021.207119</td>\n",
              "      <td>29051.782463</td>\n",
              "      <td>81525.0</td>\n",
              "      <td>62333.0</td>\n",
              "      <td>30144</td>\n",
              "      <td>34787</td>\n",
              "    </tr>\n",
              "    <tr>\n",
              "      <th>2</th>\n",
              "      <td>34756.848275</td>\n",
              "      <td>28560.015225</td>\n",
              "      <td>49555.0</td>\n",
              "      <td>80856.0</td>\n",
              "      <td>25616</td>\n",
              "      <td>36416</td>\n",
              "    </tr>\n",
              "    <tr>\n",
              "      <th>3</th>\n",
              "      <td>34325.651735</td>\n",
              "      <td>26106.962734</td>\n",
              "      <td>113896.0</td>\n",
              "      <td>45864.0</td>\n",
              "      <td>57937</td>\n",
              "      <td>23278</td>\n",
              "    </tr>\n",
              "  </tbody>\n",
              "</table>\n",
              "</div>"
            ],
            "text/plain": [
              "            lcl_amt_mean  trst_amt_mean   lcl_amt  trst_amt  lcl_cnt  trst_cnt\n",
              "year month                                                                    \n",
              "2019 1      34445.195809   30977.581735   61051.0   64049.0    42611     30440\n",
              "     2      42387.966702   29250.780748  100172.0   80676.0    34926     41746\n",
              "     3      30834.156003   30816.706268   93663.0   84317.0    51661     50042\n",
              "     4      40666.325366   28858.509413  117750.0   73459.0    59188     34531\n",
              "     5      38142.817574   32955.034564  108352.0  121076.0    90763     83110\n",
              "     6      31669.409637   29266.296336   85108.0   62282.0    63413     35480\n",
              "     7      28978.348507   29297.232911  103983.0   61560.0    52446     30316\n",
              "     8      34460.420855   27041.618462   83435.0   74334.0    57570     45341\n",
              "     9      35559.760351   31115.178316   53857.0   70320.0    23571     46595\n",
              "     10     30492.536940   27819.445208  282170.0   70225.0   121280     32868\n",
              "     11     29638.312946   33609.285785   97953.0   71071.0    84777     44686\n",
              "     12     44420.059430   29906.058739  115198.0   80712.0    34816     33665\n",
              "2020 1      54021.207119   29051.782463   81525.0   62333.0    30144     34787\n",
              "     2      34756.848275   28560.015225   49555.0   80856.0    25616     36416\n",
              "     3      34325.651735   26106.962734  113896.0   45864.0    57937     23278"
            ]
          },
          "metadata": {
            "tags": []
          },
          "execution_count": 10
        }
      ]
    },
    {
      "cell_type": "markdown",
      "metadata": {
        "id": "7G-qrduh_0-L",
        "colab_type": "text"
      },
      "source": [
        "### III. 시각화"
      ]
    },
    {
      "cell_type": "markdown",
      "metadata": {
        "id": "-B-4otT0_6p1",
        "colab_type": "text"
      },
      "source": [
        "#### (1) 인덱싱"
      ]
    },
    {
      "cell_type": "code",
      "metadata": {
        "id": "wTT9_IJLV9Yg",
        "colab_type": "code",
        "colab": {}
      },
      "source": [
        "# 2019년 1월부터 2020년 3월까지 열다섯 달 인덱싱\n",
        "index = pd.date_range(start='2019-01',periods=15,freq='m')"
      ],
      "execution_count": 11,
      "outputs": []
    },
    {
      "cell_type": "markdown",
      "metadata": {
        "id": "pM2aV6tx_9_W",
        "colab_type": "text"
      },
      "source": [
        "#### (2) 지역민과 관광객 소비패턴 비교\n",
        "* 건당 이용금액\n",
        "* 총 이용금액\n",
        "* 총 이용건수"
      ]
    },
    {
      "cell_type": "code",
      "metadata": {
        "id": "XF4YS5K8PN8M",
        "colab_type": "code",
        "colab": {
          "base_uri": "https://localhost:8080/",
          "height": 915
        },
        "outputId": "20b1e269-7a84-4879-f985-8e9b9b0a51d8"
      },
      "source": [
        "plt.subplot(311)\n",
        "plt.plot(index, ts.lcl_amt_mean, marker='s', color='r')\n",
        "plt.plot(index, ts.trst_amt_mean, marker='o', color='g')\n",
        "plt.title('Amount per using count', fontsize=20) \n",
        "plt.xlabel('Date', fontsize=14)\n",
        "plt.legend(['local','tourist'])\n",
        "\n",
        "plt.subplot(312)\n",
        "plt.plot(index, ts.lcl_amt, marker='s', color='r')\n",
        "plt.plot(index, ts.trst_amt, marker='o', color='g')\n",
        "plt.title('Amount', fontsize=20) \n",
        "plt.xlabel('Date', fontsize=14)\n",
        "plt.legend(['local','tourist'])\n",
        "\n",
        "plt.subplot(313)\n",
        "plt.plot(index, ts.lcl_cnt, marker='s', color='r')\n",
        "plt.plot(index, ts.trst_cnt, marker='o', color='g')\n",
        "plt.title('Count', fontsize=20) \n",
        "plt.xlabel('Date', fontsize=14)\n",
        "plt.legend(['local','tourist'])\n",
        "\n",
        "plt.subplots_adjust(top=3, hspace=0.25)\n",
        "plt.show()"
      ],
      "execution_count": 12,
      "outputs": [
        {
          "output_type": "display_data",
          "data": {
            "image/png": "[encoded data removed]",
            "text/plain": [
              "<Figure size 432x288 with 3 Axes>"
            ]
          },
          "metadata": {
            "tags": [],
            "needs_background": "light"
          }
        }
      ]
    },
    {
      "cell_type": "markdown",
      "metadata": {
        "id": "bT6ZQ64BAO3N",
        "colab_type": "text"
      },
      "source": [
        "### IV. 평가"
      ]
    },
    {
      "cell_type": "markdown",
      "metadata": {
        "id": "BbgOrWD1GQgf",
        "colab_type": "text"
      },
      "source": [
        "**건당 이용금액** -> 한 번 소비할 때 얼마나 통 크게 소비하는지에 대한 지표  \n",
        "<지역민>\n",
        "- 2020년 1월 대비 2월에 대폭 감소\n",
        "- 2020년 3월 코로나 여파로 소비심리가 더 위축될 줄 알았으나 최고치.(어디에 소비했는지 세세하게 들여다 볼 필요 O)\n",
        "- 2019년 8월이 두 번째로 높다. 관광객과 비교했을 때 차이가 매우 크다. 돈을 써도 관광객이 더 통 크게 소비할 것 같은데 예상 밖이다.(이 달 역시 소비내역을 들여다 볼 필요 O)\n",
        "- 2019년 11월이 최저치다.\n",
        "\n",
        "<관광객>\n",
        "- 2020년 1월이 두 번째로 높다. 그러나 코로나 여파 때문인지 2월부터 계속 하향세다.\n",
        "- 2020년 3월에 지역민과 가장 큰 차이를 보인다.\n",
        "- 2019년 11월이 최고치. 반면 지역민은 하락하는 것을 볼 수 있다.\n",
        "</br>\n",
        "</br>\n",
        "---\n",
        "**총 이용금액**  \n",
        "<지역민>\n",
        "- 2019년 10월 최고치. 관광객과 가장 큰 차이를 보인다.\n",
        "- 2019년 5월과 2020년 1월에 큰 상승세를 보이다가 다음달에 바로 급하락한다.\n",
        "\n",
        "<관광객>\n",
        "- 2020년 1월 소비가 가장 높으나 다음달부터 계속 하락세\n",
        "</br>\n",
        "</br>\n",
        "---\n",
        "**총 이용건수**  \n",
        "<지역민>\n",
        "- 2019년 10월 11월이 가장 높다가 12월에 급하락\n",
        "- 그 다음으로 2019년 5월이 가장 높으나 역시 6월에 급하락\n",
        "\n",
        "<관광객>\n",
        "- 총 이용금액과 비슷한 추이\n",
        "---\n",
        "- 코로나 여파로 인한 소비위축이 예상되는 2월과 3월을 볼 때,  \n",
        "지역민은 총 이용금액과 총 거래건수에서  \n",
        "2월은 전년 동월 대비 다소 위축된 소비를 보이지만  \n",
        "3월에 오름세를 보이며, 전년 동월과 비교했을 때도 높은 수치다. 이것이 의문.  \n",
        "관광객은  \n",
        "큰 폭은 아니지만 작은 폭 감소된 것을 볼 수 있음\n",
        "- 전반적으로 봤을 때 지역민은 들쑥날쑥한 소비 추세를 보이는 것으로 보아 계절성을 가지는 것으로 판단.\n"
      ]
    }
  ]
}
